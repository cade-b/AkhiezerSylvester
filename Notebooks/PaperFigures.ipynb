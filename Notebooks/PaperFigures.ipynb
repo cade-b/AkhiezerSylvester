{
 "cells": [
  {
   "cell_type": "code",
   "execution_count": null,
   "metadata": {},
   "outputs": [],
   "source": [
    "using Plots, Random, LaTeXStrings, BenchmarkTools, OperatorApproximation, LinearMaps, IterativeSolvers, EllipticFunctions, LinearAlgebra"
   ]
  },
  {
   "cell_type": "code",
   "execution_count": null,
   "metadata": {},
   "outputs": [],
   "source": [
    "Plots.scalefontsizes(1.5)"
   ]
  },
  {
   "cell_type": "code",
   "execution_count": null,
   "metadata": {},
   "outputs": [],
   "source": [
    "include(\"AkhiezerSylvester.jl\")\n",
    "include(\"BS_ADI.jl\")\n",
    "include(\"PolynomialKrylov.jl\")"
   ]
  },
  {
   "cell_type": "markdown",
   "metadata": {},
   "source": [
    "#### Linear maps to generate matrices"
   ]
  },
  {
   "cell_type": "code",
   "execution_count": null,
   "metadata": {},
   "outputs": [],
   "source": [
    "#functions to map [-1,1] to [a,b] and vice versa\n",
    "M = (a,b) ->  (x -> (b-a)/2*(x .+ (b+a)/(b-a)))\n",
    "iM = (a,b) -> (x -> 2/(b-a)*(x .- (b+a)/2))"
   ]
  },
  {
   "cell_type": "code",
   "execution_count": null,
   "metadata": {},
   "outputs": [],
   "source": [
    "#functions to generate evenly-spaced points on the unit circle\n",
    "mgrid = (n,L) -> -L .+ 2*L*(0:n-1)/n\n",
    "zgrid = n -> exp.(1im*mgrid(n,pi))"
   ]
  },
  {
   "cell_type": "markdown",
   "metadata": {},
   "source": [
    "### Convergence rate bounds"
   ]
  },
  {
   "cell_type": "code",
   "execution_count": null,
   "metadata": {},
   "outputs": [],
   "source": [
    "xv = 0:0.001:1\n",
    "pke(x) = (sqrt(x+1)-sqrt(2x))/(sqrt(x+1)+sqrt(2x))\n",
    "akhi(x) = (1-sqrt(x))/(1+sqrt(x))\n",
    "akhs(x) = sqrt((1-x)/(1+x))"
   ]
  },
  {
   "cell_type": "code",
   "execution_count": null,
   "metadata": {},
   "outputs": [],
   "source": [
    "p1 = plot(xv,pke,label=:\"Polynomial Krylov\")\n",
    "plot!(xv,akhs,label=:\"Method 1\",linestyle=:dash)\n",
    "plot!(xv,akhi,label=:\"Method 2\",linestyle=:dashdot)\n",
    "xlabel!(L\"\\beta\")\n",
    "ylabel!(\"Convergence rate\")"
   ]
  },
  {
   "cell_type": "code",
   "execution_count": null,
   "metadata": {},
   "outputs": [],
   "source": [
    "savefig(p1,\"conv_rate_bounds.pdf\")"
   ]
  },
  {
   "cell_type": "markdown",
   "metadata": {},
   "source": [
    "### Scalar approximation plots"
   ]
  },
  {
   "cell_type": "code",
   "execution_count": null,
   "metadata": {},
   "outputs": [],
   "source": [
    "#function that gets the rational function parameters for the 2r+1 Zolotarev rational on [-1, -beta] \\cup [beta, 1]\n",
    "function  get_zolo_params(r, beta)\n",
    "    \n",
    "    idx = 1:2*r;\n",
    "    m = 1-beta^2;\n",
    "    Kval = ellipticK(m); #matlab first out for ellipke\n",
    "    snv = jellip(\"sn\",idx*Kval/(2*r.+1); m=m);\n",
    "    cnv = jellip(\"cn\",idx*Kval/(2*r.+1); m=m);\n",
    "    c = real(beta^2*(snv.^2)./(cnv.^2))\n",
    "\n",
    "    M =  sum( log.(1.0.+c[1:2:2*r]) +log.(1.0./(1.0.+c[2:2:2*r]))); \n",
    "    M =  real(exp(M));\n",
    "\n",
    "  #=  a = zeros(1, r); \n",
    "    for j = 1:r\n",
    "        cm = c[1:2:2*r]; \n",
    "        cm[j] = []; \n",
    "        a[j] = -prod(c(2*j-1)-c(2:2:2*r))*prod(c(2*j-1)-cm);\n",
    "    end =#\n",
    "    return M, c   \n",
    "end"
   ]
  },
  {
   "cell_type": "code",
   "execution_count": null,
   "metadata": {},
   "outputs": [],
   "source": [
    "function eval_zolo(M,c, x)\n",
    "    out = ones(length(x),1); \n",
    "    for j = 1:(length(c)/2 |> Int )\n",
    "      out .*= @. (x^2 + c[2*j])/(x^2 + c[2*j-1]); \n",
    "    end\n",
    "    out = M.*x.*out;\n",
    "    return out\n",
    "end"
   ]
  },
  {
   "cell_type": "code",
   "execution_count": null,
   "metadata": {},
   "outputs": [],
   "source": [
    "function zolo_range(pts,β; iter=50)\n",
    "    vals = zeros(length(pts),ceil((iter-1)/2)+1 |> Int)\n",
    "    for j = 0:(ceil((iter-1)/2) |> Int)\n",
    "        M, c = get_zolo_params(j, β)\n",
    "        vals[:,j+1] = eval_zolo(M, c, pts)\n",
    "    end\n",
    "    vals\n",
    "end"
   ]
  },
  {
   "cell_type": "code",
   "execution_count": null,
   "metadata": {},
   "outputs": [],
   "source": [
    "#Akhiezer polynomial approximation stored at each iteration\n",
    "function poly_approx(x,avec,bvec,coeffs; maxiter=150)\n",
    "    hist = zeros(ComplexF64,maxiter,1)\n",
    "    fx = 0.\n",
    "    for k = 0:maxiter-1\n",
    "        if k == 0\n",
    "            global y = 1.\n",
    "        elseif k == 1\n",
    "            global y = (x*ym1-avec[1]*ym1)/bvec[1]\n",
    "            global ym2 = ym1\n",
    "        else\n",
    "            global y = (x*ym1-bvec[k-1]*ym2-avec[k]*ym1)/bvec[k]\n",
    "            global ym2 = ym1\n",
    "        end\n",
    "        global ym1 = y\n",
    "\n",
    "        fx += coeffs[k+1]*y\n",
    "        hist[k+1] = fx\n",
    "    end\n",
    "    hist\n",
    "end"
   ]
  },
  {
   "cell_type": "code",
   "execution_count": null,
   "metadata": {},
   "outputs": [],
   "source": [
    "function get_err(sol_mat,tru_sol)\n",
    "    err_vec = zeros(size(sol_mat,2))\n",
    "    for j = 1:size(sol_mat,2)\n",
    "        err_vec[j] = norm(sol_mat[:,j]-tru_sol,Inf)\n",
    "    end\n",
    "    err_vec\n",
    "end"
   ]
  },
  {
   "cell_type": "code",
   "execution_count": null,
   "metadata": {},
   "outputs": [],
   "source": [
    "for β in [1/8 1/4 1/2 3/4]\n",
    "    bands = [-1 -β; β 1]\n",
    "    param = get_params(bands,zeros(1,1),zeros(1,1); numiter=150)\n",
    "    npts = 50\n",
    "    pts = [range(-1, -β, npts); range(β, 1, npts)]\n",
    "\n",
    "    poly1 = mapreduce(permutedims,vcat,map(x->poly_approx(x,param.avec,param.bvec,param.α), pts))\n",
    "    zolo1 = zolo_range(pts,β)\n",
    "    tru_sgn = [-ones(npts,1); ones(npts, 1)]\n",
    "    err_poly = get_err(poly1,tru_sgn)\n",
    "    err_zolo = get_err(zolo1,tru_sgn)\n",
    "\n",
    "    p1 = plot(0:149,err_poly,yaxis=:log,label=:\"Polynomial\")\n",
    "    plot!(2:4:102,err_zolo,label=:\"Rational\")\n",
    "    xlabel!(\"Degrees of freedom\")\n",
    "    ylabel!(\"Max norm error\")\n",
    "    title!(L\"[-1,-%$β]\\cup[%$β,1]\")\n",
    "    yaxis!([1,1e-5,1e-10,1e-15])\n",
    "\n",
    "    savefig(p1,\"poly_rat_comp$β.pdf\")\n",
    "end"
   ]
  },
  {
   "cell_type": "markdown",
   "metadata": {},
   "source": [
    "### Generalized Bernstein ellipse plots"
   ]
  },
  {
   "cell_type": "code",
   "execution_count": null,
   "metadata": {},
   "outputs": [],
   "source": [
    "bands = [-2 -0.5; 0.5 6]\n",
    "\n",
    "xv = bands[1,1]-0.2:0.01:bands[end,2]+0.2\n",
    "yv = LinRange(-1.,1.,length(xv))\n",
    "make_mat(x, y) = x+im*y\n",
    "zv = @. make_mat(xv', yv);\n",
    "gzp = map(z->get_n_coeffs_and_ints_akh(bands, 0, z)[4][1],zv);"
   ]
  },
  {
   "cell_type": "code",
   "execution_count": null,
   "metadata": {},
   "outputs": [],
   "source": [
    "g0 = golden_section(bands)\n",
    "\n",
    "p1 = contour(xv, yv, real.(gzp), levels=[0.005; 0.1; 0.17; 0.25], color=:black,colorbar=false)\n",
    "contour!(xv, yv, real.(gzp), levels=[g0], linecolor=:red, linestyle=:dash, colorbar=false)\n",
    "xlabel!(L\"\\mathrm{Re}(z)\")\n",
    "ylabel!(L\"\\mathrm{Im}(z)\")"
   ]
  },
  {
   "cell_type": "code",
   "execution_count": null,
   "metadata": {},
   "outputs": [],
   "source": [
    "savefig(p1,\"bernstein1.pdf\")"
   ]
  },
  {
   "cell_type": "code",
   "execution_count": null,
   "metadata": {},
   "outputs": [],
   "source": [
    "bands = [-2 -0.1; 0.1 1.5]\n",
    "\n",
    "xv = bands[1,1]-0.2:0.01:bands[end,2]+0.2\n",
    "yv = LinRange(-0.5,0.5,length(xv))\n",
    "make_mat(x, y) = x+im*y\n",
    "zv = @. make_mat(xv', yv);\n",
    "gzp = map(z->get_n_coeffs_and_ints_akh(bands, 0, z)[4][1],zv);"
   ]
  },
  {
   "cell_type": "code",
   "execution_count": null,
   "metadata": {},
   "outputs": [],
   "source": [
    "g0 = golden_section(bands)\n",
    "\n",
    "p2 = contour(xv, yv, real.(gzp), levels=[0.005; 0.04; 0.1; 0.27], color=:black,colorbar=false)\n",
    "contour!(xv, yv, real.(gzp), levels=[g0], linecolor=:red, linestyle=:dash, colorbar=false)\n",
    "xlabel!(L\"\\mathrm{Re}(z)\")\n",
    "ylabel!(L\"\\mathrm{Im}(z)\")"
   ]
  },
  {
   "cell_type": "code",
   "execution_count": null,
   "metadata": {},
   "outputs": [],
   "source": [
    "savefig(p2,\"bernstein2.pdf\")"
   ]
  },
  {
   "cell_type": "markdown",
   "metadata": {},
   "source": [
    "### Weighted compression figures"
   ]
  },
  {
   "cell_type": "code",
   "execution_count": null,
   "metadata": {},
   "outputs": [],
   "source": [
    "Random.seed!(123)\n",
    "\n",
    "#generate dense positive definite matrices with eigenvalues \n",
    "evalrangeA = [2. 3.] #eigenvalues of A\n",
    "evalrangeB = [0.5 1.8] #eigenvalues of B\n",
    "N, N₂ = 1000, 900 #dimensions of A and B\n",
    "r = 2 #rank of RHS\n",
    "\n",
    "#generate B\n",
    "μ2 = M(evalrangeB[1],evalrangeB[2])(2*rand(N₂).-1)\n",
    "D = diagm(μ2)\n",
    "P = rand(N₂,N₂)\n",
    "Q,R = qr(P)\n",
    "B = Q\\(D*Q);\n",
    "\n",
    "#generate A\n",
    "μ = M(evalrangeA[1],evalrangeA[2])(2*rand(N).-1)\n",
    "A = diagm(μ)\n",
    "P = rand(N,N)\n",
    "Q,R = qr(P)\n",
    "A = Q\\(A*Q)\n",
    "\n",
    "bands = [-reverse(evalrangeB); evalrangeA] #eigenvalues of block system\n",
    "\n",
    "#generate RHS\n",
    "U = randn(N₂,r)\n",
    "V = randn(r,N)"
   ]
  },
  {
   "cell_type": "code",
   "execution_count": null,
   "metadata": {},
   "outputs": [],
   "source": [
    "tru_sln = sylvester(B,A,-U*V);"
   ]
  },
  {
   "cell_type": "code",
   "execution_count": null,
   "metadata": {},
   "outputs": [],
   "source": [
    "param = get_params(bands,A,-B);"
   ]
  },
  {
   "cell_type": "code",
   "execution_count": null,
   "metadata": {},
   "outputs": [],
   "source": [
    "W, Z, rJK, rWZ, erv = lowrank_block_svd(A,U,V,-B,param; get_resid=true, store_rank=true,tru_sol=tru_sln,use_weight_compress=false);"
   ]
  },
  {
   "cell_type": "code",
   "execution_count": null,
   "metadata": {},
   "outputs": [],
   "source": [
    "p1 = plot(0:param.maxiter-1,rJK,label=L\"\\mathbf{J}_k\\mathbf{K}_k\")\n",
    "plot!(1:param.maxiter,rWZ,label=L\"\\mathbf{W}_k\\mathbf{Z}_k\")\n",
    "xlabel!(L\"k\")\n",
    "ylabel!(\"Numerical rank\")"
   ]
  },
  {
   "cell_type": "code",
   "execution_count": null,
   "metadata": {},
   "outputs": [],
   "source": [
    "savefig(p1,\"rank_iter.pdf\")"
   ]
  },
  {
   "cell_type": "code",
   "execution_count": null,
   "metadata": {},
   "outputs": [],
   "source": [
    "p2 = plot(1:param.maxiter,erv,yaxis=:log,label=:false)\n",
    "yticks!([10^0, 10^-2, 10^-4, 10^-6, 10^-8, 10^-10, 10^-12, 10^-14])\n",
    "xlabel!(L\"k\")\n",
    "ylabel!(L\"\\Vert \\mathbf{W}_k\\mathbf{Z}_k-\\mathbf{X}_*\\Vert_2\")"
   ]
  },
  {
   "cell_type": "code",
   "execution_count": null,
   "metadata": {},
   "outputs": [],
   "source": [
    "savefig(p2,\"err_iter.pdf\")"
   ]
  },
  {
   "cell_type": "code",
   "execution_count": null,
   "metadata": {},
   "outputs": [],
   "source": [
    "W, Z, rJK, rWZ, erv = lowrank_block_svd(A,U,V,-B,param; get_resid=true, store_rank=true,tru_sol=tru_sln);"
   ]
  },
  {
   "cell_type": "code",
   "execution_count": null,
   "metadata": {},
   "outputs": [],
   "source": [
    "p3 = plot(0:param.maxiter-1,rJK,label=L\"\\mathbf{J}_k\\mathbf{K}_k\")\n",
    "plot!(1:param.maxiter,rWZ,label=L\"\\mathbf{W}_k\\mathbf{Z}_k\")\n",
    "xlabel!(L\"k\")\n",
    "ylabel!(\"Numerical rank\")"
   ]
  },
  {
   "cell_type": "code",
   "execution_count": null,
   "metadata": {},
   "outputs": [],
   "source": [
    "savefig(p3,\"rank_iter_new.pdf\")"
   ]
  },
  {
   "cell_type": "code",
   "execution_count": null,
   "metadata": {},
   "outputs": [],
   "source": [
    "storage1 = [rJK[i] + (i > 1 ? rJK[i-1] : 0) + (i > 2 ? rJK[i-2] : 0) for i in 1:length(rJK)]+[rWZ[i] + (i > 1 ? rWZ[i-1] : 0)  for i in 1:length(rWZ)]\n",
    "storage1 += [r; 2r; 3r*ones(length(storage1)-2)];"
   ]
  },
  {
   "cell_type": "code",
   "execution_count": null,
   "metadata": {},
   "outputs": [],
   "source": [
    "p4 = plot(1:param.maxiter,erv,yaxis=:log,label=:false)\n",
    "yticks!([10^0, 10^-2, 10^-4, 10^-6, 10^-8, 10^-10, 10^-12, 10^-14])\n",
    "xlabel!(L\"k\")\n",
    "ylabel!(L\"\\Vert \\mathbf{W}_k\\mathbf{Z}_k-\\mathbf{X}_*\\Vert_2\")"
   ]
  },
  {
   "cell_type": "code",
   "execution_count": null,
   "metadata": {},
   "outputs": [],
   "source": [
    "savefig(p4,\"err_iter_new.pdf\")"
   ]
  },
  {
   "cell_type": "markdown",
   "metadata": {},
   "source": [
    "### Repeat figures for Method 2"
   ]
  },
  {
   "cell_type": "code",
   "execution_count": null,
   "metadata": {},
   "outputs": [],
   "source": [
    "params_inv = get_params_inv(bands,A,B)"
   ]
  },
  {
   "cell_type": "code",
   "execution_count": null,
   "metadata": {},
   "outputs": [],
   "source": [
    "W, Z, rJK, rWZ, erv = sylv_operator_inv_low_rank(A,U,V,-B,params_inv; get_resid=true, store_rank=true,tru_sol=tru_sln,use_weight_compress=false);"
   ]
  },
  {
   "cell_type": "code",
   "execution_count": null,
   "metadata": {},
   "outputs": [],
   "source": [
    "p1 = plot(0:params_inv.maxiter-1,rJK,label=L\"\\mathbf{J}_k\\mathbf{K}_k\")\n",
    "plot!(1:params_inv.maxiter,rWZ,label=L\"\\mathbf{W}_k\\mathbf{Z}_k\")\n",
    "xlabel!(L\"k\")\n",
    "ylabel!(\"Numerical rank\")"
   ]
  },
  {
   "cell_type": "code",
   "execution_count": null,
   "metadata": {},
   "outputs": [],
   "source": [
    "savefig(p1,\"rank_iter2.pdf\")"
   ]
  },
  {
   "cell_type": "code",
   "execution_count": null,
   "metadata": {},
   "outputs": [],
   "source": [
    "p2 = plot(1:params_inv.maxiter,erv,yaxis=:log,label=:false)\n",
    "yticks!([10^0, 10^-2, 10^-4, 10^-6, 10^-8, 10^-10, 10^-12, 10^-14])\n",
    "xlabel!(L\"k\")\n",
    "ylabel!(L\"\\Vert \\mathbf{W}_k\\mathbf{Z}_k-\\mathbf{X}_*\\Vert_F\")"
   ]
  },
  {
   "cell_type": "code",
   "execution_count": null,
   "metadata": {},
   "outputs": [],
   "source": [
    "savefig(p2,\"err_iter2.pdf\")"
   ]
  },
  {
   "cell_type": "code",
   "execution_count": null,
   "metadata": {},
   "outputs": [],
   "source": [
    "W, Z, rJK, rWZ, erv = sylv_operator_inv_low_rank(A,U,V,-B,params_inv; get_resid=true, store_rank=true,tru_sol=tru_sln);"
   ]
  },
  {
   "cell_type": "code",
   "execution_count": null,
   "metadata": {},
   "outputs": [],
   "source": [
    "p3 = plot(0:params_inv.maxiter-1,rJK,label=L\"\\mathbf{J}_k\\mathbf{K}_k\")\n",
    "plot!(1:params_inv.maxiter,rWZ,label=L\"\\mathbf{W}_k\\mathbf{Z}_k\")\n",
    "xlabel!(L\"k\")\n",
    "ylabel!(\"Numerical rank\")"
   ]
  },
  {
   "cell_type": "code",
   "execution_count": null,
   "metadata": {},
   "outputs": [],
   "source": [
    "savefig(p3,\"rank_iter_new2.pdf\")"
   ]
  },
  {
   "cell_type": "code",
   "execution_count": null,
   "metadata": {},
   "outputs": [],
   "source": [
    "p4 = plot(1:params_inv.maxiter,erv,yaxis=:log,label=:false)\n",
    "yticks!([10^0, 10^-2, 10^-4, 10^-6, 10^-8, 10^-10, 10^-12, 10^-14])\n",
    "xlabel!(L\"k\")\n",
    "ylabel!(L\"\\Vert \\mathbf{W}_k\\mathbf{Z}_k-\\mathbf{X}_*\\Vert_F\")"
   ]
  },
  {
   "cell_type": "code",
   "execution_count": null,
   "metadata": {},
   "outputs": [],
   "source": [
    "savefig(p4,\"err_iter_new2.pdf\")"
   ]
  },
  {
   "cell_type": "code",
   "execution_count": null,
   "metadata": {},
   "outputs": [],
   "source": [
    "params_new = AkhParamsInv(params_inv.a,params_inv.b,param.maxiter,params_inv.conv_rate)"
   ]
  },
  {
   "cell_type": "code",
   "execution_count": null,
   "metadata": {},
   "outputs": [],
   "source": [
    "W, Z, rJK, rWZ = sylv_operator_inv_low_rank(A,U,V,-B,params_new;store_rank=true);"
   ]
  },
  {
   "cell_type": "code",
   "execution_count": null,
   "metadata": {},
   "outputs": [],
   "source": [
    "storage2 = [rJK[i] + (i > 1 ? rJK[i-1] : 0) + (i > 2 ? rJK[i-2] : 0) for i in 1:length(rJK)]+[rWZ[i] + (i > 1 ? rWZ[i-1] : 0)  for i in 1:length(rWZ)];"
   ]
  },
  {
   "cell_type": "code",
   "execution_count": null,
   "metadata": {},
   "outputs": [],
   "source": [
    "#intro plot\n",
    "p4 = plot(1:param.maxiter,(N+N₂)*2r*(1:param.maxiter),label=:\"Polynomial Krylov\",legend=:top)\n",
    "plot!(1:param.maxiter,2(N+N₂)*storage1,label=:\"Method 1\",linestyle=:dash)\n",
    "plot!(1:param.maxiter,2(N+N₂)*storage2,label=:\"Method 2\",linestyle=:dashdot)\n",
    "xlabel!(\"Iteration\")\n",
    "ylabel!(\"Stored entries\")"
   ]
  },
  {
   "cell_type": "code",
   "execution_count": null,
   "metadata": {},
   "outputs": [],
   "source": [
    "savefig(p4,\"storage.pdf\")"
   ]
  },
  {
   "cell_type": "markdown",
   "metadata": {},
   "source": [
    "### Convergence heuristic figures"
   ]
  },
  {
   "cell_type": "code",
   "execution_count": null,
   "metadata": {},
   "outputs": [],
   "source": [
    "bands = [-1.8 -0.5; 2. 3.]"
   ]
  },
  {
   "cell_type": "code",
   "execution_count": null,
   "metadata": {},
   "outputs": [],
   "source": [
    "gt = golden_section(bands)\n",
    "egt = exp(gt)\n",
    "numiter = ceil(-log(egt,1e-16/5)) |> Int\n",
    "num_quad_pts = 800\n",
    "circ_size = 1.25\n",
    "\n",
    "cc(j) = (bands[j,1]+bands[j,2])/2\n",
    "rr(j) = circ_size*(bands[j,2]-bands[j,1])/2\n",
    "\n",
    "ctrpts = [] #quadrature nodes\n",
    "ptsper = [0; 0]\n",
    "weights = [] #quadrature weights\n",
    "total_length = sum(bands[:,2]-bands[:,1])\n",
    "for j = 1:2\n",
    "    ptsper[j] = round(num_quad_pts*(bands[j,2]-bands[j,1])/total_length)\n",
    "    append!(ctrpts,rr(j)*zgrid(ptsper[j]).+cc(j) .|> Complex)\n",
    "    append!(weights,2π*im*rr(j)*(zgrid(ptsper[j]))/ptsper[j] .|> Complex)\n",
    "end\n",
    "sgnpts = [-ones(ptsper[1]);ones(ptsper[2])]\n",
    "\n",
    "(avec,bvec,ints) = get_n_coeffs_and_ints_akh(bands, numiter, ctrpts)\n",
    "\n",
    "α = zeros(ComplexF64,numiter+1)\n",
    "for j = 1:length(ctrpts)\n",
    "    α -= sgnpts[j]*weights[j]*ints[:,j]\n",
    "end"
   ]
  },
  {
   "cell_type": "code",
   "execution_count": null,
   "metadata": {},
   "outputs": [],
   "source": [
    "p0 = plot(0:numiter,abs.(real.(α[1:numiter+1])),yaxis=:log,label=L\"|\\alpha_k|\")\n",
    "plot!(0:numiter,5egt.^(-(0:numiter)),label=L\"5\\mathrm{e}^{-k\\mathrm{Re}\\mathfrak{g}(z^*)}\")\n",
    "yticks!([10^0, 10^-5, 10^-10, 10^-15])\n",
    "xlabel!(L\"k\")\n",
    "title!(L\"[-1.8,-0.5]\\cup[2,3]\")"
   ]
  },
  {
   "cell_type": "code",
   "execution_count": null,
   "metadata": {},
   "outputs": [],
   "source": [
    "savefig(p0,\"coeffs_rate.pdf\")"
   ]
  },
  {
   "cell_type": "code",
   "execution_count": null,
   "metadata": {},
   "outputs": [],
   "source": [
    "bands = [-1.8 -0.1; 0.1 3]"
   ]
  },
  {
   "cell_type": "code",
   "execution_count": null,
   "metadata": {},
   "outputs": [],
   "source": [
    "gt = golden_section(bands)\n",
    "egt = exp(gt)\n",
    "numiter = ceil(-log(egt,1e-16/5)) |> Int\n",
    "num_quad_pts = 2000\n",
    "circ_size = 1.05\n",
    "\n",
    "cc(j) = (bands[j,1]+bands[j,2])/2\n",
    "rr(j) = circ_size*(bands[j,2]-bands[j,1])/2\n",
    "\n",
    "ctrpts = [] #quadrature nodes\n",
    "ptsper = [0; 0]\n",
    "weights = [] #quadrature weights\n",
    "total_length = sum(bands[:,2]-bands[:,1])\n",
    "for j = 1:2\n",
    "    ptsper[j] = round(num_quad_pts*(bands[j,2]-bands[j,1])/total_length)\n",
    "    append!(ctrpts,rr(j)*zgrid(ptsper[j]).+cc(j) .|> Complex)\n",
    "    append!(weights,2π*im*rr(j)*(zgrid(ptsper[j]))/ptsper[j] .|> Complex)\n",
    "end\n",
    "sgnpts = [-ones(ptsper[1]);ones(ptsper[2])]\n",
    "\n",
    "(avec,bvec,ints) = get_n_coeffs_and_ints_akh(bands, numiter, ctrpts)\n",
    "\n",
    "α = zeros(ComplexF64,numiter+1)\n",
    "for j = 1:length(ctrpts)\n",
    "    α -= sgnpts[j]*weights[j]*ints[:,j]\n",
    "end"
   ]
  },
  {
   "cell_type": "code",
   "execution_count": null,
   "metadata": {},
   "outputs": [],
   "source": [
    "p00 = plot(0:numiter,abs.(real.(α[1:numiter+1])),yaxis=:log,label=L\"|\\alpha_k|\")\n",
    "plot!(0:numiter,5egt.^(-(0:numiter)),label=L\"5\\mathrm{e}^{-k\\mathrm{Re}\\mathfrak{g}(z^*)}\")\n",
    "yticks!([10^0, 10^-5, 10^-10, 10^-15])\n",
    "xlabel!(L\"k\")\n",
    "title!(L\"[-1.8,-0.1]\\cup[0.1,3]\")"
   ]
  },
  {
   "cell_type": "code",
   "execution_count": null,
   "metadata": {},
   "outputs": [],
   "source": [
    "savefig(p00,\"coeffs_rate_close.pdf\")"
   ]
  },
  {
   "cell_type": "code",
   "execution_count": null,
   "metadata": {},
   "outputs": [],
   "source": [
    "Random.seed!(123)\n",
    "\n",
    "N, N₂ = 200, 200 #dimensions of A and B\n",
    "r = 2 #rank of RHS\n",
    "\n",
    "evalrangeA = [2. 3.] #eigenvalues of A\n",
    "evalrangeB = [0.5 1.8] #eigenvalues of B\n",
    "\n",
    "bands = [-reverse(evalrangeB); evalrangeA]\n",
    "\n",
    "#generate B\n",
    "μ2 = M(evalrangeB[1],evalrangeB[2])(2*rand(N₂).-1)\n",
    "D = diagm(μ2)\n",
    "P = rand(N₂,N₂)\n",
    "Q,R = qr(P)\n",
    "B = Q\\(D*Q);\n",
    "\n",
    "#generate A\n",
    "μ = M(evalrangeA[1],evalrangeA[2])(2*rand(N).-1)\n",
    "A = diagm(μ)\n",
    "P = rand(N,N)\n",
    "Q,R = qr(P)\n",
    "A = Q\\(A*Q)\n",
    "\n",
    "#generate RHS\n",
    "U = randn(N₂,r)\n",
    "V = randn(r,N)\n",
    "\n",
    "tru_sol = sylvester(B,A,-U*V);"
   ]
  },
  {
   "cell_type": "code",
   "execution_count": null,
   "metadata": {},
   "outputs": [],
   "source": [
    "param = get_params(bands,A,-B)\n",
    "W, Z, erv = lowrank_block_svd(A,U,V,-B,param; get_resid=true, tru_sol=tru_sol);"
   ]
  },
  {
   "cell_type": "code",
   "execution_count": null,
   "metadata": {},
   "outputs": [],
   "source": [
    "p3 = plot(1:param.maxiter,erv,yaxis=:log,label=\"Errors\")\n",
    "yticks!(([10^0, 10^-2, 10^-4, 10^-6, 10^-8, 10^-10, 10^-12, 10^-14]))\n",
    "xlabel!(L\"k\")\n",
    "ylabel!(L\"\\Vert \\mathbf{X}_k-\\mathbf{X}_*\\Vert_2\")\n",
    "plot!(0:param.maxiter,(5(N+N₂)/(1-param.conv_rate))*param.conv_rate.^(0:param.maxiter),label=\"Reference line\")\n",
    "title!(L\"m,n=200\")"
   ]
  },
  {
   "cell_type": "code",
   "execution_count": null,
   "metadata": {},
   "outputs": [],
   "source": [
    "savefig(p3,\"err_heuristic_small.pdf\")"
   ]
  },
  {
   "cell_type": "code",
   "execution_count": null,
   "metadata": {},
   "outputs": [],
   "source": [
    "Random.seed!(123)\n",
    "\n",
    "N, N₂ = 1000, 1000 #dimensions of A and B\n",
    "r = 2 #rank of RHS\n",
    "\n",
    "#generate B\n",
    "μ2 = M(evalrangeB[1],evalrangeB[2])(2*rand(N₂).-1)\n",
    "D = diagm(μ2)\n",
    "P = rand(N₂,N₂)\n",
    "Q,R = qr(P)\n",
    "B = Q\\(D*Q);\n",
    "\n",
    "#generate A\n",
    "μ = M(evalrangeA[1],evalrangeA[2])(2*rand(N).-1)\n",
    "A = diagm(μ)\n",
    "P = rand(N,N)\n",
    "Q,R = qr(P)\n",
    "A = Q\\(A*Q)\n",
    "\n",
    "#generate RHS\n",
    "U = randn(N₂,r)\n",
    "V = randn(r,N)\n",
    "\n",
    "tru_sol = sylvester(B,A,-U*V);"
   ]
  },
  {
   "cell_type": "code",
   "execution_count": null,
   "metadata": {},
   "outputs": [],
   "source": [
    "param = get_params(bands,A,-B)\n",
    "W, Z, erv = lowrank_block_svd(A,U,V,-B,param; get_resid=true, tru_sol=tru_sol);"
   ]
  },
  {
   "cell_type": "code",
   "execution_count": null,
   "metadata": {},
   "outputs": [],
   "source": [
    "p4 = plot(1:param.maxiter,erv,yaxis=:log,label=\"Errors\")\n",
    "yticks!([10^0, 10^-2, 10^-4, 10^-6, 10^-8, 10^-10, 10^-12, 10^-14])\n",
    "xlabel!(L\"k\")\n",
    "ylabel!(L\"\\Vert \\mathbf{X}_k-\\mathbf{X}_*\\Vert_2\")\n",
    "plot!(0:param.maxiter,(5(N+N₂)/(1-param.conv_rate))*param.conv_rate.^(0:param.maxiter),label=\"Reference line\")\n",
    "title!(L\"m,n=1000\")"
   ]
  },
  {
   "cell_type": "code",
   "execution_count": null,
   "metadata": {},
   "outputs": [],
   "source": [
    "savefig(p4,\"err_heuristic.pdf\")"
   ]
  },
  {
   "cell_type": "markdown",
   "metadata": {},
   "source": [
    "### Repeat figures for Method 2"
   ]
  },
  {
   "cell_type": "code",
   "execution_count": null,
   "metadata": {},
   "outputs": [],
   "source": [
    "Random.seed!(123)\n",
    "\n",
    "N, N₂ = 200, 200 #dimensions of A and B\n",
    "r = 2 #rank of RHS\n",
    "\n",
    "evalrangeA = [2. 3.] #eigenvalues of A\n",
    "evalrangeB = [0.5 1.8] #eigenvalues of B\n",
    "\n",
    "bands = [-reverse(evalrangeB); evalrangeA]\n",
    "\n",
    "#generate B\n",
    "μ2 = M(evalrangeB[1],evalrangeB[2])(2*rand(N₂).-1)\n",
    "D = diagm(μ2)\n",
    "P = rand(N₂,N₂)\n",
    "Q,R = qr(P)\n",
    "B = Q\\(D*Q);\n",
    "\n",
    "#generate A\n",
    "μ = M(evalrangeA[1],evalrangeA[2])(2*rand(N).-1)\n",
    "A = diagm(μ)\n",
    "P = rand(N,N)\n",
    "Q,R = qr(P)\n",
    "A = Q\\(A*Q)\n",
    "\n",
    "#generate RHS\n",
    "U = randn(N₂,r)\n",
    "V = randn(r,N)\n",
    "\n",
    "tru_sol = sylvester(B,A,-U*V);"
   ]
  },
  {
   "cell_type": "code",
   "execution_count": null,
   "metadata": {},
   "outputs": [],
   "source": [
    "param = get_params_inv(bands,A,-B)\n",
    "W, Z, erv = sylv_operator_inv_low_rank(A,U,V,-B,param; get_resid=true, tru_sol=tru_sol);"
   ]
  },
  {
   "cell_type": "code",
   "execution_count": null,
   "metadata": {},
   "outputs": [],
   "source": [
    "p3 = plot(1:param.maxiter,erv,yaxis=:log,label=\"Errors\")\n",
    "yticks!(([10^0, 10^-2, 10^-4, 10^-6, 10^-8, 10^-10, 10^-12, 10^-14]))\n",
    "xlabel!(L\"k\")\n",
    "ylabel!(L\"\\Vert \\mathbf{X}_k-\\mathbf{X}_*\\Vert_F\")\n",
    "plot!(0:param.maxiter,(20(N+N₂)/(1-param.conv_rate))*param.conv_rate.^(0:param.maxiter),label=\"Reference line\")\n",
    "title!(L\"m,n=200\")"
   ]
  },
  {
   "cell_type": "code",
   "execution_count": null,
   "metadata": {},
   "outputs": [],
   "source": [
    "savefig(p3,\"err_heuristic_small2.pdf\")"
   ]
  },
  {
   "cell_type": "code",
   "execution_count": null,
   "metadata": {},
   "outputs": [],
   "source": [
    "Random.seed!(123)\n",
    "\n",
    "N, N₂ = 1000, 1000 #dimensions of A and B\n",
    "r = 2 #rank of RHS\n",
    "\n",
    "evalrangeA = [2. 3.] #eigenvalues of A\n",
    "evalrangeB = [0.5 1.8] #eigenvalues of B\n",
    "\n",
    "bands = [-reverse(evalrangeB); evalrangeA]\n",
    "\n",
    "#generate B\n",
    "μ2 = M(evalrangeB[1],evalrangeB[2])(2*rand(N₂).-1)\n",
    "D = diagm(μ2)\n",
    "P = rand(N₂,N₂)\n",
    "Q,R = qr(P)\n",
    "B = Q\\(D*Q);\n",
    "\n",
    "#generate A\n",
    "μ = M(evalrangeA[1],evalrangeA[2])(2*rand(N).-1)\n",
    "A = diagm(μ)\n",
    "P = rand(N,N)\n",
    "Q,R = qr(P)\n",
    "A = Q\\(A*Q)\n",
    "\n",
    "#generate RHS\n",
    "U = randn(N₂,r)\n",
    "V = randn(r,N)\n",
    "\n",
    "tru_sol = sylvester(B,A,-U*V);"
   ]
  },
  {
   "cell_type": "code",
   "execution_count": null,
   "metadata": {},
   "outputs": [],
   "source": [
    "param = get_params_inv(bands,A,-B)\n",
    "W, Z, erv = sylv_operator_inv_low_rank(A,U,V,-B,param; get_resid=true, tru_sol=tru_sol);"
   ]
  },
  {
   "cell_type": "code",
   "execution_count": null,
   "metadata": {},
   "outputs": [],
   "source": [
    "p4 = plot(1:param.maxiter,erv,yaxis=:log,label=\"Errors\")\n",
    "yticks!([10^0, 10^-2, 10^-4, 10^-6, 10^-8, 10^-10, 10^-12, 10^-14])\n",
    "xlabel!(L\"k\")\n",
    "ylabel!(L\"\\Vert \\mathbf{X}_k-\\mathbf{X}_*\\Vert_F\")\n",
    "plot!(0:param.maxiter,(20(N+N₂)/(1-param.conv_rate))*param.conv_rate.^(0:param.maxiter),label=\"Reference line\")\n",
    "title!(L\"m,n=1000\")"
   ]
  },
  {
   "cell_type": "code",
   "execution_count": null,
   "metadata": {},
   "outputs": [],
   "source": [
    "savefig(p4,\"err_heuristic2.pdf\")"
   ]
  },
  {
   "cell_type": "markdown",
   "metadata": {},
   "source": [
    "### Method 2 with multiple intervals"
   ]
  },
  {
   "cell_type": "code",
   "execution_count": null,
   "metadata": {},
   "outputs": [],
   "source": [
    "Random.seed!(123)\n",
    "\n",
    "N, N₂ = 1000, 1000 #dimensions of A and B\n",
    "r = 2 #rank of RHS\n",
    "\n",
    "evalrangeA = [0.5 1.] #eigenvalues of A\n",
    "evalrangeB = [0.5 1.8] #eigenvalues of B\n",
    "outlier = 10.\n",
    "\n",
    "bands = [-reverse(evalrangeB); evalrangeA[1] outlier]\n",
    "\n",
    "#generate B\n",
    "μ2 = M(evalrangeB[1],evalrangeB[2])(2*rand(N₂).-1)\n",
    "D = diagm(μ2)\n",
    "P = rand(N₂,N₂)\n",
    "Q,R = qr(P)\n",
    "B = Q\\(D*Q);\n",
    "\n",
    "#generate A\n",
    "μ = M(evalrangeA[1],evalrangeA[2])(2*rand(N-1).-1)\n",
    "A = diagm([μ; 10.])\n",
    "P = rand(N,N)\n",
    "Q,R = qr(P)\n",
    "A = Q\\(A*Q)\n",
    "\n",
    "#generate RHS\n",
    "U = randn(N₂,r)\n",
    "V = randn(r,N)\n",
    "\n",
    "tru_sol = sylvester(B,A,-U*V);"
   ]
  },
  {
   "cell_type": "code",
   "execution_count": null,
   "metadata": {},
   "outputs": [],
   "source": [
    "param = get_params_inv(bands,A,-B)\n",
    "W, Z, erv = sylv_operator_inv_low_rank(A,U,V,-B,param; get_resid=true, tru_sol=tru_sol);"
   ]
  },
  {
   "cell_type": "code",
   "execution_count": null,
   "metadata": {},
   "outputs": [],
   "source": [
    "p4 = plot(1:param.maxiter,erv,yaxis=:log,label=\"Errors\")\n",
    "yticks!([10^0, 10^-2, 10^-4, 10^-6, 10^-8, 10^-10, 10^-12, 10^-14])\n",
    "xlabel!(L\"k\")\n",
    "ylabel!(L\"\\Vert \\mathbf{X}_k-\\mathbf{X}_*\\Vert_F\")\n",
    "plot!(0:param.maxiter,(20(N+N₂)/(1-param.conv_rate))*param.conv_rate.^(0:param.maxiter),label=\"Reference line\")"
   ]
  },
  {
   "cell_type": "code",
   "execution_count": null,
   "metadata": {},
   "outputs": [],
   "source": [
    "savefig(p4,\"errs1int.pdf\")"
   ]
  },
  {
   "cell_type": "code",
   "execution_count": null,
   "metadata": {},
   "outputs": [],
   "source": [
    "bandsnew = [bands[2,1]-bands[1,2] evalrangeA[2]-bands[1,1]; outlier-bands[1,2] outlier-bands[1,1]]\n",
    "(avec,bvec,ints,gg) = get_n_coeffs_and_ints_akh(bandsnew, 101, 0.)\n",
    "gt = real(gg)[1]\n",
    "egt = exp(gt)\n",
    "coeffs = 2pi*im*ints[:,1];\n",
    "maxiters = ceil(-log(egt,maximum([1e-14*(1-1/egt)/(20(N+N₂)),eps()/5]))) |> Int"
   ]
  },
  {
   "cell_type": "code",
   "execution_count": null,
   "metadata": {},
   "outputs": [],
   "source": [
    "W,Z,erv = sylv_operator_inv_low_rank_more_ints(A,U,V,-B,coeffs,avec,bvec,maxiters,egt; get_resid=true, tru_sol=tru_sol);"
   ]
  },
  {
   "cell_type": "code",
   "execution_count": null,
   "metadata": {},
   "outputs": [],
   "source": [
    "p5 = plot(1:maxiters,erv,yaxis=:log,label=\"Errors\")\n",
    "yticks!([10^0, 10^-2, 10^-4, 10^-6, 10^-8, 10^-10, 10^-12, 10^-14])\n",
    "xlabel!(L\"k\")\n",
    "ylabel!(L\"\\Vert \\mathbf{X}_k-\\mathbf{X}_*\\Vert_F\")\n",
    "plot!(0:maxiters,(20(N+N₂)/(1-1/egt))*egt.^(-(0:maxiters)),label=\"Reference line\")"
   ]
  },
  {
   "cell_type": "code",
   "execution_count": null,
   "metadata": {},
   "outputs": [],
   "source": [
    "savefig(p5,\"errs2int.pdf\")"
   ]
  },
  {
   "cell_type": "markdown",
   "metadata": {},
   "source": [
    "### Timing comparisons"
   ]
  },
  {
   "cell_type": "code",
   "execution_count": null,
   "metadata": {
    "scrolled": true
   },
   "outputs": [],
   "source": [
    "evalrangeA = [2. 3.] #eigenvalues of A\n",
    "evalrangeB = [0.5 1.8] #eigenvalues of B\n",
    "bands = [-reverse(evalrangeB); evalrangeA] #eigenvalues of block system\n",
    "r = 2 #rank of RHS\n",
    "\n",
    "nvec = [100:100:1000; 1250:250:2250; 2500:500:3500]\n",
    "t1 = zeros(length(nvec)); t2 = zeros(length(nvec)); t3 = zeros(length(nvec)); t4 = zeros(length(nvec)); t5 = zeros(length(nvec)); \n",
    "\n",
    "for (j,nn) in enumerate(nvec)\n",
    "    Random.seed!(123)\n",
    "\n",
    "    #generate B\n",
    "    μ2 = M(evalrangeB[1],evalrangeB[2])(2*rand(nn).-1)\n",
    "    D = diagm(μ2)\n",
    "    P = rand(nn,nn)\n",
    "    Q,R = qr(P)\n",
    "    B = Q\\(D*Q);\n",
    "\n",
    "    #generate A\n",
    "    μ = M(evalrangeA[1],evalrangeA[2])(2*rand(nn).-1)\n",
    "    A = diagm(μ)\n",
    "    P = rand(nn,nn)\n",
    "    Q,R = qr(P)\n",
    "    A = Q\\(A*Q)\n",
    "\n",
    "    #generate RHS\n",
    "    U = randn(nn,r)\n",
    "    V = randn(r,nn)\n",
    "    \n",
    "    param = get_params(bands,A,-B;tol=2e-9)\n",
    "    \n",
    "    t11 = @belapsed lowrank_block_svd($A,$U,$V,-$B,$param)\n",
    "    t22 = @belapsed fadi($B,-$A,$U,$V';tol=2e-9)\n",
    "    t33 = @belapsed sylvester($B,$A,-$U*$V)#bartelsStewart(B, [], [], A', U*V)\n",
    "    t1[j] = t11; t2[j] = t22; t3[j] = t33\n",
    "    \n",
    "    param = get_params_inv(bands,A,-B;tol=2e-9)\n",
    "    t44 = @belapsed sylv_operator_inv_low_rank($A,$U,$V,-$B,$param)\n",
    "    ~,~,~,with_resid = algorithm5(B,A,U,V';tol=2e-11)\n",
    "    iters = length(with_resid)\n",
    "    t55 = @belapsed algorithm5($B,$A,$U,$V';maxiter=$iters, get_resid=false)\n",
    "    t4[j] = t44; t5[j] = t55\n",
    "end"
   ]
  },
  {
   "cell_type": "code",
   "execution_count": null,
   "metadata": {},
   "outputs": [],
   "source": [
    "p3 = plot(nvec,t1,label=:\"Method 1\",yaxis=:log, xaxis=:log,marker=:circle,color=3,legend=:topleft)\n",
    "plot!(nvec,t4,label=:\"Method 2\",marker=:diamond,color=1)\n",
    "plot!(nvec,t5,label=:\"Polynomial Krylov\",marker=:square,color=2)\n",
    "plot!(nvec,t2,marker=:utriangle,label=:\"Factored ADI\")\n",
    "plot!(nvec,t3,marker=:pentagon,label=:\"Bartels–Stewart\")\n",
    "xticks!([100; 500; 1000; 2000; 3500],string.([100; 500; 1000; 2000; 3500]))\n",
    "yticks!([1e-3; 1e-2; 1e-1; 1; 10; 100])\n",
    "xlabel!(\"Matrix size\")\n",
    "ylabel!(\"Time (seconds)\")\n",
    "title!(L\"[-1.8,-0.5]\\cup[2,3]\")"
   ]
  },
  {
   "cell_type": "code",
   "execution_count": null,
   "metadata": {},
   "outputs": [],
   "source": [
    "savefig(p3,\"timing_comp_1.pdf\")"
   ]
  },
  {
   "cell_type": "code",
   "execution_count": null,
   "metadata": {},
   "outputs": [],
   "source": [
    "evalrangeA = [0.2 3.] #eigenvalues of A\n",
    "evalrangeB = [0.2 1.8] #eigenvalues of B\n",
    "bands = [-reverse(evalrangeB); evalrangeA] #eigenvalues of block system\n",
    "r = 2 #rank of RHS\n",
    "\n",
    "nvec = [100:100:1000; 1250:250:2250; 2500:500:3500]\n",
    "t1 = zeros(length(nvec)); t2 = zeros(length(nvec)); t4 = zeros(length(nvec)); t5 = zeros(length(nvec)); \n",
    "\n",
    "for (j,nn) in enumerate(nvec)\n",
    "    Random.seed!(123)\n",
    "\n",
    "    #generate B\n",
    "    μ2 = M(evalrangeB[1],evalrangeB[2])(2*rand(nn).-1)\n",
    "    D = diagm(μ2)\n",
    "    P = rand(nn,nn)\n",
    "    Q,R = qr(P)\n",
    "    B = Q\\(D*Q);\n",
    "\n",
    "    #generate A\n",
    "    μ = M(evalrangeA[1],evalrangeA[2])(2*rand(nn).-1)\n",
    "    A = diagm(μ)\n",
    "    P = rand(nn,nn)\n",
    "    Q,R = qr(P)\n",
    "    A = Q\\(A*Q)\n",
    "\n",
    "    #generate RHS\n",
    "    U = randn(nn,r)\n",
    "    V = randn(r,nn)\n",
    "    \n",
    "    param = get_params(bands,A,-B;tol=5e-9)\n",
    "    \n",
    "    t11 = @belapsed lowrank_block_svd($A,$U,$V,-$B,$param)\n",
    "    t22 = @belapsed fadi($B,-$A,$U,$V';tol=5e-9)\n",
    "    #t33 = @belapsed sylvester($B,$A,-$U*$V)#bartelsStewart(B, [], [], A', U*V)\n",
    "    t1[j] = t11; t2[j] = t22#; t3[j] = t33\n",
    "    \n",
    "    param = get_params_inv(bands,A,-B;tol=5e-9)\n",
    "    t44 = @belapsed sylv_operator_inv_low_rank($A,$U,$V,-$B,$param)\n",
    "    ~,~,~,with_resid = algorithm5(B,A,U,V';tol=5e-11)\n",
    "    iters = length(with_resid)\n",
    "    t55 = @belapsed algorithm5($B,$A,$U,$V';maxiter=$iters, get_resid=false)\n",
    "    t4[j] = t44; t5[j] = t55\n",
    "end"
   ]
  },
  {
   "cell_type": "code",
   "execution_count": null,
   "metadata": {},
   "outputs": [],
   "source": [
    "p4 = plot(nvec,t1,label=:\"Method 1\",yaxis=:log, xaxis=:log,marker=:circle,color=3)\n",
    "plot!(nvec,t4,label=:\"Method 2\",marker=:diamond,color=1)\n",
    "plot!(nvec,t5,label=:\"Polynomial Krylov\",marker=:square,color=2)\n",
    "plot!(nvec,t2,marker=:utriangle,label=:\"Factored ADI\")\n",
    "#plot!(nvec,t3,marker=:pentagon,label=:\"Bartels–Stewart\")\n",
    "xticks!([100; 500; 1000; 2000; 3500],string.([100; 500; 1000; 2000; 3500]))\n",
    "yticks!([1e-3; 1e-2; 1e-1; 1; 10; 100])\n",
    "xlabel!(\"Matrix size\")\n",
    "ylabel!(\"Time (seconds)\")\n",
    "title!(L\"[-1.8,-0.2]\\cup[0.2,3]\")"
   ]
  },
  {
   "cell_type": "code",
   "execution_count": null,
   "metadata": {},
   "outputs": [],
   "source": [
    "savefig(p4,\"timing_comp_2.pdf\")"
   ]
  },
  {
   "cell_type": "code",
   "execution_count": null,
   "metadata": {},
   "outputs": [],
   "source": [
    "βvec = 0.2:0.1:0.9\n",
    "t1 = zeros(length(βvec)); t2 = zeros(length(βvec));\n",
    "i1 = zeros(length(βvec)); i2 = zeros(length(βvec)); i3 = zeros(length(βvec))\n",
    "for (j,β) in enumerate(βvec)\n",
    "    Random.seed!(1234)\n",
    "    nn = 1500 #matrix size\n",
    "    r = 75 #rank of RHS\n",
    "    evalrange = [β 1.]\n",
    "    bands = [-reverse(evalrange); evalrange]\n",
    "\n",
    "    #generate B\n",
    "    μ2 = M(evalrange[1],evalrange[2])(2*rand(nn).-1)\n",
    "    D = diagm(μ2)\n",
    "    P = rand(nn,nn)\n",
    "    Q,R = qr(P)\n",
    "    B = Q\\(D*Q);\n",
    "\n",
    "    #generate A\n",
    "    μ = M(evalrange[1],evalrange[2])(2*rand(nn).-1)\n",
    "    A = diagm(μ)\n",
    "    P = rand(nn,nn)\n",
    "    Q,R = qr(P)\n",
    "    A = Q\\(A*Q)\n",
    "\n",
    "    #generate RHS\n",
    "    U = randn(nn,r)\n",
    "    V = randn(r,nn)\n",
    "    \n",
    "    param = get_params_inv(bands,A,-B;tol=2e-8)\n",
    "    i1[j] = param.maxiter\n",
    "    \n",
    "    param_long = get_params(bands,A,-B;tol=2e-8)\n",
    "    i3[j] = param_long.maxiter\n",
    "    \n",
    "    t11 = @belapsed sylv_operator_inv_low_rank($A,$U,$V,-$B,$param)\n",
    "    ~,~,~,with_resid = algorithm5(B,A,U,V'; tol=2e-10)\n",
    "    iters = length(with_resid)\n",
    "    i2[j] = iters\n",
    "    t22 = @belapsed algorithm5($B,$A,$U,$V';maxiter=$iters, get_resid=false)\n",
    "    t1[j] = t11; \n",
    "    t2[j] = t22;\n",
    "end"
   ]
  },
  {
   "cell_type": "code",
   "execution_count": null,
   "metadata": {},
   "outputs": [],
   "source": [
    "p5 = plot(βvec,t1,marker=:diamond,label=:\"Method 2\",yaxis=:log, xaxis=:log)\n",
    "plot!(βvec,t2,marker=:square,label=:\"Polynomial Krylov\")\n",
    "xticks!([0.2; 0.3; 0.4; 0.5; 0.6; 0.7; 0.8; 0.9], string.([0.2; 0.3; 0.4; 0.5; 0.6; 0.7; 0.8; 0.9]))\n",
    "yticks!([5; 10; 25; 50], string.([5; 10; 25; 50]))\n",
    "xlabel!(L\"\\beta\")\n",
    "ylabel!(\"Time (seconds)\")"
   ]
  },
  {
   "cell_type": "code",
   "execution_count": null,
   "metadata": {},
   "outputs": [],
   "source": [
    "savefig(p5,\"timings_new.pdf\")"
   ]
  },
  {
   "cell_type": "code",
   "execution_count": null,
   "metadata": {},
   "outputs": [],
   "source": [
    "p6 = plot(βvec,i3,marker=:circle,label=:\"Method 1\",color=3,yaxis=:log, xaxis=:log)\n",
    "plot!(βvec,i1,marker=:diamond,label=:\"Method 2\",color=1)\n",
    "plot!(βvec,i2,marker=:square,label=:\"Polynomial Krylov\",color=2)\n",
    "xticks!([0.2; 0.3; 0.4; 0.5; 0.6; 0.7; 0.8; 0.9], string.([0.2; 0.3; 0.4; 0.5; 0.6; 0.7; 0.8; 0.9]))\n",
    "yticks!([10; 25; 50; 100; 150], string.([10; 25; 50; 100; 150]))\n",
    "xlabel!(L\"\\beta\")\n",
    "ylabel!(\"Iterations\")"
   ]
  },
  {
   "cell_type": "code",
   "execution_count": null,
   "metadata": {},
   "outputs": [],
   "source": [
    "savefig(p6,\"timings_new2.pdf\")"
   ]
  },
  {
   "cell_type": "markdown",
   "metadata": {},
   "source": [
    "### Integral equations"
   ]
  },
  {
   "cell_type": "code",
   "execution_count": null,
   "metadata": {},
   "outputs": [],
   "source": [
    "n = 2000\n",
    "gd = JacobiMappedInterval(-1,1,0,0)\n",
    "sp = Jacobi(0,0,gd)\n",
    "K1 = (x,y) -> exp(-2abs(x-y))\n",
    "x = gd.grid(n)\n",
    "KM1 = K1.(x,x')\n",
    "a, b = OperatorApproximation.Jacobi_ab(0.0,0.0)\n",
    "w = 2OperatorApproximation.Gauss_quad(a,b,n-1)[2]\n",
    "W = diagm(sqrt.(w))\n",
    "A = W*KM1*W\n",
    "#id = Matrix(I,n,n)\n",
    "Ff(x) = cos(4x)/sqrt(1.04-x^2)\n",
    "Fg(x) = sin(20x)\n",
    "f = (x,y) -> Ff(x)*Fg(y)\n",
    "F = f.(x,x')\n",
    "FF = W*Ff.(x)\n",
    "FG = transpose(W*Fg.(x)) |> Array;"
   ]
  },
  {
   "cell_type": "code",
   "execution_count": null,
   "metadata": {},
   "outputs": [],
   "source": [
    "eval1 = opnorm(A)#norm(W*K1.(x,0))^2\n",
    "evalrangeIA = [1.0-0.1 1+eval1+0.1]\n",
    "bands = [-reverse(evalrangeIA); evalrangeIA]\n",
    "\n",
    "Utru = sylvester(I+A,I+A,-FF*FG);"
   ]
  },
  {
   "cell_type": "code",
   "execution_count": null,
   "metadata": {},
   "outputs": [],
   "source": [
    "param = get_params_inv(bands,I+A,-(I+A))"
   ]
  },
  {
   "cell_type": "code",
   "execution_count": null,
   "metadata": {},
   "outputs": [],
   "source": [
    "Wk, Zk, errs = sylv_operator_inv_low_rank(I+A,FF,FG,-(I+A),param; get_resid=true, tru_sol=Utru)\n",
    "Up = Wk*Zk\n",
    "U = W\\Up/W;"
   ]
  },
  {
   "cell_type": "code",
   "execution_count": null,
   "metadata": {},
   "outputs": [],
   "source": [
    "p1 = plot(errs,yaxis=:log,label=\"Errors\")\n",
    "yticks!([10^0, 10^-2, 10^-4, 10^-6, 10^-8, 10^-10, 10^-12, 10^-14])\n",
    "xlabel!(L\"k\")\n",
    "ylabel!(L\"\\Vert \\mathbf{U}_k-\\mathbf{U}_*\\Vert_2\")\n",
    "plot!(0:param.maxiter-1,((40n*(1-param.conv_rate))*param.conv_rate.^(0:param.maxiter-1)),label=\"Reference line\")"
   ]
  },
  {
   "cell_type": "code",
   "execution_count": null,
   "metadata": {},
   "outputs": [],
   "source": [
    "savefig(p1,\"int_eqn_err.pdf\")"
   ]
  },
  {
   "cell_type": "code",
   "execution_count": null,
   "metadata": {},
   "outputs": [],
   "source": [
    "p2 = contourf(x, x, real.(U'), levels=20, color=:turbo, right_margin=20Plots.px)\n",
    "xlabel!(L\"x\")\n",
    "ylabel!(L\"y\")"
   ]
  },
  {
   "cell_type": "code",
   "execution_count": null,
   "metadata": {},
   "outputs": [],
   "source": [
    "savefig(p2,\"int_eqn_sol.pdf\")"
   ]
  },
  {
   "cell_type": "code",
   "execution_count": null,
   "metadata": {},
   "outputs": [],
   "source": [
    "# Add extra term to integral equation\n",
    "n = 2000\n",
    "gd = JacobiMappedInterval(-1,1,0,0)\n",
    "sp = Jacobi(0,0,gd)\n",
    "K1 = (x,y) -> exp(-2abs(x-y))\n",
    "x = gd.grid(n)\n",
    "KM1 = K1.(x,x')\n",
    "a, b = OperatorApproximation.Jacobi_ab(0.0,0.0)\n",
    "w = 2OperatorApproximation.Gauss_quad(a,b,n-1)[2]\n",
    "W = diagm(sqrt.(w))\n",
    "A = W*KM1*W\n",
    "id = Matrix(I,n,n)\n",
    "Ff(x) = x^2\n",
    "Fg(x) = -exp(x)\n",
    "f = (x,y) -> Ff(x)*Fg(y)\n",
    "#F = f.(x,x')\n",
    "FF = W*Ff.(x)\n",
    "FG = transpose(W*Fg.(x)) |> Array\n",
    "\n",
    "K2 = (x,y) -> cos(20x)*exp(y)\n",
    "KM2 = K2.(x,x')\n",
    "#W = diagm(sqrt.(w))\n",
    "B1 = W*KM2*W\n",
    "\n",
    "#other kernel in low-rank form\n",
    "# K₄(x,y)=cosh(x)sinh(y)\n",
    "u2 = W*sinh.(x)\n",
    "v2 = cosh.(x')*W;"
   ]
  },
  {
   "cell_type": "code",
   "execution_count": null,
   "metadata": {},
   "outputs": [],
   "source": [
    "eval1 = opnorm(A)\n",
    "evalrangeIA = [1.0-0.1 1+eval1+0.1]\n",
    "bands = [-reverse(evalrangeIA); evalrangeIA];"
   ]
  },
  {
   "cell_type": "code",
   "execution_count": null,
   "metadata": {},
   "outputs": [],
   "source": [
    "param = get_params_inv(bands,I+A,-(I+A))\n",
    "\n",
    "function precondB(x)\n",
    "    X = reshape(x,n,n)\n",
    "    U = B1*X*u2\n",
    "    V = v2\n",
    "    Wk,Zk = sylv_operator_inv_low_rank(I+A,U,V,-(I+A),param)\n",
    "    return x+vec(Wk*Zk)\n",
    "end\n",
    "\n",
    "Bt = LinearMap(x -> precondB(x), n^2; issymmetric=false, ismutating=false)"
   ]
  },
  {
   "cell_type": "code",
   "execution_count": null,
   "metadata": {},
   "outputs": [],
   "source": [
    "Wk, Zk = sylv_operator_inv_low_rank(I+A,FF,FG,-(I+A),param)\n",
    "new_rhs = vec(Wk*Zk);"
   ]
  },
  {
   "cell_type": "code",
   "execution_count": null,
   "metadata": {},
   "outputs": [],
   "source": [
    "(vecsol,hist) = gmres(Bt, new_rhs;log=true)\n",
    "Up = reshape(vecsol,n,n)\n",
    "U = W\\Up/W\n",
    "hist"
   ]
  },
  {
   "cell_type": "code",
   "execution_count": null,
   "metadata": {},
   "outputs": [],
   "source": [
    "p3 = contourf(x, x, real.(U'), levels=20, color=:turbo, right_margin=25Plots.px)\n",
    "xlabel!(L\"x\")\n",
    "ylabel!(L\"y\")"
   ]
  },
  {
   "cell_type": "code",
   "execution_count": null,
   "metadata": {},
   "outputs": [],
   "source": [
    "savefig(p3,\"int_eqn_sol2a.pdf\")"
   ]
  },
  {
   "cell_type": "code",
   "execution_count": null,
   "metadata": {},
   "outputs": [],
   "source": [
    "n = 2000\n",
    "gd = JacobiMappedInterval(-1,1,0,0)\n",
    "sp = Jacobi(0,0,gd)\n",
    "K1 = (x,y) -> exp(-(x-y)^2)\n",
    "x = gd.grid(n)\n",
    "KM1 = K1.(x,x')\n",
    "a, b = OperatorApproximation.Jacobi_ab(0.0,0.0)\n",
    "w = 2OperatorApproximation.Gauss_quad(a,b,n-1)[2]\n",
    "W = diagm(sqrt.(w))\n",
    "A = W*KM1*W\n",
    "#id = Matrix(I,n,n)\n",
    "Ff(x) = 1/(x^4+2)\n",
    "Fg(x) = -sin(10x)\n",
    "f = (x,y) -> Ff(x)*Fg(y)\n",
    "#F = f.(x,x')\n",
    "FF = W*Ff.(x)\n",
    "FG = transpose(W*Fg.(x)) |> Array\n",
    "\n",
    "K2 = (x,y) -> y*sech(x)^2\n",
    "KM2 = K2.(x,x')\n",
    "B1 = W*KM2*W\n",
    "\n",
    "#other kernel in low-rank form\n",
    "# K₄ = exp(x-y)\n",
    "u2 = W*exp.(-x)\n",
    "v2 = exp.(x')*W;"
   ]
  },
  {
   "cell_type": "code",
   "execution_count": null,
   "metadata": {},
   "outputs": [],
   "source": [
    "eval1 = opnorm(A)\n",
    "evalrangeIA = [1.0-0.1 1+eval1+0.1]\n",
    "bands = [-reverse(evalrangeIA); evalrangeIA]"
   ]
  },
  {
   "cell_type": "code",
   "execution_count": null,
   "metadata": {},
   "outputs": [],
   "source": [
    "param = get_params_inv(bands,I+A,-(I+A))\n",
    "\n",
    "Wk, Zk = sylv_operator_inv_low_rank(I+A,FF,FG,-(I+A),param)\n",
    "new_rhs = vec(Wk*Zk);"
   ]
  },
  {
   "cell_type": "code",
   "execution_count": null,
   "metadata": {},
   "outputs": [],
   "source": [
    "(vecsol,hist) = gmres(Bt, new_rhs;log=true)\n",
    "Up = reshape(vecsol,n,n)\n",
    "U = W\\Up/W\n",
    "hist"
   ]
  },
  {
   "cell_type": "code",
   "execution_count": null,
   "metadata": {},
   "outputs": [],
   "source": [
    "p4 = contourf(x, x, real.(U'), color=:turbo, right_margin=26Plots.px)\n",
    "xlabel!(L\"x\")\n",
    "ylabel!(L\"y\")"
   ]
  },
  {
   "cell_type": "code",
   "execution_count": null,
   "metadata": {},
   "outputs": [],
   "source": [
    "savefig(p4,\"int_eqn_sol2b.pdf\")"
   ]
  },
  {
   "cell_type": "markdown",
   "metadata": {},
   "source": [
    "### Poisson/Helmholtz equation example"
   ]
  },
  {
   "cell_type": "code",
   "execution_count": null,
   "metadata": {},
   "outputs": [],
   "source": [
    "function Jacobi_ab(a,b)\n",
    "    bfun = n -> (a+b==-1 && n==0) ? √(2*a*b) :\n",
    "        2*sqrt(n+1)*sqrt(n+a+1)*sqrt(n+b+1)*sqrt(n+a+b+1)/\n",
    "        ((2n + a +b + 2)*sqrt(2n + a +b + 3)*sqrt(2n + a +b + 1))\n",
    "    afun = n -> ((a+b==0 || a+b==-1) && n==0) ? (b-a)/(a+b+2) :\n",
    "        (b^2 - a^2)/((2n + a +b + 2)*(2n + a +b))\n",
    "    return (n -> n < 0 ? a : afun(n),n -> n < 0 ? b : bfun(n))  # this is not needed but lets us get access to the Jacobi parameters after the fact\n",
    "end\n",
    "\n",
    "function d(j,λ)\n",
    "    j*sqrt(2*(j + 2λ)/j*(λ+1)/(2λ+1))\n",
    "end\n",
    "\n",
    "function Diff(λ,n)\n",
    "    Bidiagonal(fill(0.0,n),[d(j,λ) for j=1:n-1], :U)\n",
    "end\n",
    "\n",
    "function poly(a,b,n,x) # a naive use of the three-term recurrence\n",
    "    p = fill(0.0im,n)\n",
    "    p[1] = 1.0 # p_0\n",
    "    p[2] = x.*p[1] - a(0)*p[1] # compute p_1\n",
    "    p[2] /= b(0)\n",
    "    for j = 1:n-2 # compute p_n\n",
    "        p[j+2] = x.*p[j+1] - a(j)*p[j+1] - b(j-1)*p[j]\n",
    "        p[j+2] /= b(j)\n",
    "    end\n",
    "    p\n",
    "end\n",
    "\n",
    "function poly(a,b,n,z::Vector)\n",
    "    vcat(map(zz -> poly(a,b,n,zz) |> transpose , z)...)\n",
    "end\n",
    "\n",
    "function poly(λ::Number,n,z::Vector)\n",
    "    a, b = Jacobi_ab(λ - 0.5,λ - 0.5)\n",
    "    poly(a,b,n,z)\n",
    "end\n",
    "\n",
    "Tgrid = n -> -cos.( (2*(1:n) .- 1)/(2*n) * pi )"
   ]
  },
  {
   "cell_type": "code",
   "execution_count": null,
   "metadata": {},
   "outputs": [],
   "source": [
    "n = 20\n",
    "xgrid = Tgrid(n - 2)\n",
    "ED₂ = poly(2.0,n,xgrid)*(Diff(1.0,n)*Diff(0.0,n))\n",
    "B = poly(0.0,n,[-1.0,1.0])\n",
    "Q, ~ = qr(B')\n",
    "T = Q[:,3:end]\n",
    "ET = poly(0.0,n,xgrid)*T\n",
    "A = ET\\(ED₂*T)-(49/2)I\n",
    "\n",
    "Ff(x) = cos(x)\n",
    "Fg(x) = sin(x)\n",
    "FF = ET\\Ff.(xgrid)\n",
    "FG = transpose(ET\\Fg.(xgrid)) |> Array\n",
    "\n",
    "end1 = eigmin(real(A))-100.\n",
    "end2 = eigmax(real(A))+1\n",
    "evalrangeA = [end1 end2]\n",
    "bands = [evalrangeA; -reverse(evalrangeA)]"
   ]
  },
  {
   "cell_type": "code",
   "execution_count": null,
   "metadata": {},
   "outputs": [],
   "source": [
    "param = get_params(bands,-A'|>Array,A; tol=1e-6, unbounded_op=true, num_quad_pts=5000);"
   ]
  },
  {
   "cell_type": "code",
   "execution_count": null,
   "metadata": {},
   "outputs": [],
   "source": [
    "tsol = sylvester(A,A',-FF*FG)\n",
    "W,Z,erv = lowrank_block_svd(-A'|>Array,-FF,FG,A,param;get_resid=true,tru_sol=tsol);"
   ]
  },
  {
   "cell_type": "code",
   "execution_count": null,
   "metadata": {},
   "outputs": [],
   "source": [
    "p0 = plot(erv,yaxis=:log,label=\"Errors\")\n",
    "xlabel!(L\"k\")\n",
    "ylabel!(L\"\\Vert \\mathbf{Y}_k-\\mathbf{Y}_*\\Vert_2\")\n",
    "yticks!([10^0, 10^-2, 10^-4, 10^-6, 10^-8, 10^-10, 10^-12, 10^-14])\n",
    "plot!(0:param.maxiter-1,((10(n-2)*(1-1/param.conv_rate))*param.conv_rate.^(-(0:param.maxiter-1))),label=\"Reference line\")"
   ]
  },
  {
   "cell_type": "code",
   "execution_count": null,
   "metadata": {},
   "outputs": [],
   "source": [
    "savefig(p0,\"helmholtz_err.pdf\")"
   ]
  },
  {
   "cell_type": "code",
   "execution_count": null,
   "metadata": {},
   "outputs": [],
   "source": [
    "Y = W*Z\n",
    "X = T*Y*T';"
   ]
  },
  {
   "cell_type": "code",
   "execution_count": null,
   "metadata": {},
   "outputs": [],
   "source": [
    "x = -1:0.01:1 |> Array#[-1; xgrid; 1]\n",
    "XX = poly(0.0,n,x)*X*poly(0.0,n,x)'\n",
    "p1 = contourf(x, x, real.(XX'), color=:turbo, right_margin=46Plots.px)\n",
    "xlabel!(L\"x\")\n",
    "ylabel!(L\"y\")"
   ]
  },
  {
   "cell_type": "code",
   "execution_count": null,
   "metadata": {},
   "outputs": [],
   "source": [
    "savefig(p1,\"helmholtz.pdf\")"
   ]
  },
  {
   "cell_type": "code",
   "execution_count": null,
   "metadata": {},
   "outputs": [],
   "source": [
    "n = 10\n",
    "xgrid = Tgrid(n - 2)\n",
    "ED₂ = poly(2.0,n,xgrid)*(Diff(1.0,n)*Diff(0.0,n))\n",
    "B = poly(0.0,n,[-1.0,1.0])\n",
    "Q, ~ = qr(B')\n",
    "T = Q[:,3:end]\n",
    "ET = poly(0.0,n,xgrid)*T\n",
    "A = ET\\(ED₂*T)\n",
    "\n",
    "Ff(x) = cos(4x)\n",
    "Fg(x) = sign(x)\n",
    "FF = ET\\Ff.(xgrid)\n",
    "FG = transpose(ET\\Fg.(xgrid)) |> Array\n",
    "\n",
    "end1 = eigmin(real(A))-100.\n",
    "end2 = eigmax(real(A))+0.1\n",
    "evalrangeA = [end1 end2]\n",
    "bands = [evalrangeA; -reverse(evalrangeA)]"
   ]
  },
  {
   "cell_type": "code",
   "execution_count": null,
   "metadata": {},
   "outputs": [],
   "source": [
    "param = get_params(bands,-A'|>Array,A; tol=1e-10, unbounded_op=true, num_quad_pts=5000);"
   ]
  },
  {
   "cell_type": "code",
   "execution_count": null,
   "metadata": {},
   "outputs": [],
   "source": [
    "tsol = sylvester(A,A',-FF*FG)\n",
    "W,Z,erv = lowrank_block_svd(-A'|>Array,-FF,FG,A,param;get_resid=true,tru_sol=tsol);"
   ]
  },
  {
   "cell_type": "code",
   "execution_count": null,
   "metadata": {},
   "outputs": [],
   "source": [
    "p2 = plot(erv,yaxis=:log,label=\"Errors\", right_margin=10Plots.px)\n",
    "xlabel!(L\"k\")\n",
    "yticks!([10^0, 10^-2, 10^-4, 10^-6, 10^-8, 10^-10, 10^-12, 10^-14])\n",
    "ylabel!(L\"\\Vert \\mathbf{Y}_k-\\mathbf{Y}_*\\Vert_2\")\n",
    "plot!(0:param.maxiter-1,((10(n-2)*(1-1/param.conv_rate))*param.conv_rate.^(-(0:param.maxiter-1))),label=\"Reference line\")"
   ]
  },
  {
   "cell_type": "code",
   "execution_count": null,
   "metadata": {},
   "outputs": [],
   "source": [
    "savefig(p2,\"poisson_error.pdf\")"
   ]
  },
  {
   "cell_type": "code",
   "execution_count": null,
   "metadata": {},
   "outputs": [],
   "source": [
    "Y = W*Z\n",
    "X = T*Y*T'\n",
    "\n",
    "x = -1:0.01:1 |> Array#[-1; xgrid; 1]\n",
    "XX = poly(0.0,n,x)*X*poly(0.0,n,x)'\n",
    "\n",
    "p3 = contourf(x, x, real.(XX'), color=:turbo, right_margin=35Plots.px)\n",
    "xlabel!(L\"x\")\n",
    "ylabel!(L\"y\")"
   ]
  },
  {
   "cell_type": "code",
   "execution_count": null,
   "metadata": {},
   "outputs": [],
   "source": [
    "savefig(p3,\"poisson.pdf\")"
   ]
  },
  {
   "cell_type": "markdown",
   "metadata": {},
   "source": [
    "### Fr\\'echet derivatives"
   ]
  },
  {
   "cell_type": "code",
   "execution_count": null,
   "metadata": {},
   "outputs": [],
   "source": [
    "M = (a,b) ->  (x -> (b-a)/2*(x .+ (b+a)/(b-a)))"
   ]
  },
  {
   "cell_type": "code",
   "execution_count": null,
   "metadata": {},
   "outputs": [],
   "source": [
    "function sign_newton(X;maxiter=20)\n",
    "    Xk = X\n",
    "    for k = 1:maxiter\n",
    "        Xk = (Xk+inv(Xk))/2\n",
    "    end\n",
    "    Xk\n",
    "end"
   ]
  },
  {
   "cell_type": "code",
   "execution_count": null,
   "metadata": {},
   "outputs": [],
   "source": [
    "function frec_newton(X,E;maxiter=20) #computes Frechet derivative of sign function\n",
    "    Xk = X\n",
    "    Ek = E\n",
    "    for k = 1:maxiter\n",
    "        Ek = (Ek-Xk\\Ek/Xk)/2\n",
    "        Xk = (Xk+inv(Xk))/2\n",
    "    end\n",
    "    Ek\n",
    "end"
   ]
  },
  {
   "cell_type": "code",
   "execution_count": null,
   "metadata": {},
   "outputs": [],
   "source": [
    "Random.seed!(123)\n",
    "#generate matrix A\n",
    "N = 200\n",
    "bands = [-2. -0.5; 0.5 6.]\n",
    "n₁ = ceil(N*(bands[1,2]-bands[1,1])/(bands[1,2]-bands[1,1]+bands[2,2]-bands[2,1])) |> Int\n",
    "μ₁ = M(bands[1,1],bands[1,2])(2*0.9*rand(n₁).-1)\n",
    "μ₂ = M(bands[2,1],bands[2,2])(2*0.9*rand(N-n₁).-1)\n",
    "Ad = diagm([μ₁; μ₂])\n",
    "P = rand(N,N)\n",
    "Q,R = qr(P)\n",
    "A = Q\\(Ad*Q)\n",
    "\n",
    "#generate E=E1*E2\n",
    "r = 4 #rank of E\n",
    "E1 = randn(N,r)\n",
    "E2 = randn(r,N)\n",
    "E = E1*E2\n",
    "\n",
    "block_mat = [A zeros(N,N); E A]\n",
    "truLb = frec_newton(A,E);#sign_newton(block_mat)[N+1:end,1:N];"
   ]
  },
  {
   "cell_type": "code",
   "execution_count": null,
   "metadata": {},
   "outputs": [],
   "source": [
    "param = get_params(bands,A,A);"
   ]
  },
  {
   "cell_type": "code",
   "execution_count": null,
   "metadata": {},
   "outputs": [],
   "source": [
    "W,Z,erv = lowrank_block_svd(A,E1,E2,A,param; get_resid=true, tru_sol=truLb/2)\n",
    "L = 2W*Z;"
   ]
  },
  {
   "cell_type": "code",
   "execution_count": null,
   "metadata": {},
   "outputs": [],
   "source": [
    "p0 = plot(2erv,yaxis=:log,label=\"Errors\")\n",
    "xlabel!(L\"k\")\n",
    "ylabel!(L\"\\Vert \\mathbf{L}_k-L_{\\mathrm{sign}}(\\mathbf{A},\\mathbf{E})\\Vert_2\")\n",
    "yticks!([10^0, 10^-2, 10^-4, 10^-6, 10^-8, 10^-10, 10^-12, 10^-14])\n",
    "plot!(0:param.maxiter-1,((20N*(1-1/param.conv_rate))*param.conv_rate.^(-(0:param.maxiter-1))),label=\"Reference line\")"
   ]
  },
  {
   "cell_type": "code",
   "execution_count": null,
   "metadata": {},
   "outputs": [],
   "source": [
    "savefig(p0,\"sign-frechet.pdf\")"
   ]
  },
  {
   "cell_type": "code",
   "execution_count": null,
   "metadata": {},
   "outputs": [],
   "source": [
    "numiter = 25\n",
    "num_quad_pts = 800\n",
    "\n",
    "cc(j) = (bands[j,1]+bands[j,2])/2\n",
    "rr(j) = 1.25*(bands[j,2]-bands[j,1])/2\n",
    "\n",
    "ctrpts = [] #quadrature nodes\n",
    "ptsper = [0; 0]\n",
    "weights = [] #quadrature weights\n",
    "total_length = sum(bands[:,2]-bands[:,1])\n",
    "for j = 1:2\n",
    "    ptsper[j] = round(num_quad_pts*(bands[j,2]-bands[j,1])/total_length)\n",
    "    append!(ctrpts,rr(j)*zgrid(ptsper[j]).+cc(j) .|> Complex)\n",
    "    append!(weights,2π*im*rr(j)*(zgrid(ptsper[j]))/ptsper[j] .|> Complex)\n",
    "end\n",
    "\n",
    "(avec,bvec,ints) = get_n_coeffs_and_ints_akh(bands, numiter, ctrpts)\n",
    "\n",
    "α = zeros(ComplexF64,numiter+1)\n",
    "for j = 1:length(ctrpts)\n",
    "    α -= exp(ctrpts[j])*weights[j]*ints[:,j]\n",
    "end\n",
    "\n",
    "truLexp = exp(block_mat)[N+1:end,1:N];"
   ]
  },
  {
   "cell_type": "code",
   "execution_count": null,
   "metadata": {},
   "outputs": [],
   "source": [
    "W,Z,erv = lowrank_block_svd(A,E1,E2,A,2α,avec,bvec,numiter; get_resid=true, tru_sol=truLexp)\n",
    "L = W*Z;"
   ]
  },
  {
   "cell_type": "code",
   "execution_count": null,
   "metadata": {},
   "outputs": [],
   "source": [
    "p1 = plot(erv,yaxis=:log,label=\"Errors\")\n",
    "yticks!([10^0, 10^-2, 10^-4, 10^-6, 10^-8, 10^-10, 10^-12, 10^-14])\n",
    "yaxis!([1e-12,11000])\n",
    "xlabel!(L\"k\")\n",
    "ylabel!(L\"\\Vert \\mathbf{L}_k-L_{\\exp}(\\mathbf{A},\\mathbf{E})\\Vert_2\")\n",
    "#plot!(0:param.maxiter-1,((10N*(1-1/param.conv_rate))*param.conv_rate.^(-(0:param.maxiter-1))),label=\"Reference line\")"
   ]
  },
  {
   "cell_type": "code",
   "execution_count": null,
   "metadata": {},
   "outputs": [],
   "source": [
    "savefig(p1,\"exp-frechet.pdf\")"
   ]
  },
  {
   "cell_type": "markdown",
   "metadata": {},
   "source": [
    "### Eigenvalues off intervals"
   ]
  },
  {
   "cell_type": "code",
   "execution_count": null,
   "metadata": {},
   "outputs": [],
   "source": [
    "bands = [-2 -0.5; 0.5 6]\n",
    "\n",
    "Random.seed!(123)\n",
    "\n",
    "#generate dense positive definite matrices with eigenvalues \n",
    "evalrangeA = [0.5 6.] #eigenvalues of A\n",
    "evalrangeB = [0.5 2.] #eigenvalues of B\n",
    "N, N₂ = 300, 100 #dimensions of A and B\n",
    "r = 2 #rank of RHS\n",
    "\n",
    "#generate B\n",
    "μ2 = M(evalrangeB[1],evalrangeB[2])(0.8*(2rand(N₂).-1))\n",
    "D = diagm(μ2)+randn(N₂,N₂)/sqrt(N₂)\n",
    "P = rand(N₂,N₂)\n",
    "Q,R = qr(P)\n",
    "B = Q\\(D*Q);\n",
    "B = -B\n",
    "\n",
    "#generate A\n",
    "μ = M(evalrangeA[1],evalrangeA[2])(0.95*(2rand(N).-1))\n",
    "A = diagm(μ)+randn(N,N)/sqrt(N)\n",
    "P = rand(N,N)\n",
    "Q,R = qr(P)\n",
    "A = Q\\(A*Q)\n",
    "\n",
    "bands = [-reverse(evalrangeB); evalrangeA] #eigenvalues of block system\n",
    "\n",
    "#generate RHS\n",
    "U = randn(N₂,r)\n",
    "V = randn(r,N)\n",
    "\n",
    "H = [A zeros(N,N₂); zeros(N₂,N) B];"
   ]
  },
  {
   "cell_type": "code",
   "execution_count": null,
   "metadata": {},
   "outputs": [],
   "source": [
    "g0 = golden_section(bands)\n",
    "\n",
    "xv = bands[1,1]-0.2:0.01:bands[end,2]+0.2\n",
    "yv = LinRange(-1.,1.,length(xv))\n",
    "make_mat(x, y) = x+im*y\n",
    "zv = @. make_mat(xv', yv);\n",
    "gzp = map(z->get_n_coeffs_and_ints_akh(bands, 0, z)[4][1],zv);"
   ]
  },
  {
   "cell_type": "code",
   "execution_count": null,
   "metadata": {},
   "outputs": [],
   "source": [
    "p1 = contour(xv, yv, real.(gzp), levels=[0.005; 0.1; 0.17; 0.25], color=:black,colorbar=false)\n",
    "contour!(xv, yv, real.(gzp), levels=[g0], linecolor=:red, linestyle=:dash, colorbar=false)\n",
    "xlabel!(L\"\\mathrm{Re}(z)\")\n",
    "ylabel!(L\"\\mathrm{Im}(z)\")\n",
    "plot!(eigvals(H),seriestype=:scatter,label=:false)\n",
    "worst_eig = -1.6287090008859226 + 0.15421322082385427im\n",
    "plot!([worst_eig; conj(worst_eig)],seriestype=:scatter,label=:false)"
   ]
  },
  {
   "cell_type": "code",
   "execution_count": null,
   "metadata": {},
   "outputs": [],
   "source": [
    "savefig(p1,\"eigvals_bern.pdf\")"
   ]
  },
  {
   "cell_type": "code",
   "execution_count": null,
   "metadata": {},
   "outputs": [],
   "source": [
    "egt = exp(g0)\n",
    "ge = real(get_n_coeffs_and_ints_akh(bands, 0, worst_eig)[4][1])\n",
    "param = get_params(bands,A,B; gt = g0-ge, num_quad_pts=1500)\n",
    "tru_sln = sylvester(-B,A,-U*V);"
   ]
  },
  {
   "cell_type": "code",
   "execution_count": null,
   "metadata": {},
   "outputs": [],
   "source": [
    "W,Z,erv = lowrank_block_svd(A,U,V,B,param; get_resid=true, tru_sol=tru_sln)"
   ]
  },
  {
   "cell_type": "code",
   "execution_count": null,
   "metadata": {},
   "outputs": [],
   "source": [
    "p2 = plot(2erv,yaxis=:log,label=\"Errors\")\n",
    "xlabel!(L\"k\")\n",
    "ylabel!(L\"\\Vert \\mathbf{X}_k-\\mathbf{X}_*\\Vert_2\")\n",
    "yticks!([10^0, 10^-2, 10^-4, 10^-6, 10^-8, 10^-10, 10^-12, 10^-14])\n",
    "yaxis!([1e-16,3000])\n",
    "plot!(0:param.maxiter-1,((10(N+N₂)*(1-1/param.conv_rate))*param.conv_rate.^(-(0:param.maxiter-1))),label=\"True reference line\")\n",
    "plot!(0:param.maxiter-1,((10(N+N₂)*(1-1/egt))*egt.^(-(0:param.maxiter-1))),label=\"Naive reference line\", linestyle=:dash)"
   ]
  },
  {
   "cell_type": "code",
   "execution_count": null,
   "metadata": {},
   "outputs": [],
   "source": [
    "savefig(p2,\"eig_conv.pdf\")"
   ]
  },
  {
   "cell_type": "code",
   "execution_count": null,
   "metadata": {},
   "outputs": [],
   "source": []
  }
 ],
 "metadata": {
  "kernelspec": {
   "display_name": "Julia 1.10.1",
   "language": "julia",
   "name": "julia-1.10"
  },
  "language_info": {
   "file_extension": ".jl",
   "mimetype": "application/julia",
   "name": "julia",
   "version": "1.10.1"
  }
 },
 "nbformat": 4,
 "nbformat_minor": 2
}
