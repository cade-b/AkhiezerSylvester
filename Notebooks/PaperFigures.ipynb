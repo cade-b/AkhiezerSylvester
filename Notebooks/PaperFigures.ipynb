{
 "cells": [
  {
   "cell_type": "code",
   "execution_count": 1,
   "metadata": {},
   "outputs": [],
   "source": [
    "using Plots, Random, LaTeXStrings, BenchmarkTools, OperatorApproximation, LinearMaps, IterativeSolvers, EllipticFunctions, LinearAlgebra, RandomizedLinAlg"
   ]
  },
  {
   "cell_type": "code",
   "execution_count": 2,
   "metadata": {},
   "outputs": [],
   "source": [
    "Plots.scalefontsizes(1.5)"
   ]
  },
  {
   "cell_type": "code",
   "execution_count": 3,
   "metadata": {},
   "outputs": [
    {
     "data": {
      "text/plain": [
       "algorithm5 (generic function with 1 method)"
      ]
     },
     "execution_count": 3,
     "metadata": {},
     "output_type": "execute_result"
    }
   ],
   "source": [
    "include(\"/home/hdw27/Documents/AkhiezerSylvester/src/AkhiezerSylvester.jl\")\n",
    "include(\"/home/hdw27/Documents/AkhiezerSylvester/src/BS_ADI.jl\")\n",
    "include(\"/home/hdw27/Documents/AkhiezerSylvester/src/PolynomialKrylov.jl\")"
   ]
  },
  {
   "cell_type": "markdown",
   "metadata": {},
   "source": [
    "#### Linear maps to generate matrices"
   ]
  },
  {
   "cell_type": "code",
   "execution_count": 4,
   "metadata": {},
   "outputs": [
    {
     "data": {
      "text/plain": [
       "#27 (generic function with 1 method)"
      ]
     },
     "execution_count": 4,
     "metadata": {},
     "output_type": "execute_result"
    }
   ],
   "source": [
    "#functions to map [-1,1] to [a,b] and vice versa\n",
    "M = (a,b) ->  (x -> (b-a)/2*(x .+ (b+a)/(b-a)))\n",
    "iM = (a,b) -> (x -> 2/(b-a)*(x .- (b+a)/2))"
   ]
  },
  {
   "cell_type": "code",
   "execution_count": 5,
   "metadata": {},
   "outputs": [
    {
     "data": {
      "text/plain": [
       "#33 (generic function with 1 method)"
      ]
     },
     "execution_count": 5,
     "metadata": {},
     "output_type": "execute_result"
    }
   ],
   "source": [
    "#functions to generate evenly-spaced points on the unit circle\n",
    "mgrid = (n,L) -> -L .+ 2*L*(0:n-1)/n\n",
    "zgrid = n -> exp.(1im*mgrid(n,pi))"
   ]
  },
  {
   "cell_type": "markdown",
   "metadata": {},
   "source": [
    "### Convergence rate bounds"
   ]
  },
  {
   "cell_type": "code",
   "execution_count": null,
   "metadata": {},
   "outputs": [],
   "source": [
    "xv = 0:0.001:1\n",
    "pke(x) = (sqrt(x+1)-sqrt(2x))/(sqrt(x+1)+sqrt(2x))\n",
    "akhi(x) = (1-sqrt(x))/(1+sqrt(x))\n",
    "akhs(x) = sqrt((1-x)/(1+x))"
   ]
  },
  {
   "cell_type": "code",
   "execution_count": null,
   "metadata": {},
   "outputs": [],
   "source": [
    "p1 = plot(xv,pke,label=:\"Polynomial Krylov\")\n",
    "plot!(xv,akhs,label=:\"Method 1\",linestyle=:dash)\n",
    "plot!(xv,akhi,label=:\"Method 2\",linestyle=:dashdot)\n",
    "xlabel!(L\"\\beta\")\n",
    "ylabel!(\"Convergence rate\")"
   ]
  },
  {
   "cell_type": "code",
   "execution_count": null,
   "metadata": {},
   "outputs": [],
   "source": [
    "savefig(p1,\"conv_rate_bounds.pdf\")"
   ]
  },
  {
   "cell_type": "markdown",
   "metadata": {},
   "source": [
    "### Scalar approximation plots"
   ]
  },
  {
   "cell_type": "code",
   "execution_count": null,
   "metadata": {},
   "outputs": [],
   "source": [
    "#function that gets the rational function parameters for the 2r+1 Zolotarev rational on [-1, -beta] \\cup [beta, 1]\n",
    "function  get_zolo_params(r, beta)\n",
    "    \n",
    "    idx = 1:2*r;\n",
    "    m = 1-beta^2;\n",
    "    Kval = ellipticK(m); #matlab first out for ellipke\n",
    "    snv = jellip(\"sn\",idx*Kval/(2*r.+1); m=m);\n",
    "    cnv = jellip(\"cn\",idx*Kval/(2*r.+1); m=m);\n",
    "    c = real(beta^2*(snv.^2)./(cnv.^2))\n",
    "\n",
    "    M =  sum( log.(1.0.+c[1:2:2*r]) +log.(1.0./(1.0.+c[2:2:2*r]))); \n",
    "    M =  real(exp(M));\n",
    "\n",
    "  #=  a = zeros(1, r); \n",
    "    for j = 1:r\n",
    "        cm = c[1:2:2*r]; \n",
    "        cm[j] = []; \n",
    "        a[j] = -prod(c(2*j-1)-c(2:2:2*r))*prod(c(2*j-1)-cm);\n",
    "    end =#\n",
    "    return M, c   \n",
    "end"
   ]
  },
  {
   "cell_type": "code",
   "execution_count": null,
   "metadata": {},
   "outputs": [],
   "source": [
    "function eval_zolo(M,c, x)\n",
    "    out = ones(length(x),1); \n",
    "    for j = 1:(length(c)/2 |> Int )\n",
    "      out .*= @. (x^2 + c[2*j])/(x^2 + c[2*j-1]); \n",
    "    end\n",
    "    out = M.*x.*out;\n",
    "    return out\n",
    "end"
   ]
  },
  {
   "cell_type": "code",
   "execution_count": null,
   "metadata": {},
   "outputs": [],
   "source": [
    "function zolo_range(pts,β; iter=50)\n",
    "    vals = zeros(length(pts),ceil((iter-1)/2)+1 |> Int)\n",
    "    for j = 0:(ceil((iter-1)/2) |> Int)\n",
    "        M, c = get_zolo_params(j, β)\n",
    "        vals[:,j+1] = eval_zolo(M, c, pts)\n",
    "    end\n",
    "    vals\n",
    "end"
   ]
  },
  {
   "cell_type": "code",
   "execution_count": null,
   "metadata": {},
   "outputs": [],
   "source": [
    "#Akhiezer polynomial approximation stored at each iteration\n",
    "function poly_approx(x,avec,bvec,coeffs; maxiter=150)\n",
    "    hist = zeros(ComplexF64,maxiter,1)\n",
    "    fx = 0.\n",
    "    for k = 0:maxiter-1\n",
    "        if k == 0\n",
    "            global y = 1.\n",
    "        elseif k == 1\n",
    "            global y = (x*ym1-avec[1]*ym1)/bvec[1]\n",
    "            global ym2 = ym1\n",
    "        else\n",
    "            global y = (x*ym1-bvec[k-1]*ym2-avec[k]*ym1)/bvec[k]\n",
    "            global ym2 = ym1\n",
    "        end\n",
    "        global ym1 = y\n",
    "\n",
    "        fx += coeffs[k+1]*y\n",
    "        hist[k+1] = fx\n",
    "    end\n",
    "    hist\n",
    "end"
   ]
  },
  {
   "cell_type": "code",
   "execution_count": null,
   "metadata": {},
   "outputs": [],
   "source": [
    "function get_err(sol_mat,tru_sol)\n",
    "    err_vec = zeros(size(sol_mat,2))\n",
    "    for j = 1:size(sol_mat,2)\n",
    "        err_vec[j] = norm(sol_mat[:,j]-tru_sol,Inf)\n",
    "    end\n",
    "    err_vec\n",
    "end"
   ]
  },
  {
   "cell_type": "code",
   "execution_count": null,
   "metadata": {},
   "outputs": [],
   "source": [
    "for β in [1/8 1/4 1/2 3/4]\n",
    "    bands = [-1 -β; β 1]\n",
    "    param = get_params(bands,zeros(1,1),zeros(1,1); numiter=150)\n",
    "    npts = 50\n",
    "    pts = [range(-1, -β, npts); range(β, 1, npts)]\n",
    "\n",
    "    poly1 = mapreduce(permutedims,vcat,map(x->poly_approx(x,param.avec,param.bvec,param.α), pts))\n",
    "    zolo1 = zolo_range(pts,β)\n",
    "    tru_sgn = [-ones(npts,1); ones(npts, 1)]\n",
    "    err_poly = get_err(poly1,tru_sgn)\n",
    "    err_zolo = get_err(zolo1,tru_sgn)\n",
    "\n",
    "    p1 = plot(0:149,err_poly,yaxis=:log,label=:\"Polynomial\")\n",
    "    plot!(2:4:102,err_zolo,label=:\"Rational\")\n",
    "    xlabel!(\"Degrees of freedom\")\n",
    "    ylabel!(\"Max norm error\")\n",
    "    title!(L\"[-1,-%$β]\\cup[%$β,1]\")\n",
    "    yaxis!([1,1e-5,1e-10,1e-15])\n",
    "\n",
    "    savefig(p1,\"poly_rat_comp$β.pdf\")\n",
    "end\n",
    "display(p1)"
   ]
  },
  {
   "cell_type": "markdown",
   "metadata": {},
   "source": [
    "### Generalized Bernstein ellipse plots"
   ]
  },
  {
   "cell_type": "code",
   "execution_count": null,
   "metadata": {},
   "outputs": [],
   "source": [
    "bands = [-2 -0.5; 0.5 6]\n",
    "\n",
    "xv = bands[1,1]-0.2:0.01:bands[end,2]+0.2\n",
    "yv = LinRange(-1.,1.,length(xv))\n",
    "make_mat(x, y) = x+im*y\n",
    "zv = @. make_mat(xv', yv);\n",
    "gzp = map(z->get_n_coeffs_and_ints_akh(bands, 0, z)[4][1],zv);"
   ]
  },
  {
   "cell_type": "code",
   "execution_count": null,
   "metadata": {},
   "outputs": [],
   "source": [
    "g0 = golden_section(bands)\n",
    "\n",
    "p1 = contour(xv, yv, real.(gzp), levels=[0.005; 0.1; 0.17; 0.25], color=:black,colorbar=false)\n",
    "contour!(xv, yv, real.(gzp), levels=[g0], linecolor=:red, linestyle=:dash, colorbar=false)\n",
    "xlabel!(L\"\\mathrm{Re}(z)\")\n",
    "ylabel!(L\"\\mathrm{Im}(z)\")"
   ]
  },
  {
   "cell_type": "code",
   "execution_count": null,
   "metadata": {},
   "outputs": [],
   "source": [
    "savefig(p1,\"bernstein1.pdf\")"
   ]
  },
  {
   "cell_type": "code",
   "execution_count": null,
   "metadata": {},
   "outputs": [],
   "source": [
    "bands = [-2 -0.1; 0.1 1.5]\n",
    "\n",
    "xv = bands[1,1]-0.2:0.01:bands[end,2]+0.2\n",
    "yv = LinRange(-0.5,0.5,length(xv))\n",
    "make_mat(x, y) = x+im*y\n",
    "zv = @. make_mat(xv', yv);\n",
    "gzp = map(z->get_n_coeffs_and_ints_akh(bands, 0, z)[4][1],zv);"
   ]
  },
  {
   "cell_type": "code",
   "execution_count": null,
   "metadata": {},
   "outputs": [],
   "source": [
    "g0 = golden_section(bands)\n",
    "\n",
    "p2 = contour(xv, yv, real.(gzp), levels=[0.005; 0.04; 0.1; 0.27], color=:black,colorbar=false)\n",
    "contour!(xv, yv, real.(gzp), levels=[g0], linecolor=:red, linestyle=:dash, colorbar=false)\n",
    "xlabel!(L\"\\mathrm{Re}(z)\")\n",
    "ylabel!(L\"\\mathrm{Im}(z)\")"
   ]
  },
  {
   "cell_type": "code",
   "execution_count": null,
   "metadata": {},
   "outputs": [],
   "source": [
    "savefig(p2,\"bernstein2.pdf\")"
   ]
  },
  {
   "cell_type": "markdown",
   "metadata": {},
   "source": [
    "### Weighted compression figures"
   ]
  },
  {
   "cell_type": "code",
   "execution_count": null,
   "metadata": {},
   "outputs": [],
   "source": [
    "Random.seed!(123)\n",
    "\n",
    "#generate dense positive definite matrices with eigenvalues \n",
    "evalrangeA = [2. 3.] #eigenvalues of A\n",
    "evalrangeB = [0.5 1.8] #eigenvalues of B\n",
    "N, N₂ = 1000, 900 #dimensions of A and B\n",
    "r = 2 #rank of RHS\n",
    "\n",
    "#generate B\n",
    "μ2 = M(evalrangeB[1],evalrangeB[2])(2*rand(N₂).-1)\n",
    "D = diagm(μ2)\n",
    "P = rand(N₂,N₂)\n",
    "Q,R = qr(P)\n",
    "B = Q\\(D*Q);\n",
    "\n",
    "#generate A\n",
    "μ = M(evalrangeA[1],evalrangeA[2])(2*rand(N).-1)\n",
    "A = diagm(μ)\n",
    "P = rand(N,N)\n",
    "Q,R = qr(P)\n",
    "A = Q\\(A*Q)\n",
    "\n",
    "bands = [-reverse(evalrangeB); evalrangeA] #eigenvalues of block system\n",
    "\n",
    "#generate RHS\n",
    "U = randn(N₂,r)\n",
    "V = randn(r,N)"
   ]
  },
  {
   "cell_type": "code",
   "execution_count": null,
   "metadata": {},
   "outputs": [],
   "source": [
    "tru_sln = sylvester(B,A,-U*V);"
   ]
  },
  {
   "cell_type": "code",
   "execution_count": null,
   "metadata": {},
   "outputs": [],
   "source": [
    "param = get_params(bands,A,-B);"
   ]
  },
  {
   "cell_type": "code",
   "execution_count": null,
   "metadata": {},
   "outputs": [],
   "source": [
    "W, Z, rJK, rWZ, erv = lowrank_block_svd(A,U,V,-B,param; get_resid=true, store_rank=true,tru_sol=tru_sln,use_weight_compress=false);"
   ]
  },
  {
   "cell_type": "code",
   "execution_count": null,
   "metadata": {},
   "outputs": [],
   "source": [
    "p1 = plot(0:param.maxiter-1,rJK,label=L\"\\mathbf{J}_k\\mathbf{K}_k\")\n",
    "plot!(1:param.maxiter,rWZ,label=L\"\\mathbf{W}_k\\mathbf{Z}_k\")\n",
    "xlabel!(L\"k\")\n",
    "ylabel!(\"Numerical rank\")"
   ]
  },
  {
   "cell_type": "code",
   "execution_count": null,
   "metadata": {},
   "outputs": [],
   "source": [
    "savefig(p1,\"rank_iter.pdf\")"
   ]
  },
  {
   "cell_type": "code",
   "execution_count": null,
   "metadata": {},
   "outputs": [],
   "source": [
    "p2 = plot(1:param.maxiter,erv,yaxis=:log,label=:false)\n",
    "yticks!([10^0, 10^-2, 10^-4, 10^-6, 10^-8, 10^-10, 10^-12, 10^-14])\n",
    "xlabel!(L\"k\")\n",
    "ylabel!(L\"\\Vert \\mathbf{W}_k\\mathbf{Z}_k-\\mathbf{X}_*\\Vert_2\")"
   ]
  },
  {
   "cell_type": "code",
   "execution_count": null,
   "metadata": {},
   "outputs": [],
   "source": [
    "savefig(p2,\"err_iter.pdf\")"
   ]
  },
  {
   "cell_type": "code",
   "execution_count": null,
   "metadata": {},
   "outputs": [],
   "source": [
    "W, Z, rJK, rWZ, erv = lowrank_block_svd(A,U,V,-B,param; get_resid=true, store_rank=true,tru_sol=tru_sln);"
   ]
  },
  {
   "cell_type": "code",
   "execution_count": null,
   "metadata": {},
   "outputs": [],
   "source": [
    "p3 = plot(0:param.maxiter-1,rJK,label=L\"\\mathbf{J}_k\\mathbf{K}_k\")\n",
    "plot!(1:param.maxiter,rWZ,label=L\"\\mathbf{W}_k\\mathbf{Z}_k\")\n",
    "xlabel!(L\"k\")\n",
    "ylabel!(\"Numerical rank\")"
   ]
  },
  {
   "cell_type": "code",
   "execution_count": null,
   "metadata": {},
   "outputs": [],
   "source": [
    "savefig(p3,\"rank_iter_new.pdf\")"
   ]
  },
  {
   "cell_type": "code",
   "execution_count": null,
   "metadata": {},
   "outputs": [],
   "source": [
    "storage1 = [rJK[i] + (i > 1 ? rJK[i-1] : 0) + (i > 2 ? rJK[i-2] : 0) for i in 1:length(rJK)]+[rWZ[i] + (i > 1 ? rWZ[i-1] : 0)  for i in 1:length(rWZ)]\n",
    "storage1 += [r; 2r; 3r*ones(length(storage1)-2)];"
   ]
  },
  {
   "cell_type": "code",
   "execution_count": null,
   "metadata": {},
   "outputs": [],
   "source": [
    "p4 = plot(1:param.maxiter,erv,yaxis=:log,label=:false)\n",
    "yticks!([10^0, 10^-2, 10^-4, 10^-6, 10^-8, 10^-10, 10^-12, 10^-14])\n",
    "xlabel!(L\"k\")\n",
    "ylabel!(L\"\\Vert \\mathbf{W}_k\\mathbf{Z}_k-\\mathbf{X}_*\\Vert_2\")"
   ]
  },
  {
   "cell_type": "code",
   "execution_count": null,
   "metadata": {},
   "outputs": [],
   "source": [
    "savefig(p4,\"err_iter_new.pdf\")"
   ]
  },
  {
   "cell_type": "markdown",
   "metadata": {},
   "source": [
    "### Repeat figures for Method 2"
   ]
  },
  {
   "cell_type": "code",
   "execution_count": null,
   "metadata": {},
   "outputs": [],
   "source": [
    "params_inv = get_params_inv(bands,A,B)"
   ]
  },
  {
   "cell_type": "code",
   "execution_count": null,
   "metadata": {},
   "outputs": [],
   "source": [
    "W, Z, rJK, rWZ, erv = sylv_operator_inv_low_rank(A,U,V,-B,params_inv; get_resid=true, store_rank=true,tru_sol=tru_sln,use_weight_compress=false);"
   ]
  },
  {
   "cell_type": "code",
   "execution_count": null,
   "metadata": {},
   "outputs": [],
   "source": [
    "p1 = plot(0:params_inv.maxiter-1,rJK,label=L\"\\mathbf{J}_k\\mathbf{K}_k\")\n",
    "plot!(1:params_inv.maxiter,rWZ,label=L\"\\mathbf{W}_k\\mathbf{Z}_k\")\n",
    "xlabel!(L\"k\")\n",
    "ylabel!(\"Numerical rank\")"
   ]
  },
  {
   "cell_type": "code",
   "execution_count": null,
   "metadata": {},
   "outputs": [],
   "source": [
    "savefig(p1,\"rank_iter2.pdf\")"
   ]
  },
  {
   "cell_type": "code",
   "execution_count": null,
   "metadata": {},
   "outputs": [],
   "source": [
    "p2 = plot(1:params_inv.maxiter,erv,yaxis=:log,label=:false)\n",
    "yticks!([10^0, 10^-2, 10^-4, 10^-6, 10^-8, 10^-10, 10^-12, 10^-14])\n",
    "xlabel!(L\"k\")\n",
    "ylabel!(L\"\\Vert \\mathbf{W}_k\\mathbf{Z}_k-\\mathbf{X}_*\\Vert_F\")"
   ]
  },
  {
   "cell_type": "code",
   "execution_count": null,
   "metadata": {},
   "outputs": [],
   "source": [
    "savefig(p2,\"err_iter2.pdf\")"
   ]
  },
  {
   "cell_type": "code",
   "execution_count": null,
   "metadata": {},
   "outputs": [],
   "source": [
    "W, Z, rJK, rWZ, erv = sylv_operator_inv_low_rank(A,U,V,-B,params_inv; get_resid=true, store_rank=true,tru_sol=tru_sln);"
   ]
  },
  {
   "cell_type": "code",
   "execution_count": null,
   "metadata": {},
   "outputs": [],
   "source": [
    "p3 = plot(0:params_inv.maxiter-1,rJK,label=L\"\\mathbf{J}_k\\mathbf{K}_k\")\n",
    "plot!(1:params_inv.maxiter,rWZ,label=L\"\\mathbf{W}_k\\mathbf{Z}_k\")\n",
    "xlabel!(L\"k\")\n",
    "ylabel!(\"Numerical rank\")"
   ]
  },
  {
   "cell_type": "code",
   "execution_count": null,
   "metadata": {},
   "outputs": [],
   "source": [
    "savefig(p3,\"rank_iter_new2.pdf\")"
   ]
  },
  {
   "cell_type": "code",
   "execution_count": null,
   "metadata": {},
   "outputs": [],
   "source": [
    "p4 = plot(1:params_inv.maxiter,erv,yaxis=:log,label=:false)\n",
    "yticks!([10^0, 10^-2, 10^-4, 10^-6, 10^-8, 10^-10, 10^-12, 10^-14])\n",
    "xlabel!(L\"k\")\n",
    "ylabel!(L\"\\Vert \\mathbf{W}_k\\mathbf{Z}_k-\\mathbf{X}_*\\Vert_F\")"
   ]
  },
  {
   "cell_type": "code",
   "execution_count": null,
   "metadata": {},
   "outputs": [],
   "source": [
    "savefig(p4,\"err_iter_new2.pdf\")"
   ]
  },
  {
   "cell_type": "code",
   "execution_count": null,
   "metadata": {},
   "outputs": [],
   "source": [
    "params_new = AkhParamsInv(params_inv.a,params_inv.b,param.maxiter,params_inv.conv_rate)"
   ]
  },
  {
   "cell_type": "code",
   "execution_count": null,
   "metadata": {},
   "outputs": [],
   "source": [
    "W, Z, rJK, rWZ = sylv_operator_inv_low_rank(A,U,V,-B,params_new;store_rank=true);"
   ]
  },
  {
   "cell_type": "code",
   "execution_count": null,
   "metadata": {},
   "outputs": [],
   "source": [
    "storage2 = [rJK[i] + (i > 1 ? rJK[i-1] : 0) + (i > 2 ? rJK[i-2] : 0) for i in 1:length(rJK)]+[rWZ[i] + (i > 1 ? rWZ[i-1] : 0)  for i in 1:length(rWZ)];"
   ]
  },
  {
   "cell_type": "code",
   "execution_count": null,
   "metadata": {},
   "outputs": [],
   "source": [
    "#intro plot\n",
    "p4 = plot(1:param.maxiter,(N+N₂)*2r*(1:param.maxiter),label=:\"Polynomial Krylov\",legend=:top)\n",
    "plot!(1:param.maxiter,2(N+N₂)*storage1,label=:\"Method 1\",linestyle=:dash)\n",
    "plot!(1:param.maxiter,2(N+N₂)*storage2,label=:\"Method 2\",linestyle=:dashdot)\n",
    "xlabel!(\"Iteration\")\n",
    "ylabel!(\"Stored entries\")"
   ]
  },
  {
   "cell_type": "code",
   "execution_count": null,
   "metadata": {},
   "outputs": [],
   "source": [
    "savefig(p4,\"storage.pdf\")"
   ]
  },
  {
   "cell_type": "markdown",
   "metadata": {},
   "source": [
    "### Convergence heuristic figures"
   ]
  },
  {
   "cell_type": "code",
   "execution_count": null,
   "metadata": {},
   "outputs": [],
   "source": [
    "bands = [-1.8 -0.5; 2. 3.]"
   ]
  },
  {
   "cell_type": "code",
   "execution_count": null,
   "metadata": {},
   "outputs": [],
   "source": [
    "gt = golden_section(bands)\n",
    "egt = exp(gt)\n",
    "numiter = ceil(-log(egt,1e-16/5)) |> Int\n",
    "num_quad_pts = 800\n",
    "circ_size = 1.25\n",
    "\n",
    "cc(j) = (bands[j,1]+bands[j,2])/2\n",
    "rr(j) = circ_size*(bands[j,2]-bands[j,1])/2\n",
    "\n",
    "ctrpts = [] #quadrature nodes\n",
    "ptsper = [0; 0]\n",
    "weights = [] #quadrature weights\n",
    "total_length = sum(bands[:,2]-bands[:,1])\n",
    "for j = 1:2\n",
    "    ptsper[j] = round(num_quad_pts*(bands[j,2]-bands[j,1])/total_length)\n",
    "    append!(ctrpts,rr(j)*zgrid(ptsper[j]).+cc(j) .|> Complex)\n",
    "    append!(weights,2π*im*rr(j)*(zgrid(ptsper[j]))/ptsper[j] .|> Complex)\n",
    "end\n",
    "sgnpts = [-ones(ptsper[1]);ones(ptsper[2])]\n",
    "\n",
    "(avec,bvec,ints) = get_n_coeffs_and_ints_akh(bands, numiter, ctrpts)\n",
    "\n",
    "α = zeros(ComplexF64,numiter+1)\n",
    "for j = 1:length(ctrpts)\n",
    "    α -= sgnpts[j]*weights[j]*ints[:,j]\n",
    "end"
   ]
  },
  {
   "cell_type": "code",
   "execution_count": null,
   "metadata": {},
   "outputs": [],
   "source": [
    "p0 = plot(0:numiter,abs.(real.(α[1:numiter+1])),yaxis=:log,label=L\"|\\alpha_k|\")\n",
    "plot!(0:numiter,5egt.^(-(0:numiter)),label=L\"5\\mathrm{e}^{-k\\mathrm{Re}\\mathfrak{g}(z^*)}\")\n",
    "yticks!([10^0, 10^-5, 10^-10, 10^-15])\n",
    "xlabel!(L\"k\")\n",
    "title!(L\"[-1.8,-0.5]\\cup[2,3]\")"
   ]
  },
  {
   "cell_type": "code",
   "execution_count": null,
   "metadata": {},
   "outputs": [],
   "source": [
    "savefig(p0,\"coeffs_rate.pdf\")"
   ]
  },
  {
   "cell_type": "code",
   "execution_count": null,
   "metadata": {},
   "outputs": [],
   "source": [
    "bands = [-1.8 -0.1; 0.1 3]"
   ]
  },
  {
   "cell_type": "code",
   "execution_count": null,
   "metadata": {},
   "outputs": [],
   "source": [
    "gt = golden_section(bands)\n",
    "egt = exp(gt)\n",
    "numiter = ceil(-log(egt,1e-16/5)) |> Int\n",
    "num_quad_pts = 2000\n",
    "circ_size = 1.05\n",
    "\n",
    "cc(j) = (bands[j,1]+bands[j,2])/2\n",
    "rr(j) = circ_size*(bands[j,2]-bands[j,1])/2\n",
    "\n",
    "ctrpts = [] #quadrature nodes\n",
    "ptsper = [0; 0]\n",
    "weights = [] #quadrature weights\n",
    "total_length = sum(bands[:,2]-bands[:,1])\n",
    "for j = 1:2\n",
    "    ptsper[j] = round(num_quad_pts*(bands[j,2]-bands[j,1])/total_length)\n",
    "    append!(ctrpts,rr(j)*zgrid(ptsper[j]).+cc(j) .|> Complex)\n",
    "    append!(weights,2π*im*rr(j)*(zgrid(ptsper[j]))/ptsper[j] .|> Complex)\n",
    "end\n",
    "sgnpts = [-ones(ptsper[1]);ones(ptsper[2])]\n",
    "\n",
    "(avec,bvec,ints) = get_n_coeffs_and_ints_akh(bands, numiter, ctrpts)\n",
    "\n",
    "α = zeros(ComplexF64,numiter+1)\n",
    "for j = 1:length(ctrpts)\n",
    "    α -= sgnpts[j]*weights[j]*ints[:,j]\n",
    "end"
   ]
  },
  {
   "cell_type": "code",
   "execution_count": null,
   "metadata": {},
   "outputs": [],
   "source": [
    "p00 = plot(0:numiter,abs.(real.(α[1:numiter+1])),yaxis=:log,label=L\"|\\alpha_k|\")\n",
    "plot!(0:numiter,5egt.^(-(0:numiter)),label=L\"5\\mathrm{e}^{-k\\mathrm{Re}\\mathfrak{g}(z^*)}\")\n",
    "yticks!([10^0, 10^-5, 10^-10, 10^-15])\n",
    "xlabel!(L\"k\")\n",
    "title!(L\"[-1.8,-0.1]\\cup[0.1,3]\")"
   ]
  },
  {
   "cell_type": "code",
   "execution_count": null,
   "metadata": {},
   "outputs": [],
   "source": [
    "savefig(p00,\"coeffs_rate_close.pdf\")"
   ]
  },
  {
   "cell_type": "code",
   "execution_count": null,
   "metadata": {},
   "outputs": [],
   "source": [
    "Random.seed!(123)\n",
    "\n",
    "N, N₂ = 200, 200 #dimensions of A and B\n",
    "r = 2 #rank of RHS\n",
    "\n",
    "evalrangeA = [2. 3.] #eigenvalues of A\n",
    "evalrangeB = [0.5 1.8] #eigenvalues of B\n",
    "\n",
    "bands = [-reverse(evalrangeB); evalrangeA]\n",
    "\n",
    "#generate B\n",
    "μ2 = M(evalrangeB[1],evalrangeB[2])(2*rand(N₂).-1)\n",
    "D = diagm(μ2)\n",
    "P = rand(N₂,N₂)\n",
    "Q,R = qr(P)\n",
    "B = Q\\(D*Q);\n",
    "\n",
    "#generate A\n",
    "μ = M(evalrangeA[1],evalrangeA[2])(2*rand(N).-1)\n",
    "A = diagm(μ)\n",
    "P = rand(N,N)\n",
    "Q,R = qr(P)\n",
    "A = Q\\(A*Q)\n",
    "\n",
    "#generate RHS\n",
    "U = randn(N₂,r)\n",
    "V = randn(r,N)\n",
    "\n",
    "tru_sol = sylvester(B,A,-U*V);"
   ]
  },
  {
   "cell_type": "code",
   "execution_count": null,
   "metadata": {},
   "outputs": [],
   "source": [
    "param = get_params(bands,A,-B)\n",
    "W, Z, erv = lowrank_block_svd(A,U,V,-B,param; get_resid=true, tru_sol=tru_sol);"
   ]
  },
  {
   "cell_type": "code",
   "execution_count": null,
   "metadata": {},
   "outputs": [],
   "source": [
    "p3 = plot(1:param.maxiter,erv,yaxis=:log,label=\"Errors\")\n",
    "yticks!(([10^0, 10^-2, 10^-4, 10^-6, 10^-8, 10^-10, 10^-12, 10^-14]))\n",
    "xlabel!(L\"k\")\n",
    "ylabel!(L\"\\Vert \\mathbf{X}_k-\\mathbf{X}_*\\Vert_2\")\n",
    "plot!(0:param.maxiter,(5(N+N₂)/(1-param.conv_rate))*param.conv_rate.^(0:param.maxiter),label=\"Reference line\")\n",
    "title!(L\"m,n=200\")"
   ]
  },
  {
   "cell_type": "code",
   "execution_count": null,
   "metadata": {},
   "outputs": [],
   "source": [
    "savefig(p3,\"err_heuristic_small.pdf\")"
   ]
  },
  {
   "cell_type": "code",
   "execution_count": null,
   "metadata": {},
   "outputs": [],
   "source": [
    "Random.seed!(123)\n",
    "\n",
    "N, N₂ = 1000, 1000 #dimensions of A and B\n",
    "r = 2 #rank of RHS\n",
    "\n",
    "#generate B\n",
    "μ2 = M(evalrangeB[1],evalrangeB[2])(2*rand(N₂).-1)\n",
    "D = diagm(μ2)\n",
    "P = rand(N₂,N₂)\n",
    "Q,R = qr(P)\n",
    "B = Q\\(D*Q);\n",
    "\n",
    "#generate A\n",
    "μ = M(evalrangeA[1],evalrangeA[2])(2*rand(N).-1)\n",
    "A = diagm(μ)\n",
    "P = rand(N,N)\n",
    "Q,R = qr(P)\n",
    "A = Q\\(A*Q)\n",
    "\n",
    "#generate RHS\n",
    "U = randn(N₂,r)\n",
    "V = randn(r,N)\n",
    "\n",
    "tru_sol = sylvester(B,A,-U*V);"
   ]
  },
  {
   "cell_type": "code",
   "execution_count": null,
   "metadata": {},
   "outputs": [],
   "source": [
    "param = get_params(bands,A,-B)\n",
    "W, Z, erv = lowrank_block_svd(A,U,V,-B,param; get_resid=true, tru_sol=tru_sol);"
   ]
  },
  {
   "cell_type": "code",
   "execution_count": null,
   "metadata": {},
   "outputs": [],
   "source": [
    "p4 = plot(1:param.maxiter,erv,yaxis=:log,label=\"Errors\")\n",
    "yticks!([10^0, 10^-2, 10^-4, 10^-6, 10^-8, 10^-10, 10^-12, 10^-14])\n",
    "xlabel!(L\"k\")\n",
    "ylabel!(L\"\\Vert \\mathbf{X}_k-\\mathbf{X}_*\\Vert_2\")\n",
    "plot!(0:param.maxiter,(5(N+N₂)/(1-param.conv_rate))*param.conv_rate.^(0:param.maxiter),label=\"Reference line\")\n",
    "title!(L\"m,n=1000\")"
   ]
  },
  {
   "cell_type": "code",
   "execution_count": null,
   "metadata": {},
   "outputs": [],
   "source": [
    "savefig(p4,\"err_heuristic.pdf\")"
   ]
  },
  {
   "cell_type": "markdown",
   "metadata": {},
   "source": [
    "### Repeat figures for Method 2"
   ]
  },
  {
   "cell_type": "code",
   "execution_count": null,
   "metadata": {},
   "outputs": [],
   "source": [
    "Random.seed!(123)\n",
    "\n",
    "N, N₂ = 200, 200 #dimensions of A and B\n",
    "r = 2 #rank of RHS\n",
    "\n",
    "evalrangeA = [2. 3.] #eigenvalues of A\n",
    "evalrangeB = [0.5 1.8] #eigenvalues of B\n",
    "\n",
    "bands = [-reverse(evalrangeB); evalrangeA]\n",
    "\n",
    "#generate B\n",
    "μ2 = M(evalrangeB[1],evalrangeB[2])(2*rand(N₂).-1)\n",
    "D = diagm(μ2)\n",
    "P = rand(N₂,N₂)\n",
    "Q,R = qr(P)\n",
    "B = Q\\(D*Q);\n",
    "\n",
    "#generate A\n",
    "μ = M(evalrangeA[1],evalrangeA[2])(2*rand(N).-1)\n",
    "A = diagm(μ)\n",
    "P = rand(N,N)\n",
    "Q,R = qr(P)\n",
    "A = Q\\(A*Q)\n",
    "\n",
    "#generate RHS\n",
    "U = randn(N₂,r)\n",
    "V = randn(r,N)\n",
    "\n",
    "tru_sol = sylvester(B,A,-U*V);"
   ]
  },
  {
   "cell_type": "code",
   "execution_count": null,
   "metadata": {},
   "outputs": [],
   "source": [
    "param = get_params_inv(bands,A,-B)\n",
    "W, Z, erv = sylv_operator_inv_low_rank(A,U,V,-B,param; get_resid=true, tru_sol=tru_sol);"
   ]
  },
  {
   "cell_type": "code",
   "execution_count": null,
   "metadata": {},
   "outputs": [],
   "source": [
    "p3 = plot(1:param.maxiter,erv,yaxis=:log,label=\"Errors\")\n",
    "yticks!(([10^0, 10^-2, 10^-4, 10^-6, 10^-8, 10^-10, 10^-12, 10^-14]))\n",
    "xlabel!(L\"k\")\n",
    "ylabel!(L\"\\Vert \\mathbf{X}_k-\\mathbf{X}_*\\Vert_F\")\n",
    "plot!(0:param.maxiter,(20(N+N₂)/(1-param.conv_rate))*param.conv_rate.^(0:param.maxiter),label=\"Reference line\")\n",
    "title!(L\"m,n=200\")"
   ]
  },
  {
   "cell_type": "code",
   "execution_count": null,
   "metadata": {},
   "outputs": [],
   "source": [
    "savefig(p3,\"err_heuristic_small2.pdf\")"
   ]
  },
  {
   "cell_type": "code",
   "execution_count": null,
   "metadata": {},
   "outputs": [],
   "source": [
    "Random.seed!(123)\n",
    "\n",
    "N, N₂ = 1000, 1000 #dimensions of A and B\n",
    "r = 2 #rank of RHS\n",
    "\n",
    "evalrangeA = [2. 3.] #eigenvalues of A\n",
    "evalrangeB = [0.5 1.8] #eigenvalues of B\n",
    "\n",
    "bands = [-reverse(evalrangeB); evalrangeA]\n",
    "\n",
    "#generate B\n",
    "μ2 = M(evalrangeB[1],evalrangeB[2])(2*rand(N₂).-1)\n",
    "D = diagm(μ2)\n",
    "P = rand(N₂,N₂)\n",
    "Q,R = qr(P)\n",
    "B = Q\\(D*Q);\n",
    "\n",
    "#generate A\n",
    "μ = M(evalrangeA[1],evalrangeA[2])(2*rand(N).-1)\n",
    "A = diagm(μ)\n",
    "P = rand(N,N)\n",
    "Q,R = qr(P)\n",
    "A = Q\\(A*Q)\n",
    "\n",
    "#generate RHS\n",
    "U = randn(N₂,r)\n",
    "V = randn(r,N)\n",
    "\n",
    "tru_sol = sylvester(B,A,-U*V);"
   ]
  },
  {
   "cell_type": "code",
   "execution_count": null,
   "metadata": {},
   "outputs": [],
   "source": [
    "param = get_params_inv(bands,A,-B)\n",
    "W, Z, erv = sylv_operator_inv_low_rank(A,U,V,-B,param; get_resid=true, tru_sol=tru_sol);"
   ]
  },
  {
   "cell_type": "code",
   "execution_count": null,
   "metadata": {},
   "outputs": [],
   "source": [
    "p4 = plot(1:param.maxiter,erv,yaxis=:log,label=\"Errors\")\n",
    "yticks!([10^0, 10^-2, 10^-4, 10^-6, 10^-8, 10^-10, 10^-12, 10^-14])\n",
    "xlabel!(L\"k\")\n",
    "ylabel!(L\"\\Vert \\mathbf{X}_k-\\mathbf{X}_*\\Vert_F\")\n",
    "plot!(0:param.maxiter,(20(N+N₂)/(1-param.conv_rate))*param.conv_rate.^(0:param.maxiter),label=\"Reference line\")\n",
    "title!(L\"m,n=1000\")"
   ]
  },
  {
   "cell_type": "code",
   "execution_count": null,
   "metadata": {},
   "outputs": [],
   "source": [
    "savefig(p4,\"err_heuristic2.pdf\")"
   ]
  },
  {
   "cell_type": "markdown",
   "metadata": {},
   "source": [
    "### Method 2 with multiple intervals"
   ]
  },
  {
   "cell_type": "code",
   "execution_count": null,
   "metadata": {},
   "outputs": [],
   "source": [
    "Random.seed!(123)\n",
    "\n",
    "N, N₂ = 1000, 1000 #dimensions of A and B\n",
    "r = 2 #rank of RHS\n",
    "\n",
    "evalrangeA = [0.5 1.] #eigenvalues of A\n",
    "evalrangeB = [0.5 1.8] #eigenvalues of B\n",
    "outlier = 10.\n",
    "\n",
    "bands = [-reverse(evalrangeB); evalrangeA[1] outlier]\n",
    "\n",
    "#generate B\n",
    "μ2 = M(evalrangeB[1],evalrangeB[2])(2*rand(N₂).-1)\n",
    "D = diagm(μ2)\n",
    "P = rand(N₂,N₂)\n",
    "Q,R = qr(P)\n",
    "B = Q\\(D*Q);\n",
    "\n",
    "#generate A\n",
    "μ = M(evalrangeA[1],evalrangeA[2])(2*rand(N-1).-1)\n",
    "A = diagm([μ; 10.])\n",
    "P = rand(N,N)\n",
    "Q,R = qr(P)\n",
    "A = Q\\(A*Q)\n",
    "\n",
    "#generate RHS\n",
    "U = randn(N₂,r)\n",
    "V = randn(r,N)\n",
    "\n",
    "tru_sol = sylvester(B,A,-U*V);"
   ]
  },
  {
   "cell_type": "code",
   "execution_count": null,
   "metadata": {},
   "outputs": [],
   "source": [
    "param = get_params_inv(bands,A,-B)\n",
    "W, Z, erv = sylv_operator_inv_low_rank(A,U,V,-B,param; get_resid=true, tru_sol=tru_sol);"
   ]
  },
  {
   "cell_type": "code",
   "execution_count": null,
   "metadata": {},
   "outputs": [],
   "source": [
    "p4 = plot(1:param.maxiter,erv,yaxis=:log,label=\"Errors\")\n",
    "yticks!([10^0, 10^-2, 10^-4, 10^-6, 10^-8, 10^-10, 10^-12, 10^-14])\n",
    "xlabel!(L\"k\")\n",
    "ylabel!(L\"\\Vert \\mathbf{X}_k-\\mathbf{X}_*\\Vert_F\")\n",
    "plot!(0:param.maxiter,(20(N+N₂)/(1-param.conv_rate))*param.conv_rate.^(0:param.maxiter),label=\"Reference line\")"
   ]
  },
  {
   "cell_type": "code",
   "execution_count": null,
   "metadata": {},
   "outputs": [],
   "source": [
    "savefig(p4,\"errs1int.pdf\")"
   ]
  },
  {
   "cell_type": "code",
   "execution_count": null,
   "metadata": {},
   "outputs": [],
   "source": [
    "bandsnew = [bands[2,1]-bands[1,2] evalrangeA[2]-bands[1,1]; outlier-bands[1,2] outlier-bands[1,1]]\n",
    "(avec,bvec,ints,gg) = get_n_coeffs_and_ints_akh(bandsnew, 101, 0.)\n",
    "gt = real(gg)[1]\n",
    "egt = exp(gt)\n",
    "coeffs = 2pi*im*ints[:,1];\n",
    "maxiters = ceil(-log(egt,maximum([1e-14*(1-1/egt)/(20(N+N₂)),eps()/5]))) |> Int"
   ]
  },
  {
   "cell_type": "code",
   "execution_count": null,
   "metadata": {},
   "outputs": [],
   "source": [
    "W,Z,erv = sylv_operator_inv_low_rank_more_ints(A,U,V,-B,coeffs,avec,bvec,maxiters,egt; get_resid=true, tru_sol=tru_sol);"
   ]
  },
  {
   "cell_type": "code",
   "execution_count": null,
   "metadata": {},
   "outputs": [],
   "source": [
    "p5 = plot(1:maxiters,erv,yaxis=:log,label=\"Errors\")\n",
    "yticks!([10^0, 10^-2, 10^-4, 10^-6, 10^-8, 10^-10, 10^-12, 10^-14])\n",
    "xlabel!(L\"k\")\n",
    "ylabel!(L\"\\Vert \\mathbf{X}_k-\\mathbf{X}_*\\Vert_F\")\n",
    "plot!(0:maxiters,(20(N+N₂)/(1-1/egt))*egt.^(-(0:maxiters)),label=\"Reference line\")"
   ]
  },
  {
   "cell_type": "code",
   "execution_count": null,
   "metadata": {},
   "outputs": [],
   "source": [
    "savefig(p5,\"errs2int.pdf\")"
   ]
  },
  {
   "cell_type": "markdown",
   "metadata": {},
   "source": [
    "### Timing comparisons"
   ]
  },
  {
   "cell_type": "code",
   "execution_count": null,
   "metadata": {},
   "outputs": [],
   "source": [
    "evalrangeA = [0.5 1.95] #eigenvalues of A\n",
    "evalrangeB = [2 4] #eigenvalues of B\n",
    "bands = [-reverse(evalrangeB); evalrangeA] #eigenvalues of block system\n",
    "r = 1 #rank of RHS.  \n",
    "\n",
    "nvec = [1000; 1250:250:2250; 2500:500:3500; 4000:2000:18000] #add more here\n",
    "t1 = zeros(length(nvec)); t2 = zeros(length(nvec)); t3 = zeros(length(nvec)); t4 = zeros(length(nvec)); t5 = zeros(length(nvec)); \n",
    "\n",
    "for (j,nn) in enumerate(nvec)\n",
    "    Random.seed!(123)\n",
    "\n",
    "    #generate B\n",
    "    μ2 = M(evalrangeB[1],evalrangeB[2])(2*rand(nn).-1)\n",
    "    D = diagm(μ2)\n",
    "    P = rand(nn,nn)\n",
    "    Q,R = qr(P)\n",
    "    B = Q\\(D*Q);\n",
    "\n",
    "    #generate A\n",
    "    μ = M(evalrangeA[1],evalrangeA[2])(2*rand(nn).-1)\n",
    "    A = diagm(μ)\n",
    "    P = rand(nn,nn)\n",
    "    Q,R = qr(P)\n",
    "    A = Q\\(A*Q)\n",
    "\n",
    "    #generate RHS\n",
    "    U = randn(nn,r)\n",
    "    V = randn(r,nn)\n",
    "    \n",
    "    param = get_params(bands,A,-B;tol=2e-8)\n",
    "    \n",
    "    t11 = @belapsed lowrank_block_svd($A,$U,$V,-$B,$param)\n",
    "    t1[j] = t11;\n",
    "    if nn <= 3500\n",
    "      t22 = @belapsed fadi($B,-$A,$U,$V';tol=2e-8)\n",
    "      t33 = @belapsed sylvester($B,$A,-$U*$V)#bartelsStewart(B, [], [], A', U*V)\n",
    "      t2[j] = t22; t3[j] = t33\n",
    "    end\n",
    "\n",
    "    \n",
    "    param = get_params_inv(bands,A,-B;tol=2e-8) #100 factor smaller than resid for pk.\n",
    "    #print(param)\n",
    "    println(param.maxiter)\n",
    "    t44 = @belapsed sylv_operator_inv_low_rank($A,$U,$V,-$B,$param)\n",
    "    #W, Z = sylv_operator_inv_low_rank(A,U,V,-B,param)\n",
    "    t55 = @belapsed algorithm5($B,$A,$U,$V';tol=2e-10, get_resid=false)\n",
    "    t4[j] = t44; t5[j] = t55\n",
    "    println(j)\n",
    "end"
   ]
  },
  {
   "cell_type": "code",
   "execution_count": null,
   "metadata": {},
   "outputs": [],
   "source": [
    "\n",
    "p3 = plot(nvec,t1,label=:\"Method 1\",yaxis=:log, xaxis=:log,marker=:circle,color=3,legend=false)\n",
    "plot!(nvec[7:17],t4[7:17],label=:\"Method 2\",marker=:diamond,color=1)\n",
    "plot!(nvec[7:17],t5[7:17],label=:\"Polynomial Krylov\",marker=:square,color=2)\n",
    "plot!(nvec[1:9],t2[1:9],marker=:utriangle,label=:\"Factored ADI\")\n",
    "plot!(nvec[1:9],t3[1:9],marker=:pentagon,label=:\"Bartels–Stewart\")\n",
    "xticks!([2500;  6000; 10000; 14000; 18000],string.([2500;  6000; 10000;14000; 18000]))\n",
    "xlabel!(\"Matrix size\")\n",
    "ylabel!(\"Time (seconds)\")"
   ]
  },
  {
   "cell_type": "code",
   "execution_count": null,
   "metadata": {},
   "outputs": [],
   "source": [
    "println(\"timing data for PK with residual monitoring vs. our methods, rank 1 and wide intervals\")\n",
    "println(\" method 1       method 2    PK\")\n",
    "[t1 t4 t5]"
   ]
  },
  {
   "cell_type": "code",
   "execution_count": null,
   "metadata": {},
   "outputs": [],
   "source": [
    "savefig(p3,\"timing_comp_rank1_withpkresidmon_wider_rank10.pdf\")"
   ]
  },
  {
   "cell_type": "code",
   "execution_count": null,
   "metadata": {},
   "outputs": [],
   "source": [
    "evalrangeA = [0.5 1.95] #eigenvalues of A\n",
    "evalrangeB = [2 40] #eigenvalues of B\n",
    "bands = [-reverse(evalrangeB); evalrangeA] #eigenvalues of block system\n",
    "r = 10 #rank of RHS\n",
    "\n",
    "nvec = [1000; 1250:250:2250; 2500:500:3500; 4000:2000:18000] #add more here\n",
    "t1 = zeros(length(nvec)); t2 = zeros(length(nvec)); t3 = zeros(length(nvec)); t4 = zeros(length(nvec)); t5 = zeros(length(nvec)); \n",
    "\n",
    "for (j,nn) in enumerate(nvec)\n",
    "    Random.seed!(123)\n",
    "\n",
    "    #generate B\n",
    "    μ2 = M(evalrangeB[1],evalrangeB[2])(2*rand(nn).-1)\n",
    "    D = diagm(μ2)\n",
    "    P = rand(nn,nn)\n",
    "    Q,R = qr(P)\n",
    "    B = Q\\(D*Q);\n",
    "\n",
    "    #generate A\n",
    "    μ = M(evalrangeA[1],evalrangeA[2])(2*rand(nn).-1)\n",
    "    A = diagm(μ)\n",
    "    P = rand(nn,nn)\n",
    "    Q,R = qr(P)\n",
    "    A = Q\\(A*Q)\n",
    "\n",
    "    #generate RHS\n",
    "    U = randn(nn,r)\n",
    "    V = randn(r,nn)\n",
    "    \n",
    "    param = get_params(bands,A,-B;tol=5e-9)\n",
    "    \n",
    "    #t11 = @belapsed lowrank_block_svd($A,$U,$V,-$B,$param)\n",
    "    #t22 = @belapsed fadi($B,-$A,$U,$V';tol=5e-9)\n",
    "    #t33 = @belapsed sylvester($B,$A,-$U*$V)#bartelsStewart(B, [], [], A', U*V)\n",
    "    #t1[j] = t11; t2[j] = t22#; t3[j] = t33\n",
    "    \n",
    "    param = get_params_inv(bands,A,-B;tol=2e-8)\n",
    "    t44 = @belapsed sylv_operator_inv_low_rank($A,$U,$V,-$B,$param)\n",
    "    t55 = @belapsed algorithm5($B,$A,$U,$V';tol=2e-10, get_resid=false)\n",
    "    t4[j] = t44; t5[j] = t55\n",
    "end"
   ]
  },
  {
   "cell_type": "code",
   "execution_count": null,
   "metadata": {},
   "outputs": [],
   "source": [
    "p4 = plot(nvec,t4,label=:\"Method 2\",marker=:diamond,color=1)\n",
    "plot!(nvec,t5,label=:\"Polynomial Krylov\",marker=:square,color=2)\n",
    "xticks!([100; 500; 1000; 2000; 3500; 6000;  18000],string.([100; 500; 1000; 2000; 3500; 6000;  18000]))\n",
    "yticks!([ 1e-2; 1e-1; 1; 10; 100])\n",
    "xlabel!(\"Matrix size\")\n",
    "ylabel!(\"Time (seconds)\")"
   ]
  },
  {
   "cell_type": "code",
   "execution_count": null,
   "metadata": {},
   "outputs": [],
   "source": [
    "#savefig(p4,\"timing_comp_2.pdf\")\n",
    "βvec = 0.1:0.1:.9\n",
    "βvec[9]"
   ]
  },
  {
   "cell_type": "code",
   "execution_count": 10,
   "metadata": {},
   "outputs": [
    {
     "name": "stdout",
     "output_type": "stream",
     "text": [
      "1\n",
      "49\n",
      "34\n",
      "34\n",
      "34\n",
      "34\n",
      "34\n",
      "34\n",
      "34\n",
      "34\n",
      "34\n",
      "34\n",
      "34\n",
      "34\n",
      "2\n",
      "33\n",
      "24\n",
      "24\n",
      "24\n",
      "24\n",
      "24\n",
      "24\n",
      "24\n",
      "24\n",
      "24\n",
      "24\n",
      "24\n",
      "24\n",
      "24\n",
      "24\n",
      "24\n",
      "24\n",
      "24\n",
      "24\n",
      "24\n",
      "24\n",
      "24\n",
      "24\n",
      "24\n",
      "24\n",
      "24\n",
      "24\n",
      "24\n",
      "3\n",
      "26\n",
      "20\n",
      "20\n",
      "20\n",
      "20\n",
      "20\n",
      "20\n",
      "20\n",
      "20\n",
      "20\n",
      "20\n",
      "20\n",
      "20\n",
      "20\n",
      "20\n",
      "20\n",
      "20\n",
      "20\n",
      "20\n",
      "20\n",
      "20\n",
      "20\n",
      "20\n",
      "20\n",
      "20\n",
      "20\n",
      "20\n",
      "20\n",
      "20\n",
      "20\n",
      "20\n",
      "20\n",
      "20\n",
      "20\n",
      "20\n",
      "20\n",
      "20\n",
      "20\n",
      "4\n",
      "21\n",
      "17\n",
      "17\n",
      "17\n",
      "17\n",
      "17\n",
      "17\n",
      "17\n",
      "17\n",
      "17\n",
      "17\n",
      "17\n",
      "17\n",
      "17\n",
      "17\n",
      "17\n",
      "17\n",
      "17\n",
      "17\n",
      "17\n",
      "17\n",
      "17\n",
      "17\n",
      "17\n",
      "17\n",
      "17\n",
      "17\n",
      "17\n",
      "17\n",
      "17\n",
      "17\n",
      "17\n",
      "17\n",
      "17\n",
      "17\n",
      "17\n",
      "17\n",
      "17\n",
      "17\n",
      "17\n",
      "17\n",
      "17\n",
      "17\n",
      "17\n",
      "17\n",
      "17\n",
      "17\n",
      "17\n",
      "17\n",
      "17\n",
      "5\n",
      "18\n",
      "15\n",
      "15\n",
      "15\n",
      "15\n",
      "15\n",
      "15\n",
      "15\n",
      "15\n",
      "15\n",
      "15\n",
      "15\n",
      "15\n",
      "15\n",
      "15\n",
      "15\n",
      "15\n",
      "15\n",
      "15\n",
      "15\n",
      "15\n",
      "15\n",
      "15\n",
      "15\n",
      "15\n",
      "15\n",
      "15\n",
      "15\n",
      "15\n",
      "15\n",
      "15\n",
      "15\n",
      "15\n",
      "15\n",
      "15\n",
      "15\n",
      "15\n",
      "15\n",
      "15\n",
      "15\n",
      "15\n",
      "15\n",
      "15\n",
      "15\n",
      "15\n",
      "15\n",
      "15\n",
      "15\n",
      "15\n",
      "15\n",
      "15\n",
      "15\n",
      "15\n",
      "15\n",
      "15\n",
      "15\n",
      "15\n",
      "15\n",
      "15\n",
      "6\n",
      "16\n",
      "14\n",
      "14\n",
      "14\n",
      "14\n",
      "14\n",
      "14\n",
      "14\n",
      "14\n",
      "14\n",
      "14\n",
      "14\n",
      "14\n",
      "14\n",
      "14\n",
      "14\n",
      "14\n",
      "14\n",
      "14\n",
      "14\n",
      "14\n",
      "14\n",
      "14\n",
      "14\n",
      "14\n",
      "14\n",
      "14\n",
      "14\n",
      "14\n",
      "14\n",
      "14\n",
      "14\n",
      "14\n",
      "14\n",
      "14\n",
      "14\n",
      "14\n",
      "14\n",
      "14\n",
      "14\n",
      "14\n",
      "14\n",
      "14\n",
      "14\n",
      "14\n",
      "14\n",
      "14\n",
      "14\n",
      "14\n",
      "14\n",
      "14\n",
      "14\n",
      "14\n",
      "14\n",
      "14\n",
      "14\n",
      "14\n",
      "14\n",
      "14\n",
      "14\n",
      "14\n",
      "14\n",
      "14\n",
      "14\n",
      "14\n",
      "14\n",
      "14\n",
      "14\n",
      "14\n",
      "7\n",
      "13\n",
      "12\n",
      "12\n",
      "12\n",
      "12\n",
      "12\n",
      "12\n",
      "12\n",
      "12\n",
      "12\n",
      "12\n",
      "12\n",
      "12\n",
      "12\n",
      "12\n",
      "12\n",
      "12\n",
      "12\n",
      "12\n",
      "12\n",
      "12\n",
      "12\n",
      "12\n",
      "12\n",
      "12\n",
      "12\n",
      "12\n",
      "12\n",
      "12\n",
      "12\n",
      "12\n",
      "12\n",
      "12\n",
      "12\n",
      "12\n",
      "12\n",
      "12\n",
      "12\n",
      "12\n",
      "12\n",
      "12\n",
      "12\n",
      "12\n",
      "12\n",
      "12\n",
      "12\n",
      "12\n",
      "12\n",
      "12\n",
      "12\n",
      "12\n",
      "12\n",
      "12\n",
      "12\n",
      "12\n",
      "12\n",
      "12\n",
      "12\n",
      "12\n",
      "12\n",
      "12\n",
      "12\n",
      "12\n",
      "12\n",
      "12\n",
      "12\n",
      "12\n",
      "12\n",
      "12\n",
      "12\n",
      "12\n",
      "12\n",
      "12\n",
      "12\n",
      "12\n",
      "12\n",
      "12\n",
      "12\n",
      "12\n",
      "12\n",
      "12\n",
      "12\n",
      "12\n",
      "12\n",
      "12\n",
      "12\n",
      "12\n",
      "12\n",
      "12\n",
      "12\n",
      "12\n",
      "12\n",
      "8\n",
      "11\n",
      "11\n",
      "11\n",
      "11\n",
      "11\n",
      "11\n",
      "11\n",
      "11\n",
      "11\n",
      "11\n",
      "11\n",
      "11\n",
      "11\n",
      "11\n",
      "11\n",
      "11\n",
      "11\n",
      "11\n",
      "11\n",
      "11\n",
      "11\n",
      "11\n",
      "11\n",
      "11\n",
      "11\n",
      "11\n",
      "11\n",
      "11\n",
      "11\n",
      "11\n",
      "11\n",
      "11\n",
      "11\n",
      "11\n",
      "11\n",
      "11\n",
      "11\n",
      "11\n",
      "11\n",
      "11\n",
      "11\n",
      "11\n",
      "11\n",
      "11\n",
      "11\n",
      "11\n",
      "11\n",
      "11\n",
      "11\n",
      "11\n",
      "11\n",
      "11\n",
      "11\n",
      "11\n",
      "11\n",
      "11\n",
      "11\n",
      "11\n",
      "11\n",
      "11\n",
      "11\n",
      "11\n",
      "11\n",
      "11\n",
      "11\n",
      "11\n",
      "11\n",
      "11\n",
      "11\n",
      "11\n",
      "11\n",
      "11\n",
      "11\n",
      "11\n",
      "11\n",
      "11\n",
      "11\n",
      "11\n",
      "11\n",
      "11\n",
      "11\n",
      "11\n",
      "11\n",
      "11\n",
      "11\n",
      "11\n",
      "11\n",
      "11\n",
      "11\n",
      "11\n",
      "11\n",
      "11\n",
      "11\n",
      "11\n",
      "11\n",
      "11\n",
      "11\n",
      "11\n",
      "11\n",
      "11\n",
      "11\n",
      "11\n",
      "11\n",
      "11\n",
      "11\n",
      "11\n",
      "11\n",
      "11\n",
      "9\n",
      "9\n",
      "9\n",
      "9\n",
      "9\n",
      "9\n",
      "9\n",
      "9\n",
      "9\n",
      "9\n",
      "9\n",
      "9\n",
      "9\n",
      "9\n",
      "9\n",
      "9\n",
      "9\n",
      "9\n",
      "9\n",
      "9\n",
      "9\n",
      "9\n",
      "9\n",
      "9\n",
      "9\n",
      "9\n",
      "9\n",
      "9\n",
      "9\n",
      "9\n",
      "9\n",
      "9\n",
      "9\n",
      "9\n",
      "9\n",
      "9\n",
      "9\n",
      "9\n",
      "9\n",
      "9\n",
      "9\n",
      "9\n",
      "9\n",
      "9\n",
      "9\n",
      "9\n",
      "9\n",
      "9\n",
      "9\n",
      "9\n",
      "9\n",
      "9\n",
      "9\n",
      "9\n",
      "9\n",
      "9\n",
      "9\n",
      "9\n",
      "9\n",
      "9\n",
      "9\n",
      "9\n",
      "9\n",
      "9\n",
      "9\n",
      "9\n",
      "9\n",
      "9\n",
      "9\n",
      "9\n",
      "9\n",
      "9\n",
      "9\n",
      "9\n",
      "9\n",
      "9\n",
      "9\n",
      "9\n",
      "9\n",
      "9\n",
      "9\n",
      "9\n",
      "9\n",
      "9\n",
      "9\n",
      "9\n",
      "9\n",
      "9\n",
      "9\n",
      "9\n",
      "9\n",
      "9\n",
      "9\n",
      "9\n",
      "9\n",
      "9\n",
      "9\n",
      "9\n",
      "9\n",
      "9\n",
      "9\n",
      "9\n",
      "9\n",
      "9\n",
      "9\n",
      "9\n",
      "9\n",
      "9\n",
      "9\n",
      "9\n",
      "9\n",
      "9\n",
      "9\n",
      "9\n",
      "9\n",
      "9\n",
      "9\n",
      "9\n",
      "9\n",
      "9\n",
      "9\n",
      "9\n",
      "9\n",
      "9\n",
      "9\n",
      "9\n",
      "9\n",
      "9\n",
      "9\n",
      "9\n",
      "9\n",
      "9\n",
      "9\n",
      "9\n",
      "9\n",
      "9\n",
      "9\n",
      "9\n",
      "9\n",
      "9\n",
      "9\n",
      "9\n",
      "9\n",
      "9\n",
      "9\n",
      "9\n",
      "9\n",
      "9\n",
      "9\n",
      "9\n",
      "9\n",
      "9\n",
      "9\n",
      "9\n",
      "9\n",
      "9\n",
      "9\n",
      "9\n",
      "9\n",
      "9\n"
     ]
    }
   ],
   "source": [
    "βvec = 0.1:0.1:.9\n",
    "t1 = zeros(length(βvec)); t2 = zeros(length(βvec));\n",
    "i1 = zeros(length(βvec)); i2 = zeros(length(βvec)); i3 = zeros(length(βvec))\n",
    "for (j,β) in enumerate(βvec)\n",
    "    Random.seed!(1234)\n",
    "    println(j)\n",
    "    nn = 1500 #matrix size\n",
    "    r = 5 #rank of RHS\n",
    "    evalrange1 = [β 1.0]\n",
    "    evalrange2 = [β 1.0]\n",
    "    bands = [-reverse(evalrange2); evalrange1]\n",
    "\n",
    "    #generate B\n",
    "    μ2 = M(evalrange2[1],evalrange2[2])(2*rand(nn).-1)\n",
    "    D = diagm(μ2)\n",
    "    P = rand(nn,nn)\n",
    "    Q,R = qr(P)\n",
    "    B = Q\\(D*Q);\n",
    "\n",
    "    #generate A\n",
    "    μ = M(evalrange1[1],evalrange1[2])(2*rand(nn).-1)\n",
    "    A = diagm(μ)\n",
    "    P = rand(nn,nn)\n",
    "    Q,R = qr(P)\n",
    "    A = Q\\(A*Q)\n",
    "\n",
    "    #generate RHS\n",
    "    U = randn(nn,r)\n",
    "    \n",
    "    V = randn(r,nn)\n",
    "\n",
    "    param = get_params_inv(bands,A,-B;tol=2e-9)\n",
    "    i1[j] = param.maxiter\n",
    "    println(param.maxiter)\n",
    "    param_long = get_params(bands,A,-B;tol=2e-9)\n",
    "    i3[j] = param_long.maxiter\n",
    "    \n",
    "    t11 = @belapsed  sylv_operator_inv_low_rank($A,$U,$V,-$B,$param)\n",
    "    #~,~,~,with_resid = algorithm5(B,A,U,V'; tol=2e-10)\n",
    "    #iters = length(with_resid)\n",
    "    #i2[j] = iters\n",
    "    t22 = @belapsed algorithm5($B,$A,$U,$V';tol=2e-10, get_resid=false)\n",
    "    #VV, YY, WW = algorithm5(B,A,U,V';tol=2e-11, get_resid=false)\n",
    "    #X = sylvester(B,A,-U*V)\n",
    "    #println(norm(X-VV*YY*WW'))\n",
    "   # zz, ww = sylv_operator_inv_low_rank(A,U,V,-B,param)\n",
    "   # println(\"sylv op version err\")\n",
    "    #println(norm(zz*ww-X))\n",
    "    t1[j] = t11; \n",
    "    t2[j] = t22;\n",
    "end"
   ]
  },
  {
   "cell_type": "code",
   "execution_count": null,
   "metadata": {},
   "outputs": [],
   "source": []
  },
  {
   "cell_type": "code",
   "execution_count": 11,
   "metadata": {},
   "outputs": [
    {
     "data": {
      "image/png": "[encoded data removed]",
      "image/svg+xml": [
       "<?xml version=\"1.0\" encoding=\"utf-8\"?>\n",
       "<svg xmlns=\"http://www.w3.org/2000/svg\" xmlns:xlink=\"http://www.w3.org/1999/xlink\" width=\"600\" height=\"400\" viewBox=\"0 0 2400 1600\">\n",
       "<defs>\n",
       "  <clipPath id=\"clip490\">\n",
       "    <rect x=\"0\" y=\"0\" width=\"2400\" height=\"1600\"/>\n",
       "  </clipPath>\n",
       "</defs>\n",
       "<path clip-path=\"url(#clip490)\" d=\"M0 1600 L2400 1600 L2400 0 L0 0  Z\" fill=\"#ffffff\" fill-rule=\"evenodd\" fill-opacity=\"1\"/>\n",
       "<defs>\n",
       "  <clipPath id=\"clip491\">\n",
       "    <rect x=\"480\" y=\"0\" width=\"1681\" height=\"1600\"/>\n",
       "  </clipPath>\n",
       "</defs>\n",
       "<path clip-path=\"url(#clip490)\" d=\"M312.803 1321.31 L2289.76 1321.31 L2289.76 110.236 L312.803 110.236  Z\" fill=\"#ffffff\" fill-rule=\"evenodd\" fill-opacity=\"1\"/>\n",
       "<defs>\n",
       "  <clipPath id=\"clip492\">\n",
       "    <rect x=\"312\" y=\"110\" width=\"1978\" height=\"1212\"/>\n",
       "  </clipPath>\n",
       "</defs>\n",
       "<polyline clip-path=\"url(#clip492)\" style=\"stroke:#000000; stroke-linecap:round; stroke-linejoin:round; stroke-width:2; stroke-opacity:0.1; fill:none\" points=\"368.755,1321.31 368.755,110.236 \"/>\n",
       "<polyline clip-path=\"url(#clip492)\" style=\"stroke:#000000; stroke-linecap:round; stroke-linejoin:round; stroke-width:2; stroke-opacity:0.1; fill:none\" points=\"601.887,1321.31 601.887,110.236 \"/>\n",
       "<polyline clip-path=\"url(#clip492)\" style=\"stroke:#000000; stroke-linecap:round; stroke-linejoin:round; stroke-width:2; stroke-opacity:0.1; fill:none\" points=\"835.019,1321.31 835.019,110.236 \"/>\n",
       "<polyline clip-path=\"url(#clip492)\" style=\"stroke:#000000; stroke-linecap:round; stroke-linejoin:round; stroke-width:2; stroke-opacity:0.1; fill:none\" points=\"1068.15,1321.31 1068.15,110.236 \"/>\n",
       "<polyline clip-path=\"url(#clip492)\" style=\"stroke:#000000; stroke-linecap:round; stroke-linejoin:round; stroke-width:2; stroke-opacity:0.1; fill:none\" points=\"1301.28,1321.31 1301.28,110.236 \"/>\n",
       "<polyline clip-path=\"url(#clip492)\" style=\"stroke:#000000; stroke-linecap:round; stroke-linejoin:round; stroke-width:2; stroke-opacity:0.1; fill:none\" points=\"1534.42,1321.31 1534.42,110.236 \"/>\n",
       "<polyline clip-path=\"url(#clip492)\" style=\"stroke:#000000; stroke-linecap:round; stroke-linejoin:round; stroke-width:2; stroke-opacity:0.1; fill:none\" points=\"1767.55,1321.31 1767.55,110.236 \"/>\n",
       "<polyline clip-path=\"url(#clip492)\" style=\"stroke:#000000; stroke-linecap:round; stroke-linejoin:round; stroke-width:2; stroke-opacity:0.1; fill:none\" points=\"2000.68,1321.31 2000.68,110.236 \"/>\n",
       "<polyline clip-path=\"url(#clip492)\" style=\"stroke:#000000; stroke-linecap:round; stroke-linejoin:round; stroke-width:2; stroke-opacity:0.1; fill:none\" points=\"2233.81,1321.31 2233.81,110.236 \"/>\n",
       "<polyline clip-path=\"url(#clip492)\" style=\"stroke:#000000; stroke-linecap:round; stroke-linejoin:round; stroke-width:2; stroke-opacity:0.1; fill:none\" points=\"312.803,480.083 2289.76,480.083 \"/>\n",
       "<polyline clip-path=\"url(#clip492)\" style=\"stroke:#000000; stroke-linecap:round; stroke-linejoin:round; stroke-width:2; stroke-opacity:0.1; fill:none\" points=\"312.803,292.562 2289.76,292.562 \"/>\n",
       "<polyline clip-path=\"url(#clip492)\" style=\"stroke:#000000; stroke-linecap:round; stroke-linejoin:round; stroke-width:2; stroke-opacity:0.1; fill:none\" points=\"312.803,44.6732 2289.76,44.6732 \"/>\n",
       "<polyline clip-path=\"url(#clip492)\" style=\"stroke:#000000; stroke-linecap:round; stroke-linejoin:round; stroke-width:2; stroke-opacity:0.1; fill:none\" points=\"312.803,-142.848 2289.76,-142.848 \"/>\n",
       "<polyline clip-path=\"url(#clip490)\" style=\"stroke:#000000; stroke-linecap:round; stroke-linejoin:round; stroke-width:4; stroke-opacity:1; fill:none\" points=\"312.803,1321.31 2289.76,1321.31 \"/>\n",
       "<polyline clip-path=\"url(#clip490)\" style=\"stroke:#000000; stroke-linecap:round; stroke-linejoin:round; stroke-width:4; stroke-opacity:1; fill:none\" points=\"368.755,1321.31 368.755,1302.41 \"/>\n",
       "<polyline clip-path=\"url(#clip490)\" style=\"stroke:#000000; stroke-linecap:round; stroke-linejoin:round; stroke-width:4; stroke-opacity:1; fill:none\" points=\"601.887,1321.31 601.887,1302.41 \"/>\n",
       "<polyline clip-path=\"url(#clip490)\" style=\"stroke:#000000; stroke-linecap:round; stroke-linejoin:round; stroke-width:4; stroke-opacity:1; fill:none\" points=\"835.019,1321.31 835.019,1302.41 \"/>\n",
       "<polyline clip-path=\"url(#clip490)\" style=\"stroke:#000000; stroke-linecap:round; stroke-linejoin:round; stroke-width:4; stroke-opacity:1; fill:none\" points=\"1068.15,1321.31 1068.15,1302.41 \"/>\n",
       "<polyline clip-path=\"url(#clip490)\" style=\"stroke:#000000; stroke-linecap:round; stroke-linejoin:round; stroke-width:4; stroke-opacity:1; fill:none\" points=\"1301.28,1321.31 1301.28,1302.41 \"/>\n",
       "<polyline clip-path=\"url(#clip490)\" style=\"stroke:#000000; stroke-linecap:round; stroke-linejoin:round; stroke-width:4; stroke-opacity:1; fill:none\" points=\"1534.42,1321.31 1534.42,1302.41 \"/>\n",
       "<polyline clip-path=\"url(#clip490)\" style=\"stroke:#000000; stroke-linecap:round; stroke-linejoin:round; stroke-width:4; stroke-opacity:1; fill:none\" points=\"1767.55,1321.31 1767.55,1302.41 \"/>\n",
       "<polyline clip-path=\"url(#clip490)\" style=\"stroke:#000000; stroke-linecap:round; stroke-linejoin:round; stroke-width:4; stroke-opacity:1; fill:none\" points=\"2000.68,1321.31 2000.68,1302.41 \"/>\n",
       "<polyline clip-path=\"url(#clip490)\" style=\"stroke:#000000; stroke-linecap:round; stroke-linejoin:round; stroke-width:4; stroke-opacity:1; fill:none\" points=\"2233.81,1321.31 2233.81,1302.41 \"/>\n",
       "<path clip-path=\"url(#clip490)\" d=\"M335.752 1358.09 Q330.335 1358.09 327.592 1363.43 Q324.884 1368.75 324.884 1379.44 Q324.884 1390.1 327.592 1395.45 Q330.335 1400.76 335.752 1400.76 Q341.203 1400.76 343.911 1395.45 Q346.654 1390.1 346.654 1379.44 Q346.654 1368.75 343.911 1363.43 Q341.203 1358.09 335.752 1358.09 M335.752 1352.53 Q344.467 1352.53 349.05 1359.44 Q353.668 1366.31 353.668 1379.44 Q353.668 1392.53 349.05 1399.44 Q344.467 1406.31 335.752 1406.31 Q327.036 1406.31 322.418 1399.44 Q317.835 1392.53 317.835 1379.44 Q317.835 1366.31 322.418 1359.44 Q327.036 1352.53 335.752 1352.53 Z\" fill=\"#000000\" fill-rule=\"nonzero\" fill-opacity=\"1\" /><path clip-path=\"url(#clip490)\" d=\"M365.995 1396.49 L373.321 1396.49 L373.321 1405.31 L365.995 1405.31 L365.995 1396.49 Z\" fill=\"#000000\" fill-rule=\"nonzero\" fill-opacity=\"1\" /><path clip-path=\"url(#clip490)\" d=\"M389.814 1399.4 L401.272 1399.4 L401.272 1359.86 L388.807 1362.36 L388.807 1355.97 L401.203 1353.47 L408.217 1353.47 L408.217 1399.4 L419.675 1399.4 L419.675 1405.31 L389.814 1405.31 L389.814 1399.4 Z\" fill=\"#000000\" fill-rule=\"nonzero\" fill-opacity=\"1\" /><path clip-path=\"url(#clip490)\" d=\"M569.162 1358.09 Q563.745 1358.09 561.002 1363.43 Q558.294 1368.75 558.294 1379.44 Q558.294 1390.1 561.002 1395.45 Q563.745 1400.76 569.162 1400.76 Q574.613 1400.76 577.321 1395.45 Q580.064 1390.1 580.064 1379.44 Q580.064 1368.75 577.321 1363.43 Q574.613 1358.09 569.162 1358.09 M569.162 1352.53 Q577.877 1352.53 582.46 1359.44 Q587.078 1366.31 587.078 1379.44 Q587.078 1392.53 582.46 1399.44 Q577.877 1406.31 569.162 1406.31 Q560.446 1406.31 555.828 1399.44 Q551.245 1392.53 551.245 1379.44 Q551.245 1366.31 555.828 1359.44 Q560.446 1352.53 569.162 1352.53 Z\" fill=\"#000000\" fill-rule=\"nonzero\" fill-opacity=\"1\" /><path clip-path=\"url(#clip490)\" d=\"M599.404 1396.49 L606.731 1396.49 L606.731 1405.31 L599.404 1405.31 L599.404 1396.49 Z\" fill=\"#000000\" fill-rule=\"nonzero\" fill-opacity=\"1\" /><path clip-path=\"url(#clip490)\" d=\"M628.05 1399.4 L652.529 1399.4 L652.529 1405.31 L619.613 1405.31 L619.613 1399.4 Q623.606 1395.27 630.481 1388.33 Q637.39 1381.35 639.161 1379.34 Q642.529 1375.55 643.849 1372.95 Q645.203 1370.31 645.203 1367.77 Q645.203 1363.64 642.286 1361.04 Q639.404 1358.43 634.752 1358.43 Q631.453 1358.43 627.772 1359.58 Q624.127 1360.72 619.96 1363.05 L619.96 1355.97 Q624.196 1354.27 627.877 1353.4 Q631.557 1352.53 634.613 1352.53 Q642.668 1352.53 647.46 1356.56 Q652.251 1360.59 652.251 1367.32 Q652.251 1370.52 651.036 1373.4 Q649.856 1376.25 646.696 1380.13 Q645.828 1381.14 641.175 1385.97 Q636.522 1390.76 628.05 1399.4 Z\" fill=\"#000000\" fill-rule=\"nonzero\" fill-opacity=\"1\" /><path clip-path=\"url(#clip490)\" d=\"M801.582 1358.09 Q796.165 1358.09 793.422 1363.43 Q790.714 1368.75 790.714 1379.44 Q790.714 1390.1 793.422 1395.45 Q796.165 1400.76 801.582 1400.76 Q807.033 1400.76 809.742 1395.45 Q812.485 1390.1 812.485 1379.44 Q812.485 1368.75 809.742 1363.43 Q807.033 1358.09 801.582 1358.09 M801.582 1352.53 Q810.297 1352.53 814.88 1359.44 Q819.498 1366.31 819.498 1379.44 Q819.498 1392.53 814.88 1399.44 Q810.297 1406.31 801.582 1406.31 Q792.867 1406.31 788.249 1399.44 Q783.665 1392.53 783.665 1379.44 Q783.665 1366.31 788.249 1359.44 Q792.867 1352.53 801.582 1352.53 Z\" fill=\"#000000\" fill-rule=\"nonzero\" fill-opacity=\"1\" /><path clip-path=\"url(#clip490)\" d=\"M831.825 1396.49 L839.151 1396.49 L839.151 1405.31 L831.825 1405.31 L831.825 1396.49 Z\" fill=\"#000000\" fill-rule=\"nonzero\" fill-opacity=\"1\" /><path clip-path=\"url(#clip490)\" d=\"M875.679 1377.36 Q880.713 1378.43 883.526 1381.84 Q886.373 1385.24 886.373 1390.24 Q886.373 1397.91 881.095 1402.11 Q875.818 1406.31 866.095 1406.31 Q862.832 1406.31 859.359 1405.65 Q855.922 1405.03 852.241 1403.75 L852.241 1396.97 Q855.158 1398.68 858.63 1399.54 Q862.102 1400.41 865.887 1400.41 Q872.484 1400.41 875.922 1397.81 Q879.394 1395.2 879.394 1390.24 Q879.394 1385.66 876.165 1383.09 Q872.97 1380.48 867.241 1380.48 L861.2 1380.48 L861.2 1374.72 L867.519 1374.72 Q872.693 1374.72 875.436 1372.67 Q878.179 1370.59 878.179 1366.7 Q878.179 1362.7 875.332 1360.59 Q872.519 1358.43 867.241 1358.43 Q864.359 1358.43 861.061 1359.06 Q857.762 1359.68 853.804 1361 L853.804 1354.75 Q857.797 1353.64 861.269 1353.09 Q864.776 1352.53 867.866 1352.53 Q875.852 1352.53 880.505 1356.18 Q885.158 1359.79 885.158 1365.97 Q885.158 1370.27 882.693 1373.26 Q880.227 1376.21 875.679 1377.36 Z\" fill=\"#000000\" fill-rule=\"nonzero\" fill-opacity=\"1\" /><path clip-path=\"url(#clip490)\" d=\"M1033.86 1358.09 Q1028.45 1358.09 1025.7 1363.43 Q1023 1368.75 1023 1379.44 Q1023 1390.1 1025.7 1395.45 Q1028.45 1400.76 1033.86 1400.76 Q1039.31 1400.76 1042.02 1395.45 Q1044.77 1390.1 1044.77 1379.44 Q1044.77 1368.75 1042.02 1363.43 Q1039.31 1358.09 1033.86 1358.09 M1033.86 1352.53 Q1042.58 1352.53 1047.16 1359.44 Q1051.78 1366.31 1051.78 1379.44 Q1051.78 1392.53 1047.16 1399.44 Q1042.58 1406.31 1033.86 1406.31 Q1025.15 1406.31 1020.53 1399.44 Q1015.95 1392.53 1015.95 1379.44 Q1015.95 1366.31 1020.53 1359.44 Q1025.15 1352.53 1033.86 1352.53 Z\" fill=\"#000000\" fill-rule=\"nonzero\" fill-opacity=\"1\" /><path clip-path=\"url(#clip490)\" d=\"M1064.11 1396.49 L1071.43 1396.49 L1071.43 1405.31 L1064.11 1405.31 L1064.11 1396.49 Z\" fill=\"#000000\" fill-rule=\"nonzero\" fill-opacity=\"1\" /><path clip-path=\"url(#clip490)\" d=\"M1105.98 1359.58 L1088.27 1387.25 L1105.98 1387.25 L1105.98 1359.58 M1104.14 1353.47 L1112.96 1353.47 L1112.96 1387.25 L1120.36 1387.25 L1120.36 1393.09 L1112.96 1393.09 L1112.96 1405.31 L1105.98 1405.31 L1105.98 1393.09 L1082.58 1393.09 L1082.58 1386.31 L1104.14 1353.47 Z\" fill=\"#000000\" fill-rule=\"nonzero\" fill-opacity=\"1\" /><path clip-path=\"url(#clip490)\" d=\"M1268.11 1358.09 Q1262.69 1358.09 1259.95 1363.43 Q1257.24 1368.75 1257.24 1379.44 Q1257.24 1390.1 1259.95 1395.45 Q1262.69 1400.76 1268.11 1400.76 Q1273.56 1400.76 1276.27 1395.45 Q1279.01 1390.1 1279.01 1379.44 Q1279.01 1368.75 1276.27 1363.43 Q1273.56 1358.09 1268.11 1358.09 M1268.11 1352.53 Q1276.82 1352.53 1281.41 1359.44 Q1286.02 1366.31 1286.02 1379.44 Q1286.02 1392.53 1281.41 1399.44 Q1276.82 1406.31 1268.11 1406.31 Q1259.39 1406.31 1254.77 1399.44 Q1250.19 1392.53 1250.19 1379.44 Q1250.19 1366.31 1254.77 1359.44 Q1259.39 1352.53 1268.11 1352.53 Z\" fill=\"#000000\" fill-rule=\"nonzero\" fill-opacity=\"1\" /><path clip-path=\"url(#clip490)\" d=\"M1298.35 1396.49 L1305.68 1396.49 L1305.68 1405.31 L1298.35 1405.31 L1298.35 1396.49 Z\" fill=\"#000000\" fill-rule=\"nonzero\" fill-opacity=\"1\" /><path clip-path=\"url(#clip490)\" d=\"M1321.02 1353.47 L1348.56 1353.47 L1348.56 1359.37 L1327.45 1359.37 L1327.45 1372.08 Q1328.97 1371.56 1330.5 1371.31 Q1332.03 1371.04 1333.56 1371.04 Q1342.24 1371.04 1347.31 1375.79 Q1352.38 1380.55 1352.38 1388.68 Q1352.38 1397.04 1347.17 1401.7 Q1341.96 1406.31 1332.48 1406.31 Q1329.22 1406.31 1325.81 1405.76 Q1322.45 1405.2 1318.84 1404.09 L1318.84 1397.04 Q1321.96 1398.75 1325.29 1399.58 Q1328.63 1400.41 1332.34 1400.41 Q1338.35 1400.41 1341.86 1397.25 Q1345.36 1394.09 1345.36 1388.68 Q1345.36 1383.26 1341.86 1380.1 Q1338.35 1376.94 1332.34 1376.94 Q1329.53 1376.94 1326.72 1377.56 Q1323.94 1378.19 1321.02 1379.51 L1321.02 1353.47 Z\" fill=\"#000000\" fill-rule=\"nonzero\" fill-opacity=\"1\" /><path clip-path=\"url(#clip490)\" d=\"M1500.37 1358.09 Q1494.95 1358.09 1492.21 1363.43 Q1489.5 1368.75 1489.5 1379.44 Q1489.5 1390.1 1492.21 1395.45 Q1494.95 1400.76 1500.37 1400.76 Q1505.82 1400.76 1508.53 1395.45 Q1511.27 1390.1 1511.27 1379.44 Q1511.27 1368.75 1508.53 1363.43 Q1505.82 1358.09 1500.37 1358.09 M1500.37 1352.53 Q1509.09 1352.53 1513.67 1359.44 Q1518.29 1366.31 1518.29 1379.44 Q1518.29 1392.53 1513.67 1399.44 Q1509.09 1406.31 1500.37 1406.31 Q1491.66 1406.31 1487.04 1399.44 Q1482.45 1392.53 1482.45 1379.44 Q1482.45 1366.31 1487.04 1359.44 Q1491.66 1352.53 1500.37 1352.53 Z\" fill=\"#000000\" fill-rule=\"nonzero\" fill-opacity=\"1\" /><path clip-path=\"url(#clip490)\" d=\"M1530.61 1396.49 L1537.94 1396.49 L1537.94 1405.31 L1530.61 1405.31 L1530.61 1396.49 Z\" fill=\"#000000\" fill-rule=\"nonzero\" fill-opacity=\"1\" /><path clip-path=\"url(#clip490)\" d=\"M1569.09 1376.59 Q1564.36 1376.59 1561.59 1379.82 Q1558.84 1383.05 1558.84 1388.68 Q1558.84 1394.27 1561.59 1397.53 Q1564.36 1400.76 1569.09 1400.76 Q1573.81 1400.76 1576.55 1397.53 Q1579.33 1394.27 1579.33 1388.68 Q1579.33 1383.05 1576.55 1379.82 Q1573.81 1376.59 1569.09 1376.59 M1583.01 1354.61 L1583.01 1361 Q1580.37 1359.75 1577.66 1359.09 Q1574.99 1358.43 1572.35 1358.43 Q1565.41 1358.43 1561.72 1363.12 Q1558.08 1367.81 1557.56 1377.29 Q1559.61 1374.27 1562.7 1372.67 Q1565.79 1371.04 1569.5 1371.04 Q1577.31 1371.04 1581.83 1375.79 Q1586.38 1380.52 1586.38 1388.68 Q1586.38 1396.66 1581.65 1401.49 Q1576.93 1406.31 1569.09 1406.31 Q1560.09 1406.31 1555.34 1399.44 Q1550.58 1392.53 1550.58 1379.44 Q1550.58 1367.15 1556.41 1359.86 Q1562.25 1352.53 1572.07 1352.53 Q1574.71 1352.53 1577.38 1353.05 Q1580.09 1353.57 1583.01 1354.61 Z\" fill=\"#000000\" fill-rule=\"nonzero\" fill-opacity=\"1\" /><path clip-path=\"url(#clip490)\" d=\"M1734.3 1358.09 Q1728.88 1358.09 1726.14 1363.43 Q1723.43 1368.75 1723.43 1379.44 Q1723.43 1390.1 1726.14 1395.45 Q1728.88 1400.76 1734.3 1400.76 Q1739.75 1400.76 1742.46 1395.45 Q1745.2 1390.1 1745.2 1379.44 Q1745.2 1368.75 1742.46 1363.43 Q1739.75 1358.09 1734.3 1358.09 M1734.3 1352.53 Q1743.02 1352.53 1747.6 1359.44 Q1752.22 1366.31 1752.22 1379.44 Q1752.22 1392.53 1747.6 1399.44 Q1743.02 1406.31 1734.3 1406.31 Q1725.59 1406.31 1720.97 1399.44 Q1716.38 1392.53 1716.38 1379.44 Q1716.38 1366.31 1720.97 1359.44 Q1725.59 1352.53 1734.3 1352.53 Z\" fill=\"#000000\" fill-rule=\"nonzero\" fill-opacity=\"1\" /><path clip-path=\"url(#clip490)\" d=\"M1764.54 1396.49 L1771.87 1396.49 L1771.87 1405.31 L1764.54 1405.31 L1764.54 1396.49 Z\" fill=\"#000000\" fill-rule=\"nonzero\" fill-opacity=\"1\" /><path clip-path=\"url(#clip490)\" d=\"M1785.38 1353.47 L1818.71 1353.47 L1818.71 1356.45 L1799.89 1405.31 L1792.57 1405.31 L1810.27 1359.37 L1785.38 1359.37 L1785.38 1353.47 Z\" fill=\"#000000\" fill-rule=\"nonzero\" fill-opacity=\"1\" /><path clip-path=\"url(#clip490)\" d=\"M1966.83 1358.09 Q1961.41 1358.09 1958.67 1363.43 Q1955.96 1368.75 1955.96 1379.44 Q1955.96 1390.1 1958.67 1395.45 Q1961.41 1400.76 1966.83 1400.76 Q1972.28 1400.76 1974.99 1395.45 Q1977.73 1390.1 1977.73 1379.44 Q1977.73 1368.75 1974.99 1363.43 Q1972.28 1358.09 1966.83 1358.09 M1966.83 1352.53 Q1975.54 1352.53 1980.12 1359.44 Q1984.74 1366.31 1984.74 1379.44 Q1984.74 1392.53 1980.12 1399.44 Q1975.54 1406.31 1966.83 1406.31 Q1958.11 1406.31 1953.49 1399.44 Q1948.91 1392.53 1948.91 1379.44 Q1948.91 1366.31 1953.49 1359.44 Q1958.11 1352.53 1966.83 1352.53 Z\" fill=\"#000000\" fill-rule=\"nonzero\" fill-opacity=\"1\" /><path clip-path=\"url(#clip490)\" d=\"M1997.07 1396.49 L2004.4 1396.49 L2004.4 1405.31 L1997.07 1405.31 L1997.07 1396.49 Z\" fill=\"#000000\" fill-rule=\"nonzero\" fill-opacity=\"1\" /><path clip-path=\"url(#clip490)\" d=\"M2034.67 1380.69 Q2029.67 1380.69 2026.79 1383.36 Q2023.94 1386.04 2023.94 1390.72 Q2023.94 1395.41 2026.79 1398.09 Q2029.67 1400.76 2034.67 1400.76 Q2039.67 1400.76 2042.55 1398.09 Q2045.44 1395.38 2045.44 1390.72 Q2045.44 1386.04 2042.55 1383.36 Q2039.71 1380.69 2034.67 1380.69 M2027.66 1377.7 Q2023.15 1376.59 2020.61 1373.5 Q2018.11 1370.41 2018.11 1365.97 Q2018.11 1359.75 2022.52 1356.14 Q2026.96 1352.53 2034.67 1352.53 Q2042.42 1352.53 2046.83 1356.14 Q2051.24 1359.75 2051.24 1365.97 Q2051.24 1370.41 2048.7 1373.5 Q2046.2 1376.59 2041.72 1377.7 Q2046.79 1378.88 2049.6 1382.32 Q2052.45 1385.76 2052.45 1390.72 Q2052.45 1398.26 2047.83 1402.29 Q2043.25 1406.31 2034.67 1406.31 Q2026.1 1406.31 2021.48 1402.29 Q2016.9 1398.26 2016.9 1390.72 Q2016.9 1385.76 2019.74 1382.32 Q2022.59 1378.88 2027.66 1377.7 M2025.09 1366.63 Q2025.09 1370.66 2027.59 1372.91 Q2030.12 1375.17 2034.67 1375.17 Q2039.19 1375.17 2041.72 1372.91 Q2044.29 1370.66 2044.29 1366.63 Q2044.29 1362.6 2041.72 1360.34 Q2039.19 1358.09 2034.67 1358.09 Q2030.12 1358.09 2027.59 1360.34 Q2025.09 1362.6 2025.09 1366.63 Z\" fill=\"#000000\" fill-rule=\"nonzero\" fill-opacity=\"1\" /><path clip-path=\"url(#clip490)\" d=\"M2200.03 1358.09 Q2194.61 1358.09 2191.87 1363.43 Q2189.16 1368.75 2189.16 1379.44 Q2189.16 1390.1 2191.87 1395.45 Q2194.61 1400.76 2200.03 1400.76 Q2205.48 1400.76 2208.19 1395.45 Q2210.93 1390.1 2210.93 1379.44 Q2210.93 1368.75 2208.19 1363.43 Q2205.48 1358.09 2200.03 1358.09 M2200.03 1352.53 Q2208.74 1352.53 2213.33 1359.44 Q2217.94 1366.31 2217.94 1379.44 Q2217.94 1392.53 2213.33 1399.44 Q2208.74 1406.31 2200.03 1406.31 Q2191.31 1406.31 2186.69 1399.44 Q2182.11 1392.53 2182.11 1379.44 Q2182.11 1366.31 2186.69 1359.44 Q2191.31 1352.53 2200.03 1352.53 Z\" fill=\"#000000\" fill-rule=\"nonzero\" fill-opacity=\"1\" /><path clip-path=\"url(#clip490)\" d=\"M2230.27 1396.49 L2237.6 1396.49 L2237.6 1405.31 L2230.27 1405.31 L2230.27 1396.49 Z\" fill=\"#000000\" fill-rule=\"nonzero\" fill-opacity=\"1\" /><path clip-path=\"url(#clip490)\" d=\"M2253.08 1404.23 L2253.08 1397.84 Q2255.72 1399.09 2258.43 1399.75 Q2261.14 1400.41 2263.74 1400.41 Q2270.69 1400.41 2274.33 1395.76 Q2278.01 1391.07 2278.53 1381.56 Q2276.52 1384.54 2273.43 1386.14 Q2270.34 1387.74 2266.59 1387.74 Q2258.81 1387.74 2254.26 1383.05 Q2249.75 1378.33 2249.75 1370.17 Q2249.75 1362.18 2254.47 1357.36 Q2259.19 1352.53 2267.04 1352.53 Q2276.03 1352.53 2280.76 1359.44 Q2285.51 1366.31 2285.51 1379.44 Q2285.51 1391.7 2279.68 1399.02 Q2273.88 1406.31 2264.05 1406.31 Q2261.42 1406.31 2258.71 1405.79 Q2256 1405.27 2253.08 1404.23 M2267.04 1382.25 Q2271.76 1382.25 2274.51 1379.02 Q2277.28 1375.79 2277.28 1370.17 Q2277.28 1364.58 2274.51 1361.35 Q2271.76 1358.09 2267.04 1358.09 Q2262.32 1358.09 2259.54 1361.35 Q2256.8 1364.58 2256.8 1370.17 Q2256.8 1375.79 2259.54 1379.02 Q2262.32 1382.25 2267.04 1382.25 Z\" fill=\"#000000\" fill-rule=\"nonzero\" fill-opacity=\"1\" /><path clip-path=\"url(#clip490)\" d=\"M1326.63 1445.79 Q1326.63 1447 1326.11 1449.35 Q1324.48 1455.95 1318.34 1460.5 Q1317.31 1461.34 1315.48 1462.42 Q1317.68 1463.87 1319.6 1466.54 Q1322.46 1470.94 1322.46 1476.89 Q1322.46 1479.65 1321.71 1483.03 Q1319.6 1490.85 1312.2 1496.47 Q1304.75 1501.95 1295.9 1501.95 Q1291.12 1501.95 1287.84 1499.42 Q1284.61 1496.85 1283.35 1492.54 L1276.83 1518.82 Q1276.69 1519.47 1275.85 1519.47 L1275.38 1519.47 Q1274.4 1519.47 1274.4 1518.35 L1289.2 1459.32 Q1290.18 1455.34 1291.78 1451.59 Q1293.37 1447.85 1295.57 1444.47 Q1297.82 1441.1 1300.4 1438.62 Q1302.97 1436.09 1306.16 1434.64 Q1309.34 1433.14 1312.72 1433.14 Q1319.79 1433.14 1323.82 1437.96 Q1326.63 1441.38 1326.63 1445.79 M1321.24 1444.1 Q1321.24 1441.2 1320.07 1439.18 Q1317.68 1435.34 1312.62 1435.34 Q1309.58 1435.34 1306.67 1436.75 Q1303.82 1438.1 1301.52 1440.45 Q1299.23 1442.79 1297.26 1445.97 Q1295.29 1449.16 1293.84 1452.63 Q1292.43 1456.05 1291.5 1459.79 L1285.73 1483.03 Q1285.17 1485.51 1285.17 1487.71 Q1285.17 1492.96 1288.08 1496.38 Q1290.98 1499.8 1295.99 1499.8 Q1302.65 1499.8 1308.36 1494.83 Q1313.33 1490.38 1315.39 1482.56 Q1316.56 1477.64 1316.56 1474.22 Q1316.56 1470.47 1315.2 1467.57 Q1314.22 1465.23 1312.3 1463.82 Q1308.74 1465.09 1305.13 1465.09 Q1303.39 1465.09 1302.46 1465.04 Q1301.57 1464.99 1300.26 1464.81 Q1298.99 1464.62 1298.38 1464.1 Q1297.82 1463.59 1297.82 1462.79 Q1297.82 1462.32 1297.91 1462.13 Q1298.1 1461.39 1298.71 1460.87 Q1299.32 1460.35 1300.02 1460.12 Q1300.72 1459.84 1301.9 1459.7 Q1303.11 1459.56 1303.91 1459.56 Q1304.71 1459.51 1306.07 1459.51 Q1309.25 1459.51 1312.48 1460.78 Q1313.7 1460.12 1315.01 1458.95 Q1319.18 1455.06 1320.59 1448.88 Q1321.24 1446.58 1321.24 1444.1 M1309.44 1462.23 Q1307.47 1461.71 1305.97 1461.71 Q1300.49 1461.71 1300.21 1462.6 Q1300.21 1462.7 1300.4 1462.79 Q1300.58 1462.84 1301.01 1462.88 Q1301.47 1462.88 1301.85 1462.93 Q1302.27 1462.98 1302.97 1462.98 Q1303.68 1462.98 1304.05 1462.98 Q1304.47 1462.98 1305.22 1462.98 Q1307.1 1462.98 1309.44 1462.23 Z\" fill=\"#000000\" fill-rule=\"nonzero\" fill-opacity=\"1\" /><polyline clip-path=\"url(#clip490)\" style=\"stroke:#000000; stroke-linecap:round; stroke-linejoin:round; stroke-width:4; stroke-opacity:1; fill:none\" points=\"312.803,1321.31 312.803,110.236 \"/>\n",
       "<polyline clip-path=\"url(#clip490)\" style=\"stroke:#000000; stroke-linecap:round; stroke-linejoin:round; stroke-width:4; stroke-opacity:1; fill:none\" points=\"312.803,480.083 331.701,480.083 \"/>\n",
       "<polyline clip-path=\"url(#clip490)\" style=\"stroke:#000000; stroke-linecap:round; stroke-linejoin:round; stroke-width:4; stroke-opacity:1; fill:none\" points=\"312.803,292.562 331.701,292.562 \"/>\n",
       "<polyline clip-path=\"url(#clip490)\" style=\"stroke:#000000; stroke-linecap:round; stroke-linejoin:round; stroke-width:4; stroke-opacity:1; fill:none\" points=\"312.803,44.6732 331.701,44.6732 \"/>\n",
       "<polyline clip-path=\"url(#clip490)\" style=\"stroke:#000000; stroke-linecap:round; stroke-linejoin:round; stroke-width:4; stroke-opacity:1; fill:none\" points=\"312.803,-142.848 331.701,-142.848 \"/>\n",
       "<path clip-path=\"url(#clip490)\" d=\"M246.942 500.101 L258.401 500.101 L258.401 460.552 L245.935 463.052 L245.935 456.663 L258.331 454.163 L265.345 454.163 L265.345 500.101 L276.803 500.101 L276.803 506.003 L246.942 506.003 L246.942 500.101 Z\" fill=\"#000000\" fill-rule=\"nonzero\" fill-opacity=\"1\" /><path clip-path=\"url(#clip490)\" d=\"M252.324 312.58 L276.803 312.58 L276.803 318.482 L243.887 318.482 L243.887 312.58 Q247.88 308.448 254.755 301.503 Q261.664 294.524 263.435 292.51 Q266.803 288.726 268.123 286.121 Q269.477 283.483 269.477 280.948 Q269.477 276.816 266.56 274.212 Q263.678 271.608 259.026 271.608 Q255.727 271.608 252.046 272.753 Q248.401 273.899 244.234 276.226 L244.234 269.142 Q248.47 267.441 252.151 266.573 Q255.831 265.705 258.887 265.705 Q266.942 265.705 271.734 269.733 Q276.525 273.76 276.525 280.496 Q276.525 283.691 275.31 286.573 Q274.13 289.42 270.97 293.309 Q270.102 294.316 265.449 299.142 Q260.796 303.934 252.324 312.58 Z\" fill=\"#000000\" fill-rule=\"nonzero\" fill-opacity=\"1\" /><path clip-path=\"url(#clip490)\" d=\"M245.449 18.7532 L272.984 18.7532 L272.984 24.6559 L251.873 24.6559 L251.873 37.3642 Q253.401 36.8434 254.928 36.6003 Q256.456 36.3225 257.984 36.3225 Q266.664 36.3225 271.734 41.0795 Q276.803 45.8364 276.803 53.9613 Q276.803 62.3294 271.595 66.9821 Q266.387 71.6001 256.908 71.6001 Q253.644 71.6001 250.241 71.0446 Q246.873 70.489 243.262 69.3779 L243.262 62.3294 Q246.387 64.0307 249.72 64.8641 Q253.053 65.6974 256.769 65.6974 Q262.776 65.6974 266.282 62.5377 Q269.789 59.378 269.789 53.9613 Q269.789 48.5447 266.282 45.385 Q262.776 42.2253 256.769 42.2253 Q253.956 42.2253 251.144 42.8503 Q248.366 43.4753 245.449 44.7947 L245.449 18.7532 Z\" fill=\"#000000\" fill-rule=\"nonzero\" fill-opacity=\"1\" /><path clip-path=\"url(#clip490)\" d=\"M199.859 -122.83 L211.317 -122.83 L211.317 -162.379 L198.852 -159.879 L198.852 -166.268 L211.248 -168.768 L218.262 -168.768 L218.262 -122.83 L229.72 -122.83 L229.72 -116.928 L199.859 -116.928 L199.859 -122.83 Z\" fill=\"#000000\" fill-rule=\"nonzero\" fill-opacity=\"1\" /><path clip-path=\"url(#clip490)\" d=\"M258.887 -164.15 Q253.47 -164.15 250.727 -158.802 Q248.019 -153.49 248.019 -142.796 Q248.019 -132.136 250.727 -126.789 Q253.47 -121.476 258.887 -121.476 Q264.338 -121.476 267.046 -126.789 Q269.789 -132.136 269.789 -142.796 Q269.789 -153.49 267.046 -158.802 Q264.338 -164.15 258.887 -164.15 M258.887 -169.705 Q267.602 -169.705 272.185 -162.796 Q276.803 -155.921 276.803 -142.796 Q276.803 -129.705 272.185 -122.796 Q267.602 -115.921 258.887 -115.921 Q250.171 -115.921 245.553 -122.796 Q240.97 -129.705 240.97 -142.796 Q240.97 -155.921 245.553 -162.796 Q250.171 -169.705 258.887 -169.705 Z\" fill=\"#000000\" fill-rule=\"nonzero\" fill-opacity=\"1\" /><path clip-path=\"url(#clip490)\" d=\"M72.9963 1073.69 L72.9963 1015.21 L80.8666 1015.21 L80.8666 1039.75 L142.116 1039.75 L142.116 1049.15 L80.8666 1049.15 L80.8666 1073.69 L72.9963 1073.69 Z\" fill=\"#000000\" fill-rule=\"nonzero\" fill-opacity=\"1\" /><path clip-path=\"url(#clip490)\" d=\"M90.2647 1009.47 L90.2647 1000.96 L142.116 1000.96 L142.116 1009.47 L90.2647 1009.47 M70.0796 1009.47 L70.0796 1000.96 L80.8666 1000.96 L80.8666 1009.47 L70.0796 1009.47 Z\" fill=\"#000000\" fill-rule=\"nonzero\" fill-opacity=\"1\" /><path clip-path=\"url(#clip490)\" d=\"M100.218 942.761 Q94.4776 939.567 91.7462 935.123 Q89.0147 930.678 89.0147 924.66 Q89.0147 916.558 94.7091 912.16 Q100.357 907.762 110.82 907.762 L142.116 907.762 L142.116 916.326 L111.098 916.326 Q103.644 916.326 100.033 918.965 Q96.4221 921.604 96.4221 927.021 Q96.4221 933.641 100.82 937.484 Q105.218 941.326 112.811 941.326 L142.116 941.326 L142.116 949.891 L111.098 949.891 Q103.598 949.891 100.033 952.53 Q96.4221 955.169 96.4221 960.678 Q96.4221 967.206 100.867 971.048 Q105.265 974.891 112.811 974.891 L142.116 974.891 L142.116 983.456 L90.2647 983.456 L90.2647 974.891 L98.3202 974.891 Q93.5517 971.974 91.2832 967.9 Q89.0147 963.826 89.0147 958.224 Q89.0147 952.576 91.8851 948.641 Q94.7554 944.66 100.218 942.761 Z\" fill=\"#000000\" fill-rule=\"nonzero\" fill-opacity=\"1\" /><path clip-path=\"url(#clip490)\" d=\"M114.061 846.419 L118.228 846.419 L118.228 885.586 Q127.024 885.03 131.653 880.308 Q136.237 875.54 136.237 867.067 Q136.237 862.16 135.033 857.577 Q133.829 852.947 131.422 848.41 L139.477 848.41 Q141.422 852.993 142.44 857.808 Q143.459 862.623 143.459 867.577 Q143.459 879.984 136.237 887.253 Q129.015 894.475 116.7 894.475 Q103.968 894.475 96.5147 887.623 Q89.0147 880.725 89.0147 869.058 Q89.0147 858.595 95.7739 852.53 Q102.487 846.419 114.061 846.419 M111.561 854.938 Q104.57 855.03 100.404 858.873 Q96.2369 862.669 96.2369 868.966 Q96.2369 876.095 100.265 880.401 Q104.292 884.66 111.607 885.308 L111.561 854.938 Z\" fill=\"#000000\" fill-rule=\"nonzero\" fill-opacity=\"1\" /><path clip-path=\"url(#clip490)\" d=\"M70.1722 781.836 Q80.8203 788.04 91.2369 791.049 Q101.654 794.059 112.348 794.059 Q123.042 794.059 133.552 791.049 Q144.014 787.994 154.616 781.836 L154.616 789.244 Q143.737 796.188 133.227 799.66 Q122.718 803.086 112.348 803.086 Q102.024 803.086 91.561 799.66 Q81.0981 796.235 70.1722 789.244 L70.1722 781.836 Z\" fill=\"#000000\" fill-rule=\"nonzero\" fill-opacity=\"1\" /><path clip-path=\"url(#clip490)\" d=\"M91.7925 732.253 L99.848 732.253 Q97.9961 735.864 97.0702 739.753 Q96.1443 743.642 96.1443 747.809 Q96.1443 754.151 98.0887 757.346 Q100.033 760.494 103.922 760.494 Q106.885 760.494 108.598 758.225 Q110.265 755.957 111.792 749.105 L112.441 746.188 Q114.385 737.114 117.95 733.318 Q121.468 729.476 127.811 729.476 Q135.033 729.476 139.246 735.216 Q143.459 740.911 143.459 750.911 Q143.459 755.077 142.626 759.614 Q141.839 764.105 140.218 769.105 L131.422 769.105 Q133.876 764.383 135.126 759.8 Q136.329 755.216 136.329 750.725 Q136.329 744.707 134.292 741.466 Q132.209 738.226 128.459 738.226 Q124.987 738.226 123.135 740.587 Q121.283 742.901 119.57 750.818 L118.876 753.781 Q117.209 761.698 113.783 765.216 Q110.311 768.735 104.292 768.735 Q96.9776 768.735 92.9962 763.549 Q89.0147 758.364 89.0147 748.827 Q89.0147 744.105 89.7092 739.939 Q90.4036 735.772 91.7925 732.253 Z\" fill=\"#000000\" fill-rule=\"nonzero\" fill-opacity=\"1\" /><path clip-path=\"url(#clip490)\" d=\"M114.061 671.559 L118.228 671.559 L118.228 710.726 Q127.024 710.17 131.653 705.448 Q136.237 700.679 136.237 692.207 Q136.237 687.3 135.033 682.717 Q133.829 678.087 131.422 673.55 L139.477 673.55 Q141.422 678.133 142.44 682.948 Q143.459 687.763 143.459 692.717 Q143.459 705.124 136.237 712.392 Q129.015 719.615 116.7 719.615 Q103.968 719.615 96.5147 712.763 Q89.0147 705.865 89.0147 694.198 Q89.0147 683.735 95.7739 677.67 Q102.487 671.559 114.061 671.559 M111.561 680.078 Q104.57 680.17 100.404 684.013 Q96.2369 687.809 96.2369 694.105 Q96.2369 701.235 100.265 705.541 Q104.292 709.8 111.607 710.448 L111.561 680.078 Z\" fill=\"#000000\" fill-rule=\"nonzero\" fill-opacity=\"1\" /><path clip-path=\"url(#clip490)\" d=\"M92.2554 620.263 L100.218 620.263 Q98.2276 623.874 97.2554 627.532 Q96.2369 631.143 96.2369 634.846 Q96.2369 643.133 101.515 647.717 Q106.746 652.3 116.237 652.3 Q125.727 652.3 131.005 647.717 Q136.237 643.133 136.237 634.846 Q136.237 631.143 135.264 627.532 Q134.246 623.874 132.255 620.263 L140.126 620.263 Q141.792 623.828 142.626 627.671 Q143.459 631.467 143.459 635.772 Q143.459 647.485 136.098 654.383 Q128.737 661.282 116.237 661.282 Q103.552 661.282 96.2832 654.337 Q89.0147 647.346 89.0147 635.217 Q89.0147 631.282 89.848 627.532 Q90.6351 623.782 92.2554 620.263 Z\" fill=\"#000000\" fill-rule=\"nonzero\" fill-opacity=\"1\" /><path clip-path=\"url(#clip490)\" d=\"M96.2369 585.356 Q96.2369 592.208 101.607 596.189 Q106.931 600.171 116.237 600.171 Q125.542 600.171 130.913 596.236 Q136.237 592.254 136.237 585.356 Q136.237 578.55 130.866 574.569 Q125.496 570.588 116.237 570.588 Q107.024 570.588 101.654 574.569 Q96.2369 578.55 96.2369 585.356 M89.0147 585.356 Q89.0147 574.245 96.2369 567.902 Q103.459 561.56 116.237 561.56 Q128.968 561.56 136.237 567.902 Q143.459 574.245 143.459 585.356 Q143.459 596.513 136.237 602.856 Q128.968 609.152 116.237 609.152 Q103.459 609.152 96.2369 602.856 Q89.0147 596.513 89.0147 585.356 Z\" fill=\"#000000\" fill-rule=\"nonzero\" fill-opacity=\"1\" /><path clip-path=\"url(#clip490)\" d=\"M110.82 504.338 L142.116 504.338 L142.116 512.856 L111.098 512.856 Q103.737 512.856 100.079 515.727 Q96.4221 518.597 96.4221 524.338 Q96.4221 531.236 100.82 535.217 Q105.218 539.199 112.811 539.199 L142.116 539.199 L142.116 547.764 L90.2647 547.764 L90.2647 539.199 L98.3202 539.199 Q93.6443 536.143 91.3295 532.023 Q89.0147 527.856 89.0147 522.44 Q89.0147 513.505 94.5702 508.921 Q100.079 504.338 110.82 504.338 Z\" fill=\"#000000\" fill-rule=\"nonzero\" fill-opacity=\"1\" /><path clip-path=\"url(#clip490)\" d=\"M98.135 453.227 L70.0796 453.227 L70.0796 444.709 L142.116 444.709 L142.116 453.227 L134.339 453.227 Q138.968 455.912 141.237 460.033 Q143.459 464.107 143.459 469.847 Q143.459 479.245 135.959 485.171 Q128.459 491.051 116.237 491.051 Q104.015 491.051 96.5147 485.171 Q89.0147 479.245 89.0147 469.847 Q89.0147 464.107 91.2832 460.033 Q93.5054 455.912 98.135 453.227 M116.237 482.255 Q125.635 482.255 131.005 478.412 Q136.329 474.523 136.329 467.764 Q136.329 461.005 131.005 457.116 Q125.635 453.227 116.237 453.227 Q106.839 453.227 101.515 457.116 Q96.1443 461.005 96.1443 467.764 Q96.1443 474.523 101.515 478.412 Q106.839 482.255 116.237 482.255 Z\" fill=\"#000000\" fill-rule=\"nonzero\" fill-opacity=\"1\" /><path clip-path=\"url(#clip490)\" d=\"M91.7925 394.107 L99.848 394.107 Q97.9961 397.718 97.0702 401.607 Q96.1443 405.496 96.1443 409.662 Q96.1443 416.005 98.0887 419.199 Q100.033 422.348 103.922 422.348 Q106.885 422.348 108.598 420.079 Q110.265 417.811 111.792 410.959 L112.441 408.042 Q114.385 398.968 117.95 395.172 Q121.468 391.329 127.811 391.329 Q135.033 391.329 139.246 397.07 Q143.459 402.764 143.459 412.764 Q143.459 416.931 142.626 421.468 Q141.839 425.959 140.218 430.959 L131.422 430.959 Q133.876 426.236 135.126 421.653 Q136.329 417.07 136.329 412.579 Q136.329 406.561 134.292 403.32 Q132.209 400.079 128.459 400.079 Q124.987 400.079 123.135 402.44 Q121.283 404.755 119.57 412.672 L118.876 415.635 Q117.209 423.551 113.783 427.07 Q110.311 430.588 104.292 430.588 Q96.9776 430.588 92.9962 425.403 Q89.0147 420.218 89.0147 410.681 Q89.0147 405.959 89.7092 401.792 Q90.4036 397.626 91.7925 394.107 Z\" fill=\"#000000\" fill-rule=\"nonzero\" fill-opacity=\"1\" /><path clip-path=\"url(#clip490)\" d=\"M70.1722 379.107 L70.1722 371.7 Q81.0981 364.755 91.561 361.329 Q102.024 357.857 112.348 357.857 Q122.718 357.857 133.227 361.329 Q143.737 364.755 154.616 371.7 L154.616 379.107 Q144.014 372.95 133.552 369.94 Q123.042 366.885 112.348 366.885 Q101.654 366.885 91.2369 369.94 Q80.8203 372.95 70.1722 379.107 Z\" fill=\"#000000\" fill-rule=\"nonzero\" fill-opacity=\"1\" /><polyline clip-path=\"url(#clip492)\" style=\"stroke:#009af9; stroke-linecap:round; stroke-linejoin:round; stroke-width:4; stroke-opacity:1; fill:none\" points=\"368.755,144.512 601.887,369.754 835.019,505.172 1068.15,594.559 1301.28,699.533 1534.42,751.419 1767.55,845.03 2000.68,966.918 2233.81,1078.74 \"/>\n",
       "<path clip-path=\"url(#clip492)\" d=\"M368.755 128.512 L352.755 144.512 L368.755 160.512 L384.755 144.512 L368.755 128.512 Z\" fill=\"#009af9\" fill-rule=\"evenodd\" fill-opacity=\"1\" stroke=\"#000000\" stroke-opacity=\"1\" stroke-width=\"3.2\"/>\n",
       "<path clip-path=\"url(#clip492)\" d=\"M601.887 353.754 L585.887 369.754 L601.887 385.754 L617.887 369.754 L601.887 353.754 Z\" fill=\"#009af9\" fill-rule=\"evenodd\" fill-opacity=\"1\" stroke=\"#000000\" stroke-opacity=\"1\" stroke-width=\"3.2\"/>\n",
       "<path clip-path=\"url(#clip492)\" d=\"M835.019 489.172 L819.019 505.172 L835.019 521.172 L851.019 505.172 L835.019 489.172 Z\" fill=\"#009af9\" fill-rule=\"evenodd\" fill-opacity=\"1\" stroke=\"#000000\" stroke-opacity=\"1\" stroke-width=\"3.2\"/>\n",
       "<path clip-path=\"url(#clip492)\" d=\"M1068.15 578.559 L1052.15 594.559 L1068.15 610.559 L1084.15 594.559 L1068.15 578.559 Z\" fill=\"#009af9\" fill-rule=\"evenodd\" fill-opacity=\"1\" stroke=\"#000000\" stroke-opacity=\"1\" stroke-width=\"3.2\"/>\n",
       "<path clip-path=\"url(#clip492)\" d=\"M1301.28 683.533 L1285.28 699.533 L1301.28 715.533 L1317.28 699.533 L1301.28 683.533 Z\" fill=\"#009af9\" fill-rule=\"evenodd\" fill-opacity=\"1\" stroke=\"#000000\" stroke-opacity=\"1\" stroke-width=\"3.2\"/>\n",
       "<path clip-path=\"url(#clip492)\" d=\"M1534.42 735.419 L1518.42 751.419 L1534.42 767.419 L1550.42 751.419 L1534.42 735.419 Z\" fill=\"#009af9\" fill-rule=\"evenodd\" fill-opacity=\"1\" stroke=\"#000000\" stroke-opacity=\"1\" stroke-width=\"3.2\"/>\n",
       "<path clip-path=\"url(#clip492)\" d=\"M1767.55 829.03 L1751.55 845.03 L1767.55 861.03 L1783.55 845.03 L1767.55 829.03 Z\" fill=\"#009af9\" fill-rule=\"evenodd\" fill-opacity=\"1\" stroke=\"#000000\" stroke-opacity=\"1\" stroke-width=\"3.2\"/>\n",
       "<path clip-path=\"url(#clip492)\" d=\"M2000.68 950.918 L1984.68 966.918 L2000.68 982.918 L2016.68 966.918 L2000.68 950.918 Z\" fill=\"#009af9\" fill-rule=\"evenodd\" fill-opacity=\"1\" stroke=\"#000000\" stroke-opacity=\"1\" stroke-width=\"3.2\"/>\n",
       "<path clip-path=\"url(#clip492)\" d=\"M2233.81 1062.74 L2217.81 1078.74 L2233.81 1094.74 L2249.81 1078.74 L2233.81 1062.74 Z\" fill=\"#009af9\" fill-rule=\"evenodd\" fill-opacity=\"1\" stroke=\"#000000\" stroke-opacity=\"1\" stroke-width=\"3.2\"/>\n",
       "<polyline clip-path=\"url(#clip492)\" style=\"stroke:#e26f46; stroke-linecap:round; stroke-linejoin:round; stroke-width:4; stroke-opacity:1; fill:none\" points=\"368.755,540.168 601.887,762.702 835.019,858.779 1068.15,940.732 1301.28,1025.31 1534.42,1047.14 1767.55,1156.23 2000.68,1185.95 2233.81,1287.03 \"/>\n",
       "<path clip-path=\"url(#clip492)\" d=\"M352.755 524.168 L352.755 556.168 L384.755 556.168 L384.755 524.168 L352.755 524.168 Z\" fill=\"#e26f46\" fill-rule=\"evenodd\" fill-opacity=\"1\" stroke=\"#000000\" stroke-opacity=\"1\" stroke-width=\"3.2\"/>\n",
       "<path clip-path=\"url(#clip492)\" d=\"M585.887 746.702 L585.887 778.702 L617.887 778.702 L617.887 746.702 L585.887 746.702 Z\" fill=\"#e26f46\" fill-rule=\"evenodd\" fill-opacity=\"1\" stroke=\"#000000\" stroke-opacity=\"1\" stroke-width=\"3.2\"/>\n",
       "<path clip-path=\"url(#clip492)\" d=\"M819.019 842.779 L819.019 874.779 L851.019 874.779 L851.019 842.779 L819.019 842.779 Z\" fill=\"#e26f46\" fill-rule=\"evenodd\" fill-opacity=\"1\" stroke=\"#000000\" stroke-opacity=\"1\" stroke-width=\"3.2\"/>\n",
       "<path clip-path=\"url(#clip492)\" d=\"M1052.15 924.732 L1052.15 956.732 L1084.15 956.732 L1084.15 924.732 L1052.15 924.732 Z\" fill=\"#e26f46\" fill-rule=\"evenodd\" fill-opacity=\"1\" stroke=\"#000000\" stroke-opacity=\"1\" stroke-width=\"3.2\"/>\n",
       "<path clip-path=\"url(#clip492)\" d=\"M1285.28 1009.31 L1285.28 1041.31 L1317.28 1041.31 L1317.28 1009.31 L1285.28 1009.31 Z\" fill=\"#e26f46\" fill-rule=\"evenodd\" fill-opacity=\"1\" stroke=\"#000000\" stroke-opacity=\"1\" stroke-width=\"3.2\"/>\n",
       "<path clip-path=\"url(#clip492)\" d=\"M1518.42 1031.14 L1518.42 1063.14 L1550.42 1063.14 L1550.42 1031.14 L1518.42 1031.14 Z\" fill=\"#e26f46\" fill-rule=\"evenodd\" fill-opacity=\"1\" stroke=\"#000000\" stroke-opacity=\"1\" stroke-width=\"3.2\"/>\n",
       "<path clip-path=\"url(#clip492)\" d=\"M1751.55 1140.23 L1751.55 1172.23 L1783.55 1172.23 L1783.55 1140.23 L1751.55 1140.23 Z\" fill=\"#e26f46\" fill-rule=\"evenodd\" fill-opacity=\"1\" stroke=\"#000000\" stroke-opacity=\"1\" stroke-width=\"3.2\"/>\n",
       "<path clip-path=\"url(#clip492)\" d=\"M1984.68 1169.95 L1984.68 1201.95 L2016.68 1201.95 L2016.68 1169.95 L1984.68 1169.95 Z\" fill=\"#e26f46\" fill-rule=\"evenodd\" fill-opacity=\"1\" stroke=\"#000000\" stroke-opacity=\"1\" stroke-width=\"3.2\"/>\n",
       "<path clip-path=\"url(#clip492)\" d=\"M2217.81 1271.03 L2217.81 1303.03 L2249.81 1303.03 L2249.81 1271.03 L2217.81 1271.03 Z\" fill=\"#e26f46\" fill-rule=\"evenodd\" fill-opacity=\"1\" stroke=\"#000000\" stroke-opacity=\"1\" stroke-width=\"3.2\"/>\n",
       "<path clip-path=\"url(#clip490)\" d=\"M1402.73 383.885 L2223.87 383.885 L2223.87 150.605 L1402.73 150.605  Z\" fill=\"#ffffff\" fill-rule=\"evenodd\" fill-opacity=\"1\"/>\n",
       "<polyline clip-path=\"url(#clip490)\" style=\"stroke:#000000; stroke-linecap:round; stroke-linejoin:round; stroke-width:4; stroke-opacity:1; fill:none\" points=\"1402.73,383.885 2223.87,383.885 2223.87,150.605 1402.73,150.605 1402.73,383.885 \"/>\n",
       "<polyline clip-path=\"url(#clip490)\" style=\"stroke:#009af9; stroke-linecap:round; stroke-linejoin:round; stroke-width:6; stroke-opacity:1; fill:none\" points=\"1424.7,228.365 1556.5,228.365 \"/>\n",
       "<path clip-path=\"url(#clip490)\" d=\"M1490.6 214.806 L1477.04 228.365 L1490.6 241.925 L1504.16 228.365 L1490.6 214.806 Z\" fill=\"#009af9\" fill-rule=\"evenodd\" fill-opacity=\"1\" stroke=\"#000000\" stroke-opacity=\"1\" stroke-width=\"6.82667\"/>\n",
       "<path clip-path=\"url(#clip490)\" d=\"M1578.46 202.445 L1588.92 202.445 L1602.15 237.723 L1615.44 202.445 L1625.9 202.445 L1625.9 254.285 L1619.05 254.285 L1619.05 208.765 L1605.69 244.32 L1598.64 244.32 L1585.27 208.765 L1585.27 254.285 L1578.46 254.285 L1578.46 202.445 Z\" fill=\"#000000\" fill-rule=\"nonzero\" fill-opacity=\"1\" /><path clip-path=\"url(#clip490)\" d=\"M1672.8 233.244 L1672.8 236.369 L1643.43 236.369 Q1643.85 242.966 1647.39 246.438 Q1650.96 249.876 1657.32 249.876 Q1661 249.876 1664.44 248.973 Q1667.91 248.07 1671.31 246.264 L1671.31 252.306 Q1667.87 253.764 1664.26 254.528 Q1660.65 255.292 1656.94 255.292 Q1647.63 255.292 1642.18 249.876 Q1636.76 244.459 1636.76 235.223 Q1636.76 225.674 1641.9 220.084 Q1647.08 214.459 1655.83 214.459 Q1663.67 214.459 1668.22 219.529 Q1672.8 224.563 1672.8 233.244 M1666.42 231.369 Q1666.35 226.126 1663.46 223.001 Q1660.62 219.876 1655.89 219.876 Q1650.55 219.876 1647.32 222.897 Q1644.12 225.917 1643.64 231.403 L1666.42 231.369 Z\" fill=\"#000000\" fill-rule=\"nonzero\" fill-opacity=\"1\" /><path clip-path=\"url(#clip490)\" d=\"M1689.61 204.355 L1689.61 215.397 L1702.77 215.397 L1702.77 220.362 L1689.61 220.362 L1689.61 241.473 Q1689.61 246.23 1690.89 247.584 Q1692.21 248.938 1696.21 248.938 L1702.77 248.938 L1702.77 254.285 L1696.21 254.285 Q1688.81 254.285 1686 251.542 Q1683.19 248.764 1683.19 241.473 L1683.19 220.362 L1678.5 220.362 L1678.5 215.397 L1683.19 215.397 L1683.19 204.355 L1689.61 204.355 Z\" fill=\"#000000\" fill-rule=\"nonzero\" fill-opacity=\"1\" /><path clip-path=\"url(#clip490)\" d=\"M1743.5 230.813 L1743.5 254.285 L1737.11 254.285 L1737.11 231.022 Q1737.11 225.501 1734.96 222.758 Q1732.8 220.015 1728.5 220.015 Q1723.33 220.015 1720.34 223.313 Q1717.35 226.612 1717.35 232.306 L1717.35 254.285 L1710.93 254.285 L1710.93 200.258 L1717.35 200.258 L1717.35 221.438 Q1719.64 217.931 1722.73 216.195 Q1725.86 214.459 1729.92 214.459 Q1736.62 214.459 1740.06 218.626 Q1743.5 222.758 1743.5 230.813 Z\" fill=\"#000000\" fill-rule=\"nonzero\" fill-opacity=\"1\" /><path clip-path=\"url(#clip490)\" d=\"M1771.31 219.876 Q1766.17 219.876 1763.19 223.903 Q1760.2 227.897 1760.2 234.876 Q1760.2 241.855 1763.15 245.883 Q1766.14 249.876 1771.31 249.876 Q1776.42 249.876 1779.4 245.848 Q1782.39 241.82 1782.39 234.876 Q1782.39 227.966 1779.4 223.938 Q1776.42 219.876 1771.31 219.876 M1771.31 214.459 Q1779.64 214.459 1784.4 219.876 Q1789.16 225.292 1789.16 234.876 Q1789.16 244.424 1784.4 249.876 Q1779.64 255.292 1771.31 255.292 Q1762.94 255.292 1758.19 249.876 Q1753.46 244.424 1753.46 234.876 Q1753.46 225.292 1758.19 219.876 Q1762.94 214.459 1771.31 214.459 Z\" fill=\"#000000\" fill-rule=\"nonzero\" fill-opacity=\"1\" /><path clip-path=\"url(#clip490)\" d=\"M1825.34 221.299 L1825.34 200.258 L1831.73 200.258 L1831.73 254.285 L1825.34 254.285 L1825.34 248.452 Q1823.32 251.924 1820.23 253.626 Q1817.18 255.292 1812.87 255.292 Q1805.82 255.292 1801.38 249.667 Q1796.97 244.042 1796.97 234.876 Q1796.97 225.709 1801.38 220.084 Q1805.82 214.459 1812.87 214.459 Q1817.18 214.459 1820.23 216.16 Q1823.32 217.827 1825.34 221.299 M1803.57 234.876 Q1803.57 241.924 1806.45 245.952 Q1809.37 249.945 1814.44 249.945 Q1819.51 249.945 1822.42 245.952 Q1825.34 241.924 1825.34 234.876 Q1825.34 227.827 1822.42 223.834 Q1819.51 219.806 1814.44 219.806 Q1809.37 219.806 1806.45 223.834 Q1803.57 227.827 1803.57 234.876 Z\" fill=\"#000000\" fill-rule=\"nonzero\" fill-opacity=\"1\" /><path clip-path=\"url(#clip490)\" d=\"M1874.44 248.383 L1898.91 248.383 L1898.91 254.285 L1866 254.285 L1866 248.383 Q1869.99 244.251 1876.87 237.306 Q1883.78 230.327 1885.55 228.313 Q1888.91 224.528 1890.23 221.924 Q1891.59 219.285 1891.59 216.751 Q1891.59 212.619 1888.67 210.015 Q1885.79 207.411 1881.14 207.411 Q1877.84 207.411 1874.16 208.556 Q1870.51 209.702 1866.35 212.029 L1866.35 204.945 Q1870.58 203.244 1874.26 202.376 Q1877.94 201.508 1881 201.508 Q1889.05 201.508 1893.84 205.536 Q1898.64 209.563 1898.64 216.299 Q1898.64 219.494 1897.42 222.376 Q1896.24 225.223 1893.08 229.112 Q1892.21 230.119 1887.56 234.945 Q1882.91 239.737 1874.44 248.383 Z\" fill=\"#000000\" fill-rule=\"nonzero\" fill-opacity=\"1\" /><polyline clip-path=\"url(#clip490)\" style=\"stroke:#e26f46; stroke-linecap:round; stroke-linejoin:round; stroke-width:6; stroke-opacity:1; fill:none\" points=\"1424.7,306.125 1556.5,306.125 \"/>\n",
       "<path clip-path=\"url(#clip490)\" d=\"M1477.04 292.566 L1477.04 319.685 L1504.16 319.685 L1504.16 292.566 L1477.04 292.566 Z\" fill=\"#e26f46\" fill-rule=\"evenodd\" fill-opacity=\"1\" stroke=\"#000000\" stroke-opacity=\"1\" stroke-width=\"6.82667\"/>\n",
       "<path clip-path=\"url(#clip490)\" d=\"M1585.48 285.969 L1585.48 305.448 L1594.3 305.448 Q1599.19 305.448 1601.87 302.913 Q1604.54 300.379 1604.54 295.691 Q1604.54 291.039 1601.87 288.504 Q1599.19 285.969 1594.3 285.969 L1585.48 285.969 M1578.46 280.205 L1594.3 280.205 Q1603.01 280.205 1607.46 284.164 Q1611.94 288.087 1611.94 295.691 Q1611.94 303.365 1607.46 307.288 Q1603.01 311.212 1594.3 311.212 L1585.48 311.212 L1585.48 332.045 L1578.46 332.045 L1578.46 280.205 Z\" fill=\"#000000\" fill-rule=\"nonzero\" fill-opacity=\"1\" /><path clip-path=\"url(#clip490)\" d=\"M1633.6 297.636 Q1628.46 297.636 1625.48 301.663 Q1622.49 305.657 1622.49 312.636 Q1622.49 319.615 1625.44 323.643 Q1628.43 327.636 1633.6 327.636 Q1638.71 327.636 1641.69 323.608 Q1644.68 319.58 1644.68 312.636 Q1644.68 305.726 1641.69 301.698 Q1638.71 297.636 1633.6 297.636 M1633.6 292.219 Q1641.94 292.219 1646.69 297.636 Q1651.45 303.052 1651.45 312.636 Q1651.45 322.184 1646.69 327.636 Q1641.94 333.052 1633.6 333.052 Q1625.24 333.052 1620.48 327.636 Q1615.76 322.184 1615.76 312.636 Q1615.76 303.052 1620.48 297.636 Q1625.24 292.219 1633.6 292.219 Z\" fill=\"#000000\" fill-rule=\"nonzero\" fill-opacity=\"1\" /><path clip-path=\"url(#clip490)\" d=\"M1662.04 278.018 L1668.43 278.018 L1668.43 332.045 L1662.04 332.045 L1662.04 278.018 Z\" fill=\"#000000\" fill-rule=\"nonzero\" fill-opacity=\"1\" /><path clip-path=\"url(#clip490)\" d=\"M1697.98 335.656 Q1695.27 342.601 1692.7 344.719 Q1690.13 346.837 1685.83 346.837 L1680.72 346.837 L1680.72 341.49 L1684.47 341.49 Q1687.11 341.49 1688.57 340.24 Q1690.03 338.99 1691.8 334.337 L1692.94 331.42 L1677.21 293.157 L1683.98 293.157 L1696.14 323.573 L1708.29 293.157 L1715.06 293.157 L1697.98 335.656 Z\" fill=\"#000000\" fill-rule=\"nonzero\" fill-opacity=\"1\" /><path clip-path=\"url(#clip490)\" d=\"M1756.21 308.573 L1756.21 332.045 L1749.82 332.045 L1749.82 308.782 Q1749.82 303.261 1747.67 300.518 Q1745.51 297.775 1741.21 297.775 Q1736.03 297.775 1733.05 301.073 Q1730.06 304.372 1730.06 310.066 L1730.06 332.045 L1723.64 332.045 L1723.64 293.157 L1730.06 293.157 L1730.06 299.198 Q1732.35 295.691 1735.44 293.955 Q1738.57 292.219 1742.63 292.219 Q1749.33 292.219 1752.77 296.386 Q1756.21 300.518 1756.21 308.573 Z\" fill=\"#000000\" fill-rule=\"nonzero\" fill-opacity=\"1\" /><path clip-path=\"url(#clip490)\" d=\"M1784.02 297.636 Q1778.88 297.636 1775.89 301.663 Q1772.91 305.657 1772.91 312.636 Q1772.91 319.615 1775.86 323.643 Q1778.85 327.636 1784.02 327.636 Q1789.12 327.636 1792.11 323.608 Q1795.1 319.58 1795.1 312.636 Q1795.1 305.726 1792.11 301.698 Q1789.12 297.636 1784.02 297.636 M1784.02 292.219 Q1792.35 292.219 1797.11 297.636 Q1801.87 303.052 1801.87 312.636 Q1801.87 322.184 1797.11 327.636 Q1792.35 333.052 1784.02 333.052 Q1775.65 333.052 1770.89 327.636 Q1766.17 322.184 1766.17 312.636 Q1766.17 303.052 1770.89 297.636 Q1775.65 292.219 1784.02 292.219 Z\" fill=\"#000000\" fill-rule=\"nonzero\" fill-opacity=\"1\" /><path clip-path=\"url(#clip490)\" d=\"M1842.73 300.622 Q1845.13 296.316 1848.46 294.268 Q1851.8 292.219 1856.31 292.219 Q1862.39 292.219 1865.69 296.49 Q1868.98 300.726 1868.98 308.573 L1868.98 332.045 L1862.56 332.045 L1862.56 308.782 Q1862.56 303.191 1860.58 300.483 Q1858.6 297.775 1854.54 297.775 Q1849.57 297.775 1846.69 301.073 Q1843.81 304.372 1843.81 310.066 L1843.81 332.045 L1837.39 332.045 L1837.39 308.782 Q1837.39 303.157 1835.41 300.483 Q1833.43 297.775 1829.3 297.775 Q1824.4 297.775 1821.52 301.108 Q1818.64 304.407 1818.64 310.066 L1818.64 332.045 L1812.21 332.045 L1812.21 293.157 L1818.64 293.157 L1818.64 299.198 Q1820.82 295.622 1823.88 293.92 Q1826.94 292.219 1831.14 292.219 Q1835.37 292.219 1838.32 294.372 Q1841.31 296.525 1842.73 300.622 Z\" fill=\"#000000\" fill-rule=\"nonzero\" fill-opacity=\"1\" /><path clip-path=\"url(#clip490)\" d=\"M1881.73 293.157 L1888.12 293.157 L1888.12 332.045 L1881.73 332.045 L1881.73 293.157 M1881.73 278.018 L1888.12 278.018 L1888.12 286.108 L1881.73 286.108 L1881.73 278.018 Z\" fill=\"#000000\" fill-rule=\"nonzero\" fill-opacity=\"1\" /><path clip-path=\"url(#clip490)\" d=\"M1919.16 312.497 Q1911.41 312.497 1908.43 314.268 Q1905.44 316.038 1905.44 320.309 Q1905.44 323.712 1907.66 325.726 Q1909.92 327.705 1913.78 327.705 Q1919.09 327.705 1922.28 323.955 Q1925.51 320.17 1925.51 313.92 L1925.51 312.497 L1919.16 312.497 M1931.9 309.858 L1931.9 332.045 L1925.51 332.045 L1925.51 326.143 Q1923.32 329.684 1920.06 331.386 Q1916.8 333.052 1912.07 333.052 Q1906.1 333.052 1902.56 329.719 Q1899.05 326.351 1899.05 320.726 Q1899.05 314.163 1903.43 310.83 Q1907.84 307.497 1916.55 307.497 L1925.51 307.497 L1925.51 306.872 Q1925.51 302.462 1922.59 300.066 Q1919.71 297.636 1914.47 297.636 Q1911.14 297.636 1907.98 298.434 Q1904.82 299.233 1901.9 300.83 L1901.9 294.927 Q1905.41 293.573 1908.71 292.914 Q1912 292.219 1915.13 292.219 Q1923.57 292.219 1927.73 296.594 Q1931.9 300.969 1931.9 309.858 Z\" fill=\"#000000\" fill-rule=\"nonzero\" fill-opacity=\"1\" /><path clip-path=\"url(#clip490)\" d=\"M1945.06 278.018 L1951.45 278.018 L1951.45 332.045 L1945.06 332.045 L1945.06 278.018 Z\" fill=\"#000000\" fill-rule=\"nonzero\" fill-opacity=\"1\" /><path clip-path=\"url(#clip490)\" d=\"M1987.7 280.205 L1994.71 280.205 L1994.71 302.115 L2017.98 280.205 L2027 280.205 L2001.27 304.372 L2028.84 332.045 L2019.61 332.045 L1994.71 307.08 L1994.71 332.045 L1987.7 332.045 L1987.7 280.205 Z\" fill=\"#000000\" fill-rule=\"nonzero\" fill-opacity=\"1\" /><path clip-path=\"url(#clip490)\" d=\"M2056.59 299.129 Q2055.51 298.504 2054.23 298.226 Q2052.98 297.914 2051.45 297.914 Q2046.03 297.914 2043.11 301.455 Q2040.23 304.962 2040.23 311.559 L2040.23 332.045 L2033.81 332.045 L2033.81 293.157 L2040.23 293.157 L2040.23 299.198 Q2042.25 295.657 2045.48 293.955 Q2048.71 292.219 2053.32 292.219 Q2053.98 292.219 2054.78 292.323 Q2055.58 292.393 2056.55 292.566 L2056.59 299.129 Z\" fill=\"#000000\" fill-rule=\"nonzero\" fill-opacity=\"1\" /><path clip-path=\"url(#clip490)\" d=\"M2079.47 335.656 Q2076.76 342.601 2074.19 344.719 Q2071.62 346.837 2067.32 346.837 L2062.21 346.837 L2062.21 341.49 L2065.96 341.49 Q2068.6 341.49 2070.06 340.24 Q2071.52 338.99 2073.29 334.337 L2074.43 331.42 L2058.71 293.157 L2065.48 293.157 L2077.63 323.573 L2089.78 293.157 L2096.55 293.157 L2079.47 335.656 Z\" fill=\"#000000\" fill-rule=\"nonzero\" fill-opacity=\"1\" /><path clip-path=\"url(#clip490)\" d=\"M2105.37 278.018 L2111.76 278.018 L2111.76 332.045 L2105.37 332.045 L2105.37 278.018 Z\" fill=\"#000000\" fill-rule=\"nonzero\" fill-opacity=\"1\" /><path clip-path=\"url(#clip490)\" d=\"M2140.2 297.636 Q2135.06 297.636 2132.07 301.663 Q2129.09 305.657 2129.09 312.636 Q2129.09 319.615 2132.04 323.643 Q2135.02 327.636 2140.2 327.636 Q2145.3 327.636 2148.29 323.608 Q2151.27 319.58 2151.27 312.636 Q2151.27 305.726 2148.29 301.698 Q2145.3 297.636 2140.2 297.636 M2140.2 292.219 Q2148.53 292.219 2153.29 297.636 Q2158.04 303.052 2158.04 312.636 Q2158.04 322.184 2153.29 327.636 Q2148.53 333.052 2140.2 333.052 Q2131.83 333.052 2127.07 327.636 Q2122.35 322.184 2122.35 312.636 Q2122.35 303.052 2127.07 297.636 Q2131.83 292.219 2140.2 292.219 Z\" fill=\"#000000\" fill-rule=\"nonzero\" fill-opacity=\"1\" /><path clip-path=\"url(#clip490)\" d=\"M2164.05 293.157 L2170.82 293.157 L2182.98 325.795 L2195.13 293.157 L2201.9 293.157 L2187.32 332.045 L2178.64 332.045 L2164.05 293.157 Z\" fill=\"#000000\" fill-rule=\"nonzero\" fill-opacity=\"1\" /></svg>\n"
      ],
      "text/html": [
       "<?xml version=\"1.0\" encoding=\"utf-8\"?>\n",
       "<svg xmlns=\"http://www.w3.org/2000/svg\" xmlns:xlink=\"http://www.w3.org/1999/xlink\" width=\"600\" height=\"400\" viewBox=\"0 0 2400 1600\">\n",
       "<defs>\n",
       "  <clipPath id=\"clip540\">\n",
       "    <rect x=\"0\" y=\"0\" width=\"2400\" height=\"1600\"/>\n",
       "  </clipPath>\n",
       "</defs>\n",
       "<path clip-path=\"url(#clip540)\" d=\"M0 1600 L2400 1600 L2400 0 L0 0  Z\" fill=\"#ffffff\" fill-rule=\"evenodd\" fill-opacity=\"1\"/>\n",
       "<defs>\n",
       "  <clipPath id=\"clip541\">\n",
       "    <rect x=\"480\" y=\"0\" width=\"1681\" height=\"1600\"/>\n",
       "  </clipPath>\n",
       "</defs>\n",
       "<path clip-path=\"url(#clip540)\" d=\"M312.803 1321.31 L2289.76 1321.31 L2289.76 110.236 L312.803 110.236  Z\" fill=\"#ffffff\" fill-rule=\"evenodd\" fill-opacity=\"1\"/>\n",
       "<defs>\n",
       "  <clipPath id=\"clip542\">\n",
       "    <rect x=\"312\" y=\"110\" width=\"1978\" height=\"1212\"/>\n",
       "  </clipPath>\n",
       "</defs>\n",
       "<polyline clip-path=\"url(#clip542)\" style=\"stroke:#000000; stroke-linecap:round; stroke-linejoin:round; stroke-width:2; stroke-opacity:0.1; fill:none\" points=\"368.755,1321.31 368.755,110.236 \"/>\n",
       "<polyline clip-path=\"url(#clip542)\" style=\"stroke:#000000; stroke-linecap:round; stroke-linejoin:round; stroke-width:2; stroke-opacity:0.1; fill:none\" points=\"601.887,1321.31 601.887,110.236 \"/>\n",
       "<polyline clip-path=\"url(#clip542)\" style=\"stroke:#000000; stroke-linecap:round; stroke-linejoin:round; stroke-width:2; stroke-opacity:0.1; fill:none\" points=\"835.019,1321.31 835.019,110.236 \"/>\n",
       "<polyline clip-path=\"url(#clip542)\" style=\"stroke:#000000; stroke-linecap:round; stroke-linejoin:round; stroke-width:2; stroke-opacity:0.1; fill:none\" points=\"1068.15,1321.31 1068.15,110.236 \"/>\n",
       "<polyline clip-path=\"url(#clip542)\" style=\"stroke:#000000; stroke-linecap:round; stroke-linejoin:round; stroke-width:2; stroke-opacity:0.1; fill:none\" points=\"1301.28,1321.31 1301.28,110.236 \"/>\n",
       "<polyline clip-path=\"url(#clip542)\" style=\"stroke:#000000; stroke-linecap:round; stroke-linejoin:round; stroke-width:2; stroke-opacity:0.1; fill:none\" points=\"1534.42,1321.31 1534.42,110.236 \"/>\n",
       "<polyline clip-path=\"url(#clip542)\" style=\"stroke:#000000; stroke-linecap:round; stroke-linejoin:round; stroke-width:2; stroke-opacity:0.1; fill:none\" points=\"1767.55,1321.31 1767.55,110.236 \"/>\n",
       "<polyline clip-path=\"url(#clip542)\" style=\"stroke:#000000; stroke-linecap:round; stroke-linejoin:round; stroke-width:2; stroke-opacity:0.1; fill:none\" points=\"2000.68,1321.31 2000.68,110.236 \"/>\n",
       "<polyline clip-path=\"url(#clip542)\" style=\"stroke:#000000; stroke-linecap:round; stroke-linejoin:round; stroke-width:2; stroke-opacity:0.1; fill:none\" points=\"2233.81,1321.31 2233.81,110.236 \"/>\n",
       "<polyline clip-path=\"url(#clip542)\" style=\"stroke:#000000; stroke-linecap:round; stroke-linejoin:round; stroke-width:2; stroke-opacity:0.1; fill:none\" points=\"312.803,480.083 2289.76,480.083 \"/>\n",
       "<polyline clip-path=\"url(#clip542)\" style=\"stroke:#000000; stroke-linecap:round; stroke-linejoin:round; stroke-width:2; stroke-opacity:0.1; fill:none\" points=\"312.803,292.562 2289.76,292.562 \"/>\n",
       "<polyline clip-path=\"url(#clip542)\" style=\"stroke:#000000; stroke-linecap:round; stroke-linejoin:round; stroke-width:2; stroke-opacity:0.1; fill:none\" points=\"312.803,44.6732 2289.76,44.6732 \"/>\n",
       "<polyline clip-path=\"url(#clip542)\" style=\"stroke:#000000; stroke-linecap:round; stroke-linejoin:round; stroke-width:2; stroke-opacity:0.1; fill:none\" points=\"312.803,-142.848 2289.76,-142.848 \"/>\n",
       "<polyline clip-path=\"url(#clip540)\" style=\"stroke:#000000; stroke-linecap:round; stroke-linejoin:round; stroke-width:4; stroke-opacity:1; fill:none\" points=\"312.803,1321.31 2289.76,1321.31 \"/>\n",
       "<polyline clip-path=\"url(#clip540)\" style=\"stroke:#000000; stroke-linecap:round; stroke-linejoin:round; stroke-width:4; stroke-opacity:1; fill:none\" points=\"368.755,1321.31 368.755,1302.41 \"/>\n",
       "<polyline clip-path=\"url(#clip540)\" style=\"stroke:#000000; stroke-linecap:round; stroke-linejoin:round; stroke-width:4; stroke-opacity:1; fill:none\" points=\"601.887,1321.31 601.887,1302.41 \"/>\n",
       "<polyline clip-path=\"url(#clip540)\" style=\"stroke:#000000; stroke-linecap:round; stroke-linejoin:round; stroke-width:4; stroke-opacity:1; fill:none\" points=\"835.019,1321.31 835.019,1302.41 \"/>\n",
       "<polyline clip-path=\"url(#clip540)\" style=\"stroke:#000000; stroke-linecap:round; stroke-linejoin:round; stroke-width:4; stroke-opacity:1; fill:none\" points=\"1068.15,1321.31 1068.15,1302.41 \"/>\n",
       "<polyline clip-path=\"url(#clip540)\" style=\"stroke:#000000; stroke-linecap:round; stroke-linejoin:round; stroke-width:4; stroke-opacity:1; fill:none\" points=\"1301.28,1321.31 1301.28,1302.41 \"/>\n",
       "<polyline clip-path=\"url(#clip540)\" style=\"stroke:#000000; stroke-linecap:round; stroke-linejoin:round; stroke-width:4; stroke-opacity:1; fill:none\" points=\"1534.42,1321.31 1534.42,1302.41 \"/>\n",
       "<polyline clip-path=\"url(#clip540)\" style=\"stroke:#000000; stroke-linecap:round; stroke-linejoin:round; stroke-width:4; stroke-opacity:1; fill:none\" points=\"1767.55,1321.31 1767.55,1302.41 \"/>\n",
       "<polyline clip-path=\"url(#clip540)\" style=\"stroke:#000000; stroke-linecap:round; stroke-linejoin:round; stroke-width:4; stroke-opacity:1; fill:none\" points=\"2000.68,1321.31 2000.68,1302.41 \"/>\n",
       "<polyline clip-path=\"url(#clip540)\" style=\"stroke:#000000; stroke-linecap:round; stroke-linejoin:round; stroke-width:4; stroke-opacity:1; fill:none\" points=\"2233.81,1321.31 2233.81,1302.41 \"/>\n",
       "<path clip-path=\"url(#clip540)\" d=\"M335.752 1358.09 Q330.335 1358.09 327.592 1363.43 Q324.884 1368.75 324.884 1379.44 Q324.884 1390.1 327.592 1395.45 Q330.335 1400.76 335.752 1400.76 Q341.203 1400.76 343.911 1395.45 Q346.654 1390.1 346.654 1379.44 Q346.654 1368.75 343.911 1363.43 Q341.203 1358.09 335.752 1358.09 M335.752 1352.53 Q344.467 1352.53 349.05 1359.44 Q353.668 1366.31 353.668 1379.44 Q353.668 1392.53 349.05 1399.44 Q344.467 1406.31 335.752 1406.31 Q327.036 1406.31 322.418 1399.44 Q317.835 1392.53 317.835 1379.44 Q317.835 1366.31 322.418 1359.44 Q327.036 1352.53 335.752 1352.53 Z\" fill=\"#000000\" fill-rule=\"nonzero\" fill-opacity=\"1\" /><path clip-path=\"url(#clip540)\" d=\"M365.995 1396.49 L373.321 1396.49 L373.321 1405.31 L365.995 1405.31 L365.995 1396.49 Z\" fill=\"#000000\" fill-rule=\"nonzero\" fill-opacity=\"1\" /><path clip-path=\"url(#clip540)\" d=\"M389.814 1399.4 L401.272 1399.4 L401.272 1359.86 L388.807 1362.36 L388.807 1355.97 L401.203 1353.47 L408.217 1353.47 L408.217 1399.4 L419.675 1399.4 L419.675 1405.31 L389.814 1405.31 L389.814 1399.4 Z\" fill=\"#000000\" fill-rule=\"nonzero\" fill-opacity=\"1\" /><path clip-path=\"url(#clip540)\" d=\"M569.162 1358.09 Q563.745 1358.09 561.002 1363.43 Q558.294 1368.75 558.294 1379.44 Q558.294 1390.1 561.002 1395.45 Q563.745 1400.76 569.162 1400.76 Q574.613 1400.76 577.321 1395.45 Q580.064 1390.1 580.064 1379.44 Q580.064 1368.75 577.321 1363.43 Q574.613 1358.09 569.162 1358.09 M569.162 1352.53 Q577.877 1352.53 582.46 1359.44 Q587.078 1366.31 587.078 1379.44 Q587.078 1392.53 582.46 1399.44 Q577.877 1406.31 569.162 1406.31 Q560.446 1406.31 555.828 1399.44 Q551.245 1392.53 551.245 1379.44 Q551.245 1366.31 555.828 1359.44 Q560.446 1352.53 569.162 1352.53 Z\" fill=\"#000000\" fill-rule=\"nonzero\" fill-opacity=\"1\" /><path clip-path=\"url(#clip540)\" d=\"M599.404 1396.49 L606.731 1396.49 L606.731 1405.31 L599.404 1405.31 L599.404 1396.49 Z\" fill=\"#000000\" fill-rule=\"nonzero\" fill-opacity=\"1\" /><path clip-path=\"url(#clip540)\" d=\"M628.05 1399.4 L652.529 1399.4 L652.529 1405.31 L619.613 1405.31 L619.613 1399.4 Q623.606 1395.27 630.481 1388.33 Q637.39 1381.35 639.161 1379.34 Q642.529 1375.55 643.849 1372.95 Q645.203 1370.31 645.203 1367.77 Q645.203 1363.64 642.286 1361.04 Q639.404 1358.43 634.752 1358.43 Q631.453 1358.43 627.772 1359.58 Q624.127 1360.72 619.96 1363.05 L619.96 1355.97 Q624.196 1354.27 627.877 1353.4 Q631.557 1352.53 634.613 1352.53 Q642.668 1352.53 647.46 1356.56 Q652.251 1360.59 652.251 1367.32 Q652.251 1370.52 651.036 1373.4 Q649.856 1376.25 646.696 1380.13 Q645.828 1381.14 641.175 1385.97 Q636.522 1390.76 628.05 1399.4 Z\" fill=\"#000000\" fill-rule=\"nonzero\" fill-opacity=\"1\" /><path clip-path=\"url(#clip540)\" d=\"M801.582 1358.09 Q796.165 1358.09 793.422 1363.43 Q790.714 1368.75 790.714 1379.44 Q790.714 1390.1 793.422 1395.45 Q796.165 1400.76 801.582 1400.76 Q807.033 1400.76 809.742 1395.45 Q812.485 1390.1 812.485 1379.44 Q812.485 1368.75 809.742 1363.43 Q807.033 1358.09 801.582 1358.09 M801.582 1352.53 Q810.297 1352.53 814.88 1359.44 Q819.498 1366.31 819.498 1379.44 Q819.498 1392.53 814.88 1399.44 Q810.297 1406.31 801.582 1406.31 Q792.867 1406.31 788.249 1399.44 Q783.665 1392.53 783.665 1379.44 Q783.665 1366.31 788.249 1359.44 Q792.867 1352.53 801.582 1352.53 Z\" fill=\"#000000\" fill-rule=\"nonzero\" fill-opacity=\"1\" /><path clip-path=\"url(#clip540)\" d=\"M831.825 1396.49 L839.151 1396.49 L839.151 1405.31 L831.825 1405.31 L831.825 1396.49 Z\" fill=\"#000000\" fill-rule=\"nonzero\" fill-opacity=\"1\" /><path clip-path=\"url(#clip540)\" d=\"M875.679 1377.36 Q880.713 1378.43 883.526 1381.84 Q886.373 1385.24 886.373 1390.24 Q886.373 1397.91 881.095 1402.11 Q875.818 1406.31 866.095 1406.31 Q862.832 1406.31 859.359 1405.65 Q855.922 1405.03 852.241 1403.75 L852.241 1396.97 Q855.158 1398.68 858.63 1399.54 Q862.102 1400.41 865.887 1400.41 Q872.484 1400.41 875.922 1397.81 Q879.394 1395.2 879.394 1390.24 Q879.394 1385.66 876.165 1383.09 Q872.97 1380.48 867.241 1380.48 L861.2 1380.48 L861.2 1374.72 L867.519 1374.72 Q872.693 1374.72 875.436 1372.67 Q878.179 1370.59 878.179 1366.7 Q878.179 1362.7 875.332 1360.59 Q872.519 1358.43 867.241 1358.43 Q864.359 1358.43 861.061 1359.06 Q857.762 1359.68 853.804 1361 L853.804 1354.75 Q857.797 1353.64 861.269 1353.09 Q864.776 1352.53 867.866 1352.53 Q875.852 1352.53 880.505 1356.18 Q885.158 1359.79 885.158 1365.97 Q885.158 1370.27 882.693 1373.26 Q880.227 1376.21 875.679 1377.36 Z\" fill=\"#000000\" fill-rule=\"nonzero\" fill-opacity=\"1\" /><path clip-path=\"url(#clip540)\" d=\"M1033.86 1358.09 Q1028.45 1358.09 1025.7 1363.43 Q1023 1368.75 1023 1379.44 Q1023 1390.1 1025.7 1395.45 Q1028.45 1400.76 1033.86 1400.76 Q1039.31 1400.76 1042.02 1395.45 Q1044.77 1390.1 1044.77 1379.44 Q1044.77 1368.75 1042.02 1363.43 Q1039.31 1358.09 1033.86 1358.09 M1033.86 1352.53 Q1042.58 1352.53 1047.16 1359.44 Q1051.78 1366.31 1051.78 1379.44 Q1051.78 1392.53 1047.16 1399.44 Q1042.58 1406.31 1033.86 1406.31 Q1025.15 1406.31 1020.53 1399.44 Q1015.95 1392.53 1015.95 1379.44 Q1015.95 1366.31 1020.53 1359.44 Q1025.15 1352.53 1033.86 1352.53 Z\" fill=\"#000000\" fill-rule=\"nonzero\" fill-opacity=\"1\" /><path clip-path=\"url(#clip540)\" d=\"M1064.11 1396.49 L1071.43 1396.49 L1071.43 1405.31 L1064.11 1405.31 L1064.11 1396.49 Z\" fill=\"#000000\" fill-rule=\"nonzero\" fill-opacity=\"1\" /><path clip-path=\"url(#clip540)\" d=\"M1105.98 1359.58 L1088.27 1387.25 L1105.98 1387.25 L1105.98 1359.58 M1104.14 1353.47 L1112.96 1353.47 L1112.96 1387.25 L1120.36 1387.25 L1120.36 1393.09 L1112.96 1393.09 L1112.96 1405.31 L1105.98 1405.31 L1105.98 1393.09 L1082.58 1393.09 L1082.58 1386.31 L1104.14 1353.47 Z\" fill=\"#000000\" fill-rule=\"nonzero\" fill-opacity=\"1\" /><path clip-path=\"url(#clip540)\" d=\"M1268.11 1358.09 Q1262.69 1358.09 1259.95 1363.43 Q1257.24 1368.75 1257.24 1379.44 Q1257.24 1390.1 1259.95 1395.45 Q1262.69 1400.76 1268.11 1400.76 Q1273.56 1400.76 1276.27 1395.45 Q1279.01 1390.1 1279.01 1379.44 Q1279.01 1368.75 1276.27 1363.43 Q1273.56 1358.09 1268.11 1358.09 M1268.11 1352.53 Q1276.82 1352.53 1281.41 1359.44 Q1286.02 1366.31 1286.02 1379.44 Q1286.02 1392.53 1281.41 1399.44 Q1276.82 1406.31 1268.11 1406.31 Q1259.39 1406.31 1254.77 1399.44 Q1250.19 1392.53 1250.19 1379.44 Q1250.19 1366.31 1254.77 1359.44 Q1259.39 1352.53 1268.11 1352.53 Z\" fill=\"#000000\" fill-rule=\"nonzero\" fill-opacity=\"1\" /><path clip-path=\"url(#clip540)\" d=\"M1298.35 1396.49 L1305.68 1396.49 L1305.68 1405.31 L1298.35 1405.31 L1298.35 1396.49 Z\" fill=\"#000000\" fill-rule=\"nonzero\" fill-opacity=\"1\" /><path clip-path=\"url(#clip540)\" d=\"M1321.02 1353.47 L1348.56 1353.47 L1348.56 1359.37 L1327.45 1359.37 L1327.45 1372.08 Q1328.97 1371.56 1330.5 1371.31 Q1332.03 1371.04 1333.56 1371.04 Q1342.24 1371.04 1347.31 1375.79 Q1352.38 1380.55 1352.38 1388.68 Q1352.38 1397.04 1347.17 1401.7 Q1341.96 1406.31 1332.48 1406.31 Q1329.22 1406.31 1325.81 1405.76 Q1322.45 1405.2 1318.84 1404.09 L1318.84 1397.04 Q1321.96 1398.75 1325.29 1399.58 Q1328.63 1400.41 1332.34 1400.41 Q1338.35 1400.41 1341.86 1397.25 Q1345.36 1394.09 1345.36 1388.68 Q1345.36 1383.26 1341.86 1380.1 Q1338.35 1376.94 1332.34 1376.94 Q1329.53 1376.94 1326.72 1377.56 Q1323.94 1378.19 1321.02 1379.51 L1321.02 1353.47 Z\" fill=\"#000000\" fill-rule=\"nonzero\" fill-opacity=\"1\" /><path clip-path=\"url(#clip540)\" d=\"M1500.37 1358.09 Q1494.95 1358.09 1492.21 1363.43 Q1489.5 1368.75 1489.5 1379.44 Q1489.5 1390.1 1492.21 1395.45 Q1494.95 1400.76 1500.37 1400.76 Q1505.82 1400.76 1508.53 1395.45 Q1511.27 1390.1 1511.27 1379.44 Q1511.27 1368.75 1508.53 1363.43 Q1505.82 1358.09 1500.37 1358.09 M1500.37 1352.53 Q1509.09 1352.53 1513.67 1359.44 Q1518.29 1366.31 1518.29 1379.44 Q1518.29 1392.53 1513.67 1399.44 Q1509.09 1406.31 1500.37 1406.31 Q1491.66 1406.31 1487.04 1399.44 Q1482.45 1392.53 1482.45 1379.44 Q1482.45 1366.31 1487.04 1359.44 Q1491.66 1352.53 1500.37 1352.53 Z\" fill=\"#000000\" fill-rule=\"nonzero\" fill-opacity=\"1\" /><path clip-path=\"url(#clip540)\" d=\"M1530.61 1396.49 L1537.94 1396.49 L1537.94 1405.31 L1530.61 1405.31 L1530.61 1396.49 Z\" fill=\"#000000\" fill-rule=\"nonzero\" fill-opacity=\"1\" /><path clip-path=\"url(#clip540)\" d=\"M1569.09 1376.59 Q1564.36 1376.59 1561.59 1379.82 Q1558.84 1383.05 1558.84 1388.68 Q1558.84 1394.27 1561.59 1397.53 Q1564.36 1400.76 1569.09 1400.76 Q1573.81 1400.76 1576.55 1397.53 Q1579.33 1394.27 1579.33 1388.68 Q1579.33 1383.05 1576.55 1379.82 Q1573.81 1376.59 1569.09 1376.59 M1583.01 1354.61 L1583.01 1361 Q1580.37 1359.75 1577.66 1359.09 Q1574.99 1358.43 1572.35 1358.43 Q1565.41 1358.43 1561.72 1363.12 Q1558.08 1367.81 1557.56 1377.29 Q1559.61 1374.27 1562.7 1372.67 Q1565.79 1371.04 1569.5 1371.04 Q1577.31 1371.04 1581.83 1375.79 Q1586.38 1380.52 1586.38 1388.68 Q1586.38 1396.66 1581.65 1401.49 Q1576.93 1406.31 1569.09 1406.31 Q1560.09 1406.31 1555.34 1399.44 Q1550.58 1392.53 1550.58 1379.44 Q1550.58 1367.15 1556.41 1359.86 Q1562.25 1352.53 1572.07 1352.53 Q1574.71 1352.53 1577.38 1353.05 Q1580.09 1353.57 1583.01 1354.61 Z\" fill=\"#000000\" fill-rule=\"nonzero\" fill-opacity=\"1\" /><path clip-path=\"url(#clip540)\" d=\"M1734.3 1358.09 Q1728.88 1358.09 1726.14 1363.43 Q1723.43 1368.75 1723.43 1379.44 Q1723.43 1390.1 1726.14 1395.45 Q1728.88 1400.76 1734.3 1400.76 Q1739.75 1400.76 1742.46 1395.45 Q1745.2 1390.1 1745.2 1379.44 Q1745.2 1368.75 1742.46 1363.43 Q1739.75 1358.09 1734.3 1358.09 M1734.3 1352.53 Q1743.02 1352.53 1747.6 1359.44 Q1752.22 1366.31 1752.22 1379.44 Q1752.22 1392.53 1747.6 1399.44 Q1743.02 1406.31 1734.3 1406.31 Q1725.59 1406.31 1720.97 1399.44 Q1716.38 1392.53 1716.38 1379.44 Q1716.38 1366.31 1720.97 1359.44 Q1725.59 1352.53 1734.3 1352.53 Z\" fill=\"#000000\" fill-rule=\"nonzero\" fill-opacity=\"1\" /><path clip-path=\"url(#clip540)\" d=\"M1764.54 1396.49 L1771.87 1396.49 L1771.87 1405.31 L1764.54 1405.31 L1764.54 1396.49 Z\" fill=\"#000000\" fill-rule=\"nonzero\" fill-opacity=\"1\" /><path clip-path=\"url(#clip540)\" d=\"M1785.38 1353.47 L1818.71 1353.47 L1818.71 1356.45 L1799.89 1405.31 L1792.57 1405.31 L1810.27 1359.37 L1785.38 1359.37 L1785.38 1353.47 Z\" fill=\"#000000\" fill-rule=\"nonzero\" fill-opacity=\"1\" /><path clip-path=\"url(#clip540)\" d=\"M1966.83 1358.09 Q1961.41 1358.09 1958.67 1363.43 Q1955.96 1368.75 1955.96 1379.44 Q1955.96 1390.1 1958.67 1395.45 Q1961.41 1400.76 1966.83 1400.76 Q1972.28 1400.76 1974.99 1395.45 Q1977.73 1390.1 1977.73 1379.44 Q1977.73 1368.75 1974.99 1363.43 Q1972.28 1358.09 1966.83 1358.09 M1966.83 1352.53 Q1975.54 1352.53 1980.12 1359.44 Q1984.74 1366.31 1984.74 1379.44 Q1984.74 1392.53 1980.12 1399.44 Q1975.54 1406.31 1966.83 1406.31 Q1958.11 1406.31 1953.49 1399.44 Q1948.91 1392.53 1948.91 1379.44 Q1948.91 1366.31 1953.49 1359.44 Q1958.11 1352.53 1966.83 1352.53 Z\" fill=\"#000000\" fill-rule=\"nonzero\" fill-opacity=\"1\" /><path clip-path=\"url(#clip540)\" d=\"M1997.07 1396.49 L2004.4 1396.49 L2004.4 1405.31 L1997.07 1405.31 L1997.07 1396.49 Z\" fill=\"#000000\" fill-rule=\"nonzero\" fill-opacity=\"1\" /><path clip-path=\"url(#clip540)\" d=\"M2034.67 1380.69 Q2029.67 1380.69 2026.79 1383.36 Q2023.94 1386.04 2023.94 1390.72 Q2023.94 1395.41 2026.79 1398.09 Q2029.67 1400.76 2034.67 1400.76 Q2039.67 1400.76 2042.55 1398.09 Q2045.44 1395.38 2045.44 1390.72 Q2045.44 1386.04 2042.55 1383.36 Q2039.71 1380.69 2034.67 1380.69 M2027.66 1377.7 Q2023.15 1376.59 2020.61 1373.5 Q2018.11 1370.41 2018.11 1365.97 Q2018.11 1359.75 2022.52 1356.14 Q2026.96 1352.53 2034.67 1352.53 Q2042.42 1352.53 2046.83 1356.14 Q2051.24 1359.75 2051.24 1365.97 Q2051.24 1370.41 2048.7 1373.5 Q2046.2 1376.59 2041.72 1377.7 Q2046.79 1378.88 2049.6 1382.32 Q2052.45 1385.76 2052.45 1390.72 Q2052.45 1398.26 2047.83 1402.29 Q2043.25 1406.31 2034.67 1406.31 Q2026.1 1406.31 2021.48 1402.29 Q2016.9 1398.26 2016.9 1390.72 Q2016.9 1385.76 2019.74 1382.32 Q2022.59 1378.88 2027.66 1377.7 M2025.09 1366.63 Q2025.09 1370.66 2027.59 1372.91 Q2030.12 1375.17 2034.67 1375.17 Q2039.19 1375.17 2041.72 1372.91 Q2044.29 1370.66 2044.29 1366.63 Q2044.29 1362.6 2041.72 1360.34 Q2039.19 1358.09 2034.67 1358.09 Q2030.12 1358.09 2027.59 1360.34 Q2025.09 1362.6 2025.09 1366.63 Z\" fill=\"#000000\" fill-rule=\"nonzero\" fill-opacity=\"1\" /><path clip-path=\"url(#clip540)\" d=\"M2200.03 1358.09 Q2194.61 1358.09 2191.87 1363.43 Q2189.16 1368.75 2189.16 1379.44 Q2189.16 1390.1 2191.87 1395.45 Q2194.61 1400.76 2200.03 1400.76 Q2205.48 1400.76 2208.19 1395.45 Q2210.93 1390.1 2210.93 1379.44 Q2210.93 1368.75 2208.19 1363.43 Q2205.48 1358.09 2200.03 1358.09 M2200.03 1352.53 Q2208.74 1352.53 2213.33 1359.44 Q2217.94 1366.31 2217.94 1379.44 Q2217.94 1392.53 2213.33 1399.44 Q2208.74 1406.31 2200.03 1406.31 Q2191.31 1406.31 2186.69 1399.44 Q2182.11 1392.53 2182.11 1379.44 Q2182.11 1366.31 2186.69 1359.44 Q2191.31 1352.53 2200.03 1352.53 Z\" fill=\"#000000\" fill-rule=\"nonzero\" fill-opacity=\"1\" /><path clip-path=\"url(#clip540)\" d=\"M2230.27 1396.49 L2237.6 1396.49 L2237.6 1405.31 L2230.27 1405.31 L2230.27 1396.49 Z\" fill=\"#000000\" fill-rule=\"nonzero\" fill-opacity=\"1\" /><path clip-path=\"url(#clip540)\" d=\"M2253.08 1404.23 L2253.08 1397.84 Q2255.72 1399.09 2258.43 1399.75 Q2261.14 1400.41 2263.74 1400.41 Q2270.69 1400.41 2274.33 1395.76 Q2278.01 1391.07 2278.53 1381.56 Q2276.52 1384.54 2273.43 1386.14 Q2270.34 1387.74 2266.59 1387.74 Q2258.81 1387.74 2254.26 1383.05 Q2249.75 1378.33 2249.75 1370.17 Q2249.75 1362.18 2254.47 1357.36 Q2259.19 1352.53 2267.04 1352.53 Q2276.03 1352.53 2280.76 1359.44 Q2285.51 1366.31 2285.51 1379.44 Q2285.51 1391.7 2279.68 1399.02 Q2273.88 1406.31 2264.05 1406.31 Q2261.42 1406.31 2258.71 1405.79 Q2256 1405.27 2253.08 1404.23 M2267.04 1382.25 Q2271.76 1382.25 2274.51 1379.02 Q2277.28 1375.79 2277.28 1370.17 Q2277.28 1364.58 2274.51 1361.35 Q2271.76 1358.09 2267.04 1358.09 Q2262.32 1358.09 2259.54 1361.35 Q2256.8 1364.58 2256.8 1370.17 Q2256.8 1375.79 2259.54 1379.02 Q2262.32 1382.25 2267.04 1382.25 Z\" fill=\"#000000\" fill-rule=\"nonzero\" fill-opacity=\"1\" /><path clip-path=\"url(#clip540)\" d=\"M1326.63 1445.79 Q1326.63 1447 1326.11 1449.35 Q1324.48 1455.95 1318.34 1460.5 Q1317.31 1461.34 1315.48 1462.42 Q1317.68 1463.87 1319.6 1466.54 Q1322.46 1470.94 1322.46 1476.89 Q1322.46 1479.65 1321.71 1483.03 Q1319.6 1490.85 1312.2 1496.47 Q1304.75 1501.95 1295.9 1501.95 Q1291.12 1501.95 1287.84 1499.42 Q1284.61 1496.85 1283.35 1492.54 L1276.83 1518.82 Q1276.69 1519.47 1275.85 1519.47 L1275.38 1519.47 Q1274.4 1519.47 1274.4 1518.35 L1289.2 1459.32 Q1290.18 1455.34 1291.78 1451.59 Q1293.37 1447.85 1295.57 1444.47 Q1297.82 1441.1 1300.4 1438.62 Q1302.97 1436.09 1306.16 1434.64 Q1309.34 1433.14 1312.72 1433.14 Q1319.79 1433.14 1323.82 1437.96 Q1326.63 1441.38 1326.63 1445.79 M1321.24 1444.1 Q1321.24 1441.2 1320.07 1439.18 Q1317.68 1435.34 1312.62 1435.34 Q1309.58 1435.34 1306.67 1436.75 Q1303.82 1438.1 1301.52 1440.45 Q1299.23 1442.79 1297.26 1445.97 Q1295.29 1449.16 1293.84 1452.63 Q1292.43 1456.05 1291.5 1459.79 L1285.73 1483.03 Q1285.17 1485.51 1285.17 1487.71 Q1285.17 1492.96 1288.08 1496.38 Q1290.98 1499.8 1295.99 1499.8 Q1302.65 1499.8 1308.36 1494.83 Q1313.33 1490.38 1315.39 1482.56 Q1316.56 1477.64 1316.56 1474.22 Q1316.56 1470.47 1315.2 1467.57 Q1314.22 1465.23 1312.3 1463.82 Q1308.74 1465.09 1305.13 1465.09 Q1303.39 1465.09 1302.46 1465.04 Q1301.57 1464.99 1300.26 1464.81 Q1298.99 1464.62 1298.38 1464.1 Q1297.82 1463.59 1297.82 1462.79 Q1297.82 1462.32 1297.91 1462.13 Q1298.1 1461.39 1298.71 1460.87 Q1299.32 1460.35 1300.02 1460.12 Q1300.72 1459.84 1301.9 1459.7 Q1303.11 1459.56 1303.91 1459.56 Q1304.71 1459.51 1306.07 1459.51 Q1309.25 1459.51 1312.48 1460.78 Q1313.7 1460.12 1315.01 1458.95 Q1319.18 1455.06 1320.59 1448.88 Q1321.24 1446.58 1321.24 1444.1 M1309.44 1462.23 Q1307.47 1461.71 1305.97 1461.71 Q1300.49 1461.71 1300.21 1462.6 Q1300.21 1462.7 1300.4 1462.79 Q1300.58 1462.84 1301.01 1462.88 Q1301.47 1462.88 1301.85 1462.93 Q1302.27 1462.98 1302.97 1462.98 Q1303.68 1462.98 1304.05 1462.98 Q1304.47 1462.98 1305.22 1462.98 Q1307.1 1462.98 1309.44 1462.23 Z\" fill=\"#000000\" fill-rule=\"nonzero\" fill-opacity=\"1\" /><polyline clip-path=\"url(#clip540)\" style=\"stroke:#000000; stroke-linecap:round; stroke-linejoin:round; stroke-width:4; stroke-opacity:1; fill:none\" points=\"312.803,1321.31 312.803,110.236 \"/>\n",
       "<polyline clip-path=\"url(#clip540)\" style=\"stroke:#000000; stroke-linecap:round; stroke-linejoin:round; stroke-width:4; stroke-opacity:1; fill:none\" points=\"312.803,480.083 331.701,480.083 \"/>\n",
       "<polyline clip-path=\"url(#clip540)\" style=\"stroke:#000000; stroke-linecap:round; stroke-linejoin:round; stroke-width:4; stroke-opacity:1; fill:none\" points=\"312.803,292.562 331.701,292.562 \"/>\n",
       "<polyline clip-path=\"url(#clip540)\" style=\"stroke:#000000; stroke-linecap:round; stroke-linejoin:round; stroke-width:4; stroke-opacity:1; fill:none\" points=\"312.803,44.6732 331.701,44.6732 \"/>\n",
       "<polyline clip-path=\"url(#clip540)\" style=\"stroke:#000000; stroke-linecap:round; stroke-linejoin:round; stroke-width:4; stroke-opacity:1; fill:none\" points=\"312.803,-142.848 331.701,-142.848 \"/>\n",
       "<path clip-path=\"url(#clip540)\" d=\"M246.942 500.101 L258.401 500.101 L258.401 460.552 L245.935 463.052 L245.935 456.663 L258.331 454.163 L265.345 454.163 L265.345 500.101 L276.803 500.101 L276.803 506.003 L246.942 506.003 L246.942 500.101 Z\" fill=\"#000000\" fill-rule=\"nonzero\" fill-opacity=\"1\" /><path clip-path=\"url(#clip540)\" d=\"M252.324 312.58 L276.803 312.58 L276.803 318.482 L243.887 318.482 L243.887 312.58 Q247.88 308.448 254.755 301.503 Q261.664 294.524 263.435 292.51 Q266.803 288.726 268.123 286.121 Q269.477 283.483 269.477 280.948 Q269.477 276.816 266.56 274.212 Q263.678 271.608 259.026 271.608 Q255.727 271.608 252.046 272.753 Q248.401 273.899 244.234 276.226 L244.234 269.142 Q248.47 267.441 252.151 266.573 Q255.831 265.705 258.887 265.705 Q266.942 265.705 271.734 269.733 Q276.525 273.76 276.525 280.496 Q276.525 283.691 275.31 286.573 Q274.13 289.42 270.97 293.309 Q270.102 294.316 265.449 299.142 Q260.796 303.934 252.324 312.58 Z\" fill=\"#000000\" fill-rule=\"nonzero\" fill-opacity=\"1\" /><path clip-path=\"url(#clip540)\" d=\"M245.449 18.7532 L272.984 18.7532 L272.984 24.6559 L251.873 24.6559 L251.873 37.3642 Q253.401 36.8434 254.928 36.6003 Q256.456 36.3225 257.984 36.3225 Q266.664 36.3225 271.734 41.0795 Q276.803 45.8364 276.803 53.9613 Q276.803 62.3294 271.595 66.9821 Q266.387 71.6001 256.908 71.6001 Q253.644 71.6001 250.241 71.0446 Q246.873 70.489 243.262 69.3779 L243.262 62.3294 Q246.387 64.0307 249.72 64.8641 Q253.053 65.6974 256.769 65.6974 Q262.776 65.6974 266.282 62.5377 Q269.789 59.378 269.789 53.9613 Q269.789 48.5447 266.282 45.385 Q262.776 42.2253 256.769 42.2253 Q253.956 42.2253 251.144 42.8503 Q248.366 43.4753 245.449 44.7947 L245.449 18.7532 Z\" fill=\"#000000\" fill-rule=\"nonzero\" fill-opacity=\"1\" /><path clip-path=\"url(#clip540)\" d=\"M199.859 -122.83 L211.317 -122.83 L211.317 -162.379 L198.852 -159.879 L198.852 -166.268 L211.248 -168.768 L218.262 -168.768 L218.262 -122.83 L229.72 -122.83 L229.72 -116.928 L199.859 -116.928 L199.859 -122.83 Z\" fill=\"#000000\" fill-rule=\"nonzero\" fill-opacity=\"1\" /><path clip-path=\"url(#clip540)\" d=\"M258.887 -164.15 Q253.47 -164.15 250.727 -158.802 Q248.019 -153.49 248.019 -142.796 Q248.019 -132.136 250.727 -126.789 Q253.47 -121.476 258.887 -121.476 Q264.338 -121.476 267.046 -126.789 Q269.789 -132.136 269.789 -142.796 Q269.789 -153.49 267.046 -158.802 Q264.338 -164.15 258.887 -164.15 M258.887 -169.705 Q267.602 -169.705 272.185 -162.796 Q276.803 -155.921 276.803 -142.796 Q276.803 -129.705 272.185 -122.796 Q267.602 -115.921 258.887 -115.921 Q250.171 -115.921 245.553 -122.796 Q240.97 -129.705 240.97 -142.796 Q240.97 -155.921 245.553 -162.796 Q250.171 -169.705 258.887 -169.705 Z\" fill=\"#000000\" fill-rule=\"nonzero\" fill-opacity=\"1\" /><path clip-path=\"url(#clip540)\" d=\"M72.9963 1073.69 L72.9963 1015.21 L80.8666 1015.21 L80.8666 1039.75 L142.116 1039.75 L142.116 1049.15 L80.8666 1049.15 L80.8666 1073.69 L72.9963 1073.69 Z\" fill=\"#000000\" fill-rule=\"nonzero\" fill-opacity=\"1\" /><path clip-path=\"url(#clip540)\" d=\"M90.2647 1009.47 L90.2647 1000.96 L142.116 1000.96 L142.116 1009.47 L90.2647 1009.47 M70.0796 1009.47 L70.0796 1000.96 L80.8666 1000.96 L80.8666 1009.47 L70.0796 1009.47 Z\" fill=\"#000000\" fill-rule=\"nonzero\" fill-opacity=\"1\" /><path clip-path=\"url(#clip540)\" d=\"M100.218 942.761 Q94.4776 939.567 91.7462 935.123 Q89.0147 930.678 89.0147 924.66 Q89.0147 916.558 94.7091 912.16 Q100.357 907.762 110.82 907.762 L142.116 907.762 L142.116 916.326 L111.098 916.326 Q103.644 916.326 100.033 918.965 Q96.4221 921.604 96.4221 927.021 Q96.4221 933.641 100.82 937.484 Q105.218 941.326 112.811 941.326 L142.116 941.326 L142.116 949.891 L111.098 949.891 Q103.598 949.891 100.033 952.53 Q96.4221 955.169 96.4221 960.678 Q96.4221 967.206 100.867 971.048 Q105.265 974.891 112.811 974.891 L142.116 974.891 L142.116 983.456 L90.2647 983.456 L90.2647 974.891 L98.3202 974.891 Q93.5517 971.974 91.2832 967.9 Q89.0147 963.826 89.0147 958.224 Q89.0147 952.576 91.8851 948.641 Q94.7554 944.66 100.218 942.761 Z\" fill=\"#000000\" fill-rule=\"nonzero\" fill-opacity=\"1\" /><path clip-path=\"url(#clip540)\" d=\"M114.061 846.419 L118.228 846.419 L118.228 885.586 Q127.024 885.03 131.653 880.308 Q136.237 875.54 136.237 867.067 Q136.237 862.16 135.033 857.577 Q133.829 852.947 131.422 848.41 L139.477 848.41 Q141.422 852.993 142.44 857.808 Q143.459 862.623 143.459 867.577 Q143.459 879.984 136.237 887.253 Q129.015 894.475 116.7 894.475 Q103.968 894.475 96.5147 887.623 Q89.0147 880.725 89.0147 869.058 Q89.0147 858.595 95.7739 852.53 Q102.487 846.419 114.061 846.419 M111.561 854.938 Q104.57 855.03 100.404 858.873 Q96.2369 862.669 96.2369 868.966 Q96.2369 876.095 100.265 880.401 Q104.292 884.66 111.607 885.308 L111.561 854.938 Z\" fill=\"#000000\" fill-rule=\"nonzero\" fill-opacity=\"1\" /><path clip-path=\"url(#clip540)\" d=\"M70.1722 781.836 Q80.8203 788.04 91.2369 791.049 Q101.654 794.059 112.348 794.059 Q123.042 794.059 133.552 791.049 Q144.014 787.994 154.616 781.836 L154.616 789.244 Q143.737 796.188 133.227 799.66 Q122.718 803.086 112.348 803.086 Q102.024 803.086 91.561 799.66 Q81.0981 796.235 70.1722 789.244 L70.1722 781.836 Z\" fill=\"#000000\" fill-rule=\"nonzero\" fill-opacity=\"1\" /><path clip-path=\"url(#clip540)\" d=\"M91.7925 732.253 L99.848 732.253 Q97.9961 735.864 97.0702 739.753 Q96.1443 743.642 96.1443 747.809 Q96.1443 754.151 98.0887 757.346 Q100.033 760.494 103.922 760.494 Q106.885 760.494 108.598 758.225 Q110.265 755.957 111.792 749.105 L112.441 746.188 Q114.385 737.114 117.95 733.318 Q121.468 729.476 127.811 729.476 Q135.033 729.476 139.246 735.216 Q143.459 740.911 143.459 750.911 Q143.459 755.077 142.626 759.614 Q141.839 764.105 140.218 769.105 L131.422 769.105 Q133.876 764.383 135.126 759.8 Q136.329 755.216 136.329 750.725 Q136.329 744.707 134.292 741.466 Q132.209 738.226 128.459 738.226 Q124.987 738.226 123.135 740.587 Q121.283 742.901 119.57 750.818 L118.876 753.781 Q117.209 761.698 113.783 765.216 Q110.311 768.735 104.292 768.735 Q96.9776 768.735 92.9962 763.549 Q89.0147 758.364 89.0147 748.827 Q89.0147 744.105 89.7092 739.939 Q90.4036 735.772 91.7925 732.253 Z\" fill=\"#000000\" fill-rule=\"nonzero\" fill-opacity=\"1\" /><path clip-path=\"url(#clip540)\" d=\"M114.061 671.559 L118.228 671.559 L118.228 710.726 Q127.024 710.17 131.653 705.448 Q136.237 700.679 136.237 692.207 Q136.237 687.3 135.033 682.717 Q133.829 678.087 131.422 673.55 L139.477 673.55 Q141.422 678.133 142.44 682.948 Q143.459 687.763 143.459 692.717 Q143.459 705.124 136.237 712.392 Q129.015 719.615 116.7 719.615 Q103.968 719.615 96.5147 712.763 Q89.0147 705.865 89.0147 694.198 Q89.0147 683.735 95.7739 677.67 Q102.487 671.559 114.061 671.559 M111.561 680.078 Q104.57 680.17 100.404 684.013 Q96.2369 687.809 96.2369 694.105 Q96.2369 701.235 100.265 705.541 Q104.292 709.8 111.607 710.448 L111.561 680.078 Z\" fill=\"#000000\" fill-rule=\"nonzero\" fill-opacity=\"1\" /><path clip-path=\"url(#clip540)\" d=\"M92.2554 620.263 L100.218 620.263 Q98.2276 623.874 97.2554 627.532 Q96.2369 631.143 96.2369 634.846 Q96.2369 643.133 101.515 647.717 Q106.746 652.3 116.237 652.3 Q125.727 652.3 131.005 647.717 Q136.237 643.133 136.237 634.846 Q136.237 631.143 135.264 627.532 Q134.246 623.874 132.255 620.263 L140.126 620.263 Q141.792 623.828 142.626 627.671 Q143.459 631.467 143.459 635.772 Q143.459 647.485 136.098 654.383 Q128.737 661.282 116.237 661.282 Q103.552 661.282 96.2832 654.337 Q89.0147 647.346 89.0147 635.217 Q89.0147 631.282 89.848 627.532 Q90.6351 623.782 92.2554 620.263 Z\" fill=\"#000000\" fill-rule=\"nonzero\" fill-opacity=\"1\" /><path clip-path=\"url(#clip540)\" d=\"M96.2369 585.356 Q96.2369 592.208 101.607 596.189 Q106.931 600.171 116.237 600.171 Q125.542 600.171 130.913 596.236 Q136.237 592.254 136.237 585.356 Q136.237 578.55 130.866 574.569 Q125.496 570.588 116.237 570.588 Q107.024 570.588 101.654 574.569 Q96.2369 578.55 96.2369 585.356 M89.0147 585.356 Q89.0147 574.245 96.2369 567.902 Q103.459 561.56 116.237 561.56 Q128.968 561.56 136.237 567.902 Q143.459 574.245 143.459 585.356 Q143.459 596.513 136.237 602.856 Q128.968 609.152 116.237 609.152 Q103.459 609.152 96.2369 602.856 Q89.0147 596.513 89.0147 585.356 Z\" fill=\"#000000\" fill-rule=\"nonzero\" fill-opacity=\"1\" /><path clip-path=\"url(#clip540)\" d=\"M110.82 504.338 L142.116 504.338 L142.116 512.856 L111.098 512.856 Q103.737 512.856 100.079 515.727 Q96.4221 518.597 96.4221 524.338 Q96.4221 531.236 100.82 535.217 Q105.218 539.199 112.811 539.199 L142.116 539.199 L142.116 547.764 L90.2647 547.764 L90.2647 539.199 L98.3202 539.199 Q93.6443 536.143 91.3295 532.023 Q89.0147 527.856 89.0147 522.44 Q89.0147 513.505 94.5702 508.921 Q100.079 504.338 110.82 504.338 Z\" fill=\"#000000\" fill-rule=\"nonzero\" fill-opacity=\"1\" /><path clip-path=\"url(#clip540)\" d=\"M98.135 453.227 L70.0796 453.227 L70.0796 444.709 L142.116 444.709 L142.116 453.227 L134.339 453.227 Q138.968 455.912 141.237 460.033 Q143.459 464.107 143.459 469.847 Q143.459 479.245 135.959 485.171 Q128.459 491.051 116.237 491.051 Q104.015 491.051 96.5147 485.171 Q89.0147 479.245 89.0147 469.847 Q89.0147 464.107 91.2832 460.033 Q93.5054 455.912 98.135 453.227 M116.237 482.255 Q125.635 482.255 131.005 478.412 Q136.329 474.523 136.329 467.764 Q136.329 461.005 131.005 457.116 Q125.635 453.227 116.237 453.227 Q106.839 453.227 101.515 457.116 Q96.1443 461.005 96.1443 467.764 Q96.1443 474.523 101.515 478.412 Q106.839 482.255 116.237 482.255 Z\" fill=\"#000000\" fill-rule=\"nonzero\" fill-opacity=\"1\" /><path clip-path=\"url(#clip540)\" d=\"M91.7925 394.107 L99.848 394.107 Q97.9961 397.718 97.0702 401.607 Q96.1443 405.496 96.1443 409.662 Q96.1443 416.005 98.0887 419.199 Q100.033 422.348 103.922 422.348 Q106.885 422.348 108.598 420.079 Q110.265 417.811 111.792 410.959 L112.441 408.042 Q114.385 398.968 117.95 395.172 Q121.468 391.329 127.811 391.329 Q135.033 391.329 139.246 397.07 Q143.459 402.764 143.459 412.764 Q143.459 416.931 142.626 421.468 Q141.839 425.959 140.218 430.959 L131.422 430.959 Q133.876 426.236 135.126 421.653 Q136.329 417.07 136.329 412.579 Q136.329 406.561 134.292 403.32 Q132.209 400.079 128.459 400.079 Q124.987 400.079 123.135 402.44 Q121.283 404.755 119.57 412.672 L118.876 415.635 Q117.209 423.551 113.783 427.07 Q110.311 430.588 104.292 430.588 Q96.9776 430.588 92.9962 425.403 Q89.0147 420.218 89.0147 410.681 Q89.0147 405.959 89.7092 401.792 Q90.4036 397.626 91.7925 394.107 Z\" fill=\"#000000\" fill-rule=\"nonzero\" fill-opacity=\"1\" /><path clip-path=\"url(#clip540)\" d=\"M70.1722 379.107 L70.1722 371.7 Q81.0981 364.755 91.561 361.329 Q102.024 357.857 112.348 357.857 Q122.718 357.857 133.227 361.329 Q143.737 364.755 154.616 371.7 L154.616 379.107 Q144.014 372.95 133.552 369.94 Q123.042 366.885 112.348 366.885 Q101.654 366.885 91.2369 369.94 Q80.8203 372.95 70.1722 379.107 Z\" fill=\"#000000\" fill-rule=\"nonzero\" fill-opacity=\"1\" /><polyline clip-path=\"url(#clip542)\" style=\"stroke:#009af9; stroke-linecap:round; stroke-linejoin:round; stroke-width:4; stroke-opacity:1; fill:none\" points=\"368.755,144.512 601.887,369.754 835.019,505.172 1068.15,594.559 1301.28,699.533 1534.42,751.419 1767.55,845.03 2000.68,966.918 2233.81,1078.74 \"/>\n",
       "<path clip-path=\"url(#clip542)\" d=\"M368.755 128.512 L352.755 144.512 L368.755 160.512 L384.755 144.512 L368.755 128.512 Z\" fill=\"#009af9\" fill-rule=\"evenodd\" fill-opacity=\"1\" stroke=\"#000000\" stroke-opacity=\"1\" stroke-width=\"3.2\"/>\n",
       "<path clip-path=\"url(#clip542)\" d=\"M601.887 353.754 L585.887 369.754 L601.887 385.754 L617.887 369.754 L601.887 353.754 Z\" fill=\"#009af9\" fill-rule=\"evenodd\" fill-opacity=\"1\" stroke=\"#000000\" stroke-opacity=\"1\" stroke-width=\"3.2\"/>\n",
       "<path clip-path=\"url(#clip542)\" d=\"M835.019 489.172 L819.019 505.172 L835.019 521.172 L851.019 505.172 L835.019 489.172 Z\" fill=\"#009af9\" fill-rule=\"evenodd\" fill-opacity=\"1\" stroke=\"#000000\" stroke-opacity=\"1\" stroke-width=\"3.2\"/>\n",
       "<path clip-path=\"url(#clip542)\" d=\"M1068.15 578.559 L1052.15 594.559 L1068.15 610.559 L1084.15 594.559 L1068.15 578.559 Z\" fill=\"#009af9\" fill-rule=\"evenodd\" fill-opacity=\"1\" stroke=\"#000000\" stroke-opacity=\"1\" stroke-width=\"3.2\"/>\n",
       "<path clip-path=\"url(#clip542)\" d=\"M1301.28 683.533 L1285.28 699.533 L1301.28 715.533 L1317.28 699.533 L1301.28 683.533 Z\" fill=\"#009af9\" fill-rule=\"evenodd\" fill-opacity=\"1\" stroke=\"#000000\" stroke-opacity=\"1\" stroke-width=\"3.2\"/>\n",
       "<path clip-path=\"url(#clip542)\" d=\"M1534.42 735.419 L1518.42 751.419 L1534.42 767.419 L1550.42 751.419 L1534.42 735.419 Z\" fill=\"#009af9\" fill-rule=\"evenodd\" fill-opacity=\"1\" stroke=\"#000000\" stroke-opacity=\"1\" stroke-width=\"3.2\"/>\n",
       "<path clip-path=\"url(#clip542)\" d=\"M1767.55 829.03 L1751.55 845.03 L1767.55 861.03 L1783.55 845.03 L1767.55 829.03 Z\" fill=\"#009af9\" fill-rule=\"evenodd\" fill-opacity=\"1\" stroke=\"#000000\" stroke-opacity=\"1\" stroke-width=\"3.2\"/>\n",
       "<path clip-path=\"url(#clip542)\" d=\"M2000.68 950.918 L1984.68 966.918 L2000.68 982.918 L2016.68 966.918 L2000.68 950.918 Z\" fill=\"#009af9\" fill-rule=\"evenodd\" fill-opacity=\"1\" stroke=\"#000000\" stroke-opacity=\"1\" stroke-width=\"3.2\"/>\n",
       "<path clip-path=\"url(#clip542)\" d=\"M2233.81 1062.74 L2217.81 1078.74 L2233.81 1094.74 L2249.81 1078.74 L2233.81 1062.74 Z\" fill=\"#009af9\" fill-rule=\"evenodd\" fill-opacity=\"1\" stroke=\"#000000\" stroke-opacity=\"1\" stroke-width=\"3.2\"/>\n",
       "<polyline clip-path=\"url(#clip542)\" style=\"stroke:#e26f46; stroke-linecap:round; stroke-linejoin:round; stroke-width:4; stroke-opacity:1; fill:none\" points=\"368.755,540.168 601.887,762.702 835.019,858.779 1068.15,940.732 1301.28,1025.31 1534.42,1047.14 1767.55,1156.23 2000.68,1185.95 2233.81,1287.03 \"/>\n",
       "<path clip-path=\"url(#clip542)\" d=\"M352.755 524.168 L352.755 556.168 L384.755 556.168 L384.755 524.168 L352.755 524.168 Z\" fill=\"#e26f46\" fill-rule=\"evenodd\" fill-opacity=\"1\" stroke=\"#000000\" stroke-opacity=\"1\" stroke-width=\"3.2\"/>\n",
       "<path clip-path=\"url(#clip542)\" d=\"M585.887 746.702 L585.887 778.702 L617.887 778.702 L617.887 746.702 L585.887 746.702 Z\" fill=\"#e26f46\" fill-rule=\"evenodd\" fill-opacity=\"1\" stroke=\"#000000\" stroke-opacity=\"1\" stroke-width=\"3.2\"/>\n",
       "<path clip-path=\"url(#clip542)\" d=\"M819.019 842.779 L819.019 874.779 L851.019 874.779 L851.019 842.779 L819.019 842.779 Z\" fill=\"#e26f46\" fill-rule=\"evenodd\" fill-opacity=\"1\" stroke=\"#000000\" stroke-opacity=\"1\" stroke-width=\"3.2\"/>\n",
       "<path clip-path=\"url(#clip542)\" d=\"M1052.15 924.732 L1052.15 956.732 L1084.15 956.732 L1084.15 924.732 L1052.15 924.732 Z\" fill=\"#e26f46\" fill-rule=\"evenodd\" fill-opacity=\"1\" stroke=\"#000000\" stroke-opacity=\"1\" stroke-width=\"3.2\"/>\n",
       "<path clip-path=\"url(#clip542)\" d=\"M1285.28 1009.31 L1285.28 1041.31 L1317.28 1041.31 L1317.28 1009.31 L1285.28 1009.31 Z\" fill=\"#e26f46\" fill-rule=\"evenodd\" fill-opacity=\"1\" stroke=\"#000000\" stroke-opacity=\"1\" stroke-width=\"3.2\"/>\n",
       "<path clip-path=\"url(#clip542)\" d=\"M1518.42 1031.14 L1518.42 1063.14 L1550.42 1063.14 L1550.42 1031.14 L1518.42 1031.14 Z\" fill=\"#e26f46\" fill-rule=\"evenodd\" fill-opacity=\"1\" stroke=\"#000000\" stroke-opacity=\"1\" stroke-width=\"3.2\"/>\n",
       "<path clip-path=\"url(#clip542)\" d=\"M1751.55 1140.23 L1751.55 1172.23 L1783.55 1172.23 L1783.55 1140.23 L1751.55 1140.23 Z\" fill=\"#e26f46\" fill-rule=\"evenodd\" fill-opacity=\"1\" stroke=\"#000000\" stroke-opacity=\"1\" stroke-width=\"3.2\"/>\n",
       "<path clip-path=\"url(#clip542)\" d=\"M1984.68 1169.95 L1984.68 1201.95 L2016.68 1201.95 L2016.68 1169.95 L1984.68 1169.95 Z\" fill=\"#e26f46\" fill-rule=\"evenodd\" fill-opacity=\"1\" stroke=\"#000000\" stroke-opacity=\"1\" stroke-width=\"3.2\"/>\n",
       "<path clip-path=\"url(#clip542)\" d=\"M2217.81 1271.03 L2217.81 1303.03 L2249.81 1303.03 L2249.81 1271.03 L2217.81 1271.03 Z\" fill=\"#e26f46\" fill-rule=\"evenodd\" fill-opacity=\"1\" stroke=\"#000000\" stroke-opacity=\"1\" stroke-width=\"3.2\"/>\n",
       "<path clip-path=\"url(#clip540)\" d=\"M1402.73 383.885 L2223.87 383.885 L2223.87 150.605 L1402.73 150.605  Z\" fill=\"#ffffff\" fill-rule=\"evenodd\" fill-opacity=\"1\"/>\n",
       "<polyline clip-path=\"url(#clip540)\" style=\"stroke:#000000; stroke-linecap:round; stroke-linejoin:round; stroke-width:4; stroke-opacity:1; fill:none\" points=\"1402.73,383.885 2223.87,383.885 2223.87,150.605 1402.73,150.605 1402.73,383.885 \"/>\n",
       "<polyline clip-path=\"url(#clip540)\" style=\"stroke:#009af9; stroke-linecap:round; stroke-linejoin:round; stroke-width:6; stroke-opacity:1; fill:none\" points=\"1424.7,228.365 1556.5,228.365 \"/>\n",
       "<path clip-path=\"url(#clip540)\" d=\"M1490.6 214.806 L1477.04 228.365 L1490.6 241.925 L1504.16 228.365 L1490.6 214.806 Z\" fill=\"#009af9\" fill-rule=\"evenodd\" fill-opacity=\"1\" stroke=\"#000000\" stroke-opacity=\"1\" stroke-width=\"6.82667\"/>\n",
       "<path clip-path=\"url(#clip540)\" d=\"M1578.46 202.445 L1588.92 202.445 L1602.15 237.723 L1615.44 202.445 L1625.9 202.445 L1625.9 254.285 L1619.05 254.285 L1619.05 208.765 L1605.69 244.32 L1598.64 244.32 L1585.27 208.765 L1585.27 254.285 L1578.46 254.285 L1578.46 202.445 Z\" fill=\"#000000\" fill-rule=\"nonzero\" fill-opacity=\"1\" /><path clip-path=\"url(#clip540)\" d=\"M1672.8 233.244 L1672.8 236.369 L1643.43 236.369 Q1643.85 242.966 1647.39 246.438 Q1650.96 249.876 1657.32 249.876 Q1661 249.876 1664.44 248.973 Q1667.91 248.07 1671.31 246.264 L1671.31 252.306 Q1667.87 253.764 1664.26 254.528 Q1660.65 255.292 1656.94 255.292 Q1647.63 255.292 1642.18 249.876 Q1636.76 244.459 1636.76 235.223 Q1636.76 225.674 1641.9 220.084 Q1647.08 214.459 1655.83 214.459 Q1663.67 214.459 1668.22 219.529 Q1672.8 224.563 1672.8 233.244 M1666.42 231.369 Q1666.35 226.126 1663.46 223.001 Q1660.62 219.876 1655.89 219.876 Q1650.55 219.876 1647.32 222.897 Q1644.12 225.917 1643.64 231.403 L1666.42 231.369 Z\" fill=\"#000000\" fill-rule=\"nonzero\" fill-opacity=\"1\" /><path clip-path=\"url(#clip540)\" d=\"M1689.61 204.355 L1689.61 215.397 L1702.77 215.397 L1702.77 220.362 L1689.61 220.362 L1689.61 241.473 Q1689.61 246.23 1690.89 247.584 Q1692.21 248.938 1696.21 248.938 L1702.77 248.938 L1702.77 254.285 L1696.21 254.285 Q1688.81 254.285 1686 251.542 Q1683.19 248.764 1683.19 241.473 L1683.19 220.362 L1678.5 220.362 L1678.5 215.397 L1683.19 215.397 L1683.19 204.355 L1689.61 204.355 Z\" fill=\"#000000\" fill-rule=\"nonzero\" fill-opacity=\"1\" /><path clip-path=\"url(#clip540)\" d=\"M1743.5 230.813 L1743.5 254.285 L1737.11 254.285 L1737.11 231.022 Q1737.11 225.501 1734.96 222.758 Q1732.8 220.015 1728.5 220.015 Q1723.33 220.015 1720.34 223.313 Q1717.35 226.612 1717.35 232.306 L1717.35 254.285 L1710.93 254.285 L1710.93 200.258 L1717.35 200.258 L1717.35 221.438 Q1719.64 217.931 1722.73 216.195 Q1725.86 214.459 1729.92 214.459 Q1736.62 214.459 1740.06 218.626 Q1743.5 222.758 1743.5 230.813 Z\" fill=\"#000000\" fill-rule=\"nonzero\" fill-opacity=\"1\" /><path clip-path=\"url(#clip540)\" d=\"M1771.31 219.876 Q1766.17 219.876 1763.19 223.903 Q1760.2 227.897 1760.2 234.876 Q1760.2 241.855 1763.15 245.883 Q1766.14 249.876 1771.31 249.876 Q1776.42 249.876 1779.4 245.848 Q1782.39 241.82 1782.39 234.876 Q1782.39 227.966 1779.4 223.938 Q1776.42 219.876 1771.31 219.876 M1771.31 214.459 Q1779.64 214.459 1784.4 219.876 Q1789.16 225.292 1789.16 234.876 Q1789.16 244.424 1784.4 249.876 Q1779.64 255.292 1771.31 255.292 Q1762.94 255.292 1758.19 249.876 Q1753.46 244.424 1753.46 234.876 Q1753.46 225.292 1758.19 219.876 Q1762.94 214.459 1771.31 214.459 Z\" fill=\"#000000\" fill-rule=\"nonzero\" fill-opacity=\"1\" /><path clip-path=\"url(#clip540)\" d=\"M1825.34 221.299 L1825.34 200.258 L1831.73 200.258 L1831.73 254.285 L1825.34 254.285 L1825.34 248.452 Q1823.32 251.924 1820.23 253.626 Q1817.18 255.292 1812.87 255.292 Q1805.82 255.292 1801.38 249.667 Q1796.97 244.042 1796.97 234.876 Q1796.97 225.709 1801.38 220.084 Q1805.82 214.459 1812.87 214.459 Q1817.18 214.459 1820.23 216.16 Q1823.32 217.827 1825.34 221.299 M1803.57 234.876 Q1803.57 241.924 1806.45 245.952 Q1809.37 249.945 1814.44 249.945 Q1819.51 249.945 1822.42 245.952 Q1825.34 241.924 1825.34 234.876 Q1825.34 227.827 1822.42 223.834 Q1819.51 219.806 1814.44 219.806 Q1809.37 219.806 1806.45 223.834 Q1803.57 227.827 1803.57 234.876 Z\" fill=\"#000000\" fill-rule=\"nonzero\" fill-opacity=\"1\" /><path clip-path=\"url(#clip540)\" d=\"M1874.44 248.383 L1898.91 248.383 L1898.91 254.285 L1866 254.285 L1866 248.383 Q1869.99 244.251 1876.87 237.306 Q1883.78 230.327 1885.55 228.313 Q1888.91 224.528 1890.23 221.924 Q1891.59 219.285 1891.59 216.751 Q1891.59 212.619 1888.67 210.015 Q1885.79 207.411 1881.14 207.411 Q1877.84 207.411 1874.16 208.556 Q1870.51 209.702 1866.35 212.029 L1866.35 204.945 Q1870.58 203.244 1874.26 202.376 Q1877.94 201.508 1881 201.508 Q1889.05 201.508 1893.84 205.536 Q1898.64 209.563 1898.64 216.299 Q1898.64 219.494 1897.42 222.376 Q1896.24 225.223 1893.08 229.112 Q1892.21 230.119 1887.56 234.945 Q1882.91 239.737 1874.44 248.383 Z\" fill=\"#000000\" fill-rule=\"nonzero\" fill-opacity=\"1\" /><polyline clip-path=\"url(#clip540)\" style=\"stroke:#e26f46; stroke-linecap:round; stroke-linejoin:round; stroke-width:6; stroke-opacity:1; fill:none\" points=\"1424.7,306.125 1556.5,306.125 \"/>\n",
       "<path clip-path=\"url(#clip540)\" d=\"M1477.04 292.566 L1477.04 319.685 L1504.16 319.685 L1504.16 292.566 L1477.04 292.566 Z\" fill=\"#e26f46\" fill-rule=\"evenodd\" fill-opacity=\"1\" stroke=\"#000000\" stroke-opacity=\"1\" stroke-width=\"6.82667\"/>\n",
       "<path clip-path=\"url(#clip540)\" d=\"M1585.48 285.969 L1585.48 305.448 L1594.3 305.448 Q1599.19 305.448 1601.87 302.913 Q1604.54 300.379 1604.54 295.691 Q1604.54 291.039 1601.87 288.504 Q1599.19 285.969 1594.3 285.969 L1585.48 285.969 M1578.46 280.205 L1594.3 280.205 Q1603.01 280.205 1607.46 284.164 Q1611.94 288.087 1611.94 295.691 Q1611.94 303.365 1607.46 307.288 Q1603.01 311.212 1594.3 311.212 L1585.48 311.212 L1585.48 332.045 L1578.46 332.045 L1578.46 280.205 Z\" fill=\"#000000\" fill-rule=\"nonzero\" fill-opacity=\"1\" /><path clip-path=\"url(#clip540)\" d=\"M1633.6 297.636 Q1628.46 297.636 1625.48 301.663 Q1622.49 305.657 1622.49 312.636 Q1622.49 319.615 1625.44 323.643 Q1628.43 327.636 1633.6 327.636 Q1638.71 327.636 1641.69 323.608 Q1644.68 319.58 1644.68 312.636 Q1644.68 305.726 1641.69 301.698 Q1638.71 297.636 1633.6 297.636 M1633.6 292.219 Q1641.94 292.219 1646.69 297.636 Q1651.45 303.052 1651.45 312.636 Q1651.45 322.184 1646.69 327.636 Q1641.94 333.052 1633.6 333.052 Q1625.24 333.052 1620.48 327.636 Q1615.76 322.184 1615.76 312.636 Q1615.76 303.052 1620.48 297.636 Q1625.24 292.219 1633.6 292.219 Z\" fill=\"#000000\" fill-rule=\"nonzero\" fill-opacity=\"1\" /><path clip-path=\"url(#clip540)\" d=\"M1662.04 278.018 L1668.43 278.018 L1668.43 332.045 L1662.04 332.045 L1662.04 278.018 Z\" fill=\"#000000\" fill-rule=\"nonzero\" fill-opacity=\"1\" /><path clip-path=\"url(#clip540)\" d=\"M1697.98 335.656 Q1695.27 342.601 1692.7 344.719 Q1690.13 346.837 1685.83 346.837 L1680.72 346.837 L1680.72 341.49 L1684.47 341.49 Q1687.11 341.49 1688.57 340.24 Q1690.03 338.99 1691.8 334.337 L1692.94 331.42 L1677.21 293.157 L1683.98 293.157 L1696.14 323.573 L1708.29 293.157 L1715.06 293.157 L1697.98 335.656 Z\" fill=\"#000000\" fill-rule=\"nonzero\" fill-opacity=\"1\" /><path clip-path=\"url(#clip540)\" d=\"M1756.21 308.573 L1756.21 332.045 L1749.82 332.045 L1749.82 308.782 Q1749.82 303.261 1747.67 300.518 Q1745.51 297.775 1741.21 297.775 Q1736.03 297.775 1733.05 301.073 Q1730.06 304.372 1730.06 310.066 L1730.06 332.045 L1723.64 332.045 L1723.64 293.157 L1730.06 293.157 L1730.06 299.198 Q1732.35 295.691 1735.44 293.955 Q1738.57 292.219 1742.63 292.219 Q1749.33 292.219 1752.77 296.386 Q1756.21 300.518 1756.21 308.573 Z\" fill=\"#000000\" fill-rule=\"nonzero\" fill-opacity=\"1\" /><path clip-path=\"url(#clip540)\" d=\"M1784.02 297.636 Q1778.88 297.636 1775.89 301.663 Q1772.91 305.657 1772.91 312.636 Q1772.91 319.615 1775.86 323.643 Q1778.85 327.636 1784.02 327.636 Q1789.12 327.636 1792.11 323.608 Q1795.1 319.58 1795.1 312.636 Q1795.1 305.726 1792.11 301.698 Q1789.12 297.636 1784.02 297.636 M1784.02 292.219 Q1792.35 292.219 1797.11 297.636 Q1801.87 303.052 1801.87 312.636 Q1801.87 322.184 1797.11 327.636 Q1792.35 333.052 1784.02 333.052 Q1775.65 333.052 1770.89 327.636 Q1766.17 322.184 1766.17 312.636 Q1766.17 303.052 1770.89 297.636 Q1775.65 292.219 1784.02 292.219 Z\" fill=\"#000000\" fill-rule=\"nonzero\" fill-opacity=\"1\" /><path clip-path=\"url(#clip540)\" d=\"M1842.73 300.622 Q1845.13 296.316 1848.46 294.268 Q1851.8 292.219 1856.31 292.219 Q1862.39 292.219 1865.69 296.49 Q1868.98 300.726 1868.98 308.573 L1868.98 332.045 L1862.56 332.045 L1862.56 308.782 Q1862.56 303.191 1860.58 300.483 Q1858.6 297.775 1854.54 297.775 Q1849.57 297.775 1846.69 301.073 Q1843.81 304.372 1843.81 310.066 L1843.81 332.045 L1837.39 332.045 L1837.39 308.782 Q1837.39 303.157 1835.41 300.483 Q1833.43 297.775 1829.3 297.775 Q1824.4 297.775 1821.52 301.108 Q1818.64 304.407 1818.64 310.066 L1818.64 332.045 L1812.21 332.045 L1812.21 293.157 L1818.64 293.157 L1818.64 299.198 Q1820.82 295.622 1823.88 293.92 Q1826.94 292.219 1831.14 292.219 Q1835.37 292.219 1838.32 294.372 Q1841.31 296.525 1842.73 300.622 Z\" fill=\"#000000\" fill-rule=\"nonzero\" fill-opacity=\"1\" /><path clip-path=\"url(#clip540)\" d=\"M1881.73 293.157 L1888.12 293.157 L1888.12 332.045 L1881.73 332.045 L1881.73 293.157 M1881.73 278.018 L1888.12 278.018 L1888.12 286.108 L1881.73 286.108 L1881.73 278.018 Z\" fill=\"#000000\" fill-rule=\"nonzero\" fill-opacity=\"1\" /><path clip-path=\"url(#clip540)\" d=\"M1919.16 312.497 Q1911.41 312.497 1908.43 314.268 Q1905.44 316.038 1905.44 320.309 Q1905.44 323.712 1907.66 325.726 Q1909.92 327.705 1913.78 327.705 Q1919.09 327.705 1922.28 323.955 Q1925.51 320.17 1925.51 313.92 L1925.51 312.497 L1919.16 312.497 M1931.9 309.858 L1931.9 332.045 L1925.51 332.045 L1925.51 326.143 Q1923.32 329.684 1920.06 331.386 Q1916.8 333.052 1912.07 333.052 Q1906.1 333.052 1902.56 329.719 Q1899.05 326.351 1899.05 320.726 Q1899.05 314.163 1903.43 310.83 Q1907.84 307.497 1916.55 307.497 L1925.51 307.497 L1925.51 306.872 Q1925.51 302.462 1922.59 300.066 Q1919.71 297.636 1914.47 297.636 Q1911.14 297.636 1907.98 298.434 Q1904.82 299.233 1901.9 300.83 L1901.9 294.927 Q1905.41 293.573 1908.71 292.914 Q1912 292.219 1915.13 292.219 Q1923.57 292.219 1927.73 296.594 Q1931.9 300.969 1931.9 309.858 Z\" fill=\"#000000\" fill-rule=\"nonzero\" fill-opacity=\"1\" /><path clip-path=\"url(#clip540)\" d=\"M1945.06 278.018 L1951.45 278.018 L1951.45 332.045 L1945.06 332.045 L1945.06 278.018 Z\" fill=\"#000000\" fill-rule=\"nonzero\" fill-opacity=\"1\" /><path clip-path=\"url(#clip540)\" d=\"M1987.7 280.205 L1994.71 280.205 L1994.71 302.115 L2017.98 280.205 L2027 280.205 L2001.27 304.372 L2028.84 332.045 L2019.61 332.045 L1994.71 307.08 L1994.71 332.045 L1987.7 332.045 L1987.7 280.205 Z\" fill=\"#000000\" fill-rule=\"nonzero\" fill-opacity=\"1\" /><path clip-path=\"url(#clip540)\" d=\"M2056.59 299.129 Q2055.51 298.504 2054.23 298.226 Q2052.98 297.914 2051.45 297.914 Q2046.03 297.914 2043.11 301.455 Q2040.23 304.962 2040.23 311.559 L2040.23 332.045 L2033.81 332.045 L2033.81 293.157 L2040.23 293.157 L2040.23 299.198 Q2042.25 295.657 2045.48 293.955 Q2048.71 292.219 2053.32 292.219 Q2053.98 292.219 2054.78 292.323 Q2055.58 292.393 2056.55 292.566 L2056.59 299.129 Z\" fill=\"#000000\" fill-rule=\"nonzero\" fill-opacity=\"1\" /><path clip-path=\"url(#clip540)\" d=\"M2079.47 335.656 Q2076.76 342.601 2074.19 344.719 Q2071.62 346.837 2067.32 346.837 L2062.21 346.837 L2062.21 341.49 L2065.96 341.49 Q2068.6 341.49 2070.06 340.24 Q2071.52 338.99 2073.29 334.337 L2074.43 331.42 L2058.71 293.157 L2065.48 293.157 L2077.63 323.573 L2089.78 293.157 L2096.55 293.157 L2079.47 335.656 Z\" fill=\"#000000\" fill-rule=\"nonzero\" fill-opacity=\"1\" /><path clip-path=\"url(#clip540)\" d=\"M2105.37 278.018 L2111.76 278.018 L2111.76 332.045 L2105.37 332.045 L2105.37 278.018 Z\" fill=\"#000000\" fill-rule=\"nonzero\" fill-opacity=\"1\" /><path clip-path=\"url(#clip540)\" d=\"M2140.2 297.636 Q2135.06 297.636 2132.07 301.663 Q2129.09 305.657 2129.09 312.636 Q2129.09 319.615 2132.04 323.643 Q2135.02 327.636 2140.2 327.636 Q2145.3 327.636 2148.29 323.608 Q2151.27 319.58 2151.27 312.636 Q2151.27 305.726 2148.29 301.698 Q2145.3 297.636 2140.2 297.636 M2140.2 292.219 Q2148.53 292.219 2153.29 297.636 Q2158.04 303.052 2158.04 312.636 Q2158.04 322.184 2153.29 327.636 Q2148.53 333.052 2140.2 333.052 Q2131.83 333.052 2127.07 327.636 Q2122.35 322.184 2122.35 312.636 Q2122.35 303.052 2127.07 297.636 Q2131.83 292.219 2140.2 292.219 Z\" fill=\"#000000\" fill-rule=\"nonzero\" fill-opacity=\"1\" /><path clip-path=\"url(#clip540)\" d=\"M2164.05 293.157 L2170.82 293.157 L2182.98 325.795 L2195.13 293.157 L2201.9 293.157 L2187.32 332.045 L2178.64 332.045 L2164.05 293.157 Z\" fill=\"#000000\" fill-rule=\"nonzero\" fill-opacity=\"1\" /></svg>\n"
      ]
     },
     "execution_count": 11,
     "metadata": {},
     "output_type": "execute_result"
    }
   ],
   "source": [
    "p5 = plot(βvec[1:9],t1[1:9],marker=:diamond,label=:\"Method 2\",yaxis=:log,  margin=5Plots.mm)\n",
    "plot!(βvec[1:9],t2[1:9],marker=:square,label=:\"Polynomial Krylov\", yaxis=:log)\n",
    "xticks!([0.1; 0.2; 0.3; 0.4; 0.5; 0.6; 0.7; 0.8; 0.9], string.([0.1; 0.2; 0.3; 0.4; 0.5; 0.6; 0.7; 0.8; 0.9]))\n",
    "yticks!([1; 2; 5;10], string.([1; 2; 5;10]))\n",
    "xlabel!(L\"\\beta\")\n",
    "ylabel!(\"Time (seconds)\")"
   ]
  },
  {
   "cell_type": "code",
   "execution_count": null,
   "metadata": {},
   "outputs": [],
   "source": [
    "size(W2)"
   ]
  },
  {
   "cell_type": "code",
   "execution_count": 13,
   "metadata": {},
   "outputs": [
    {
     "data": {
      "text/plain": [
       "\"/home/hdw27/Documents/AkhiezerSylvester/Notebooks/timings_beta_shortint_1_rnk5.pdf\""
      ]
     },
     "execution_count": 13,
     "metadata": {},
     "output_type": "execute_result"
    }
   ],
   "source": [
    "savefig(p5,\"timings_beta_shortint_1_rnk5.pdf\")"
   ]
  },
  {
   "cell_type": "code",
   "execution_count": null,
   "metadata": {},
   "outputs": [],
   "source": [
    "p6 = plot(βvec,i3,marker=:circle,label=:\"Method 1\",color=3,yaxis=:log, xaxis=:log)\n",
    "plot!(βvec,i1,marker=:diamond,label=:\"Method 2\",color=1)\n",
    "plot!(βvec,i2,marker=:square,label=:\"Polynomial Krylov\",color=2)\n",
    "xticks!([0.2; 0.3; 0.4; 0.5; 0.6; 0.7; 0.8; 0.9], string.([0.2; 0.3; 0.4; 0.5; 0.6; 0.7; 0.8; 0.9]))\n",
    "yticks!([10; 25; 50; 100; 150], string.([10; 25; 50; 100; 150]))\n",
    "xlabel!(L\"\\beta\")\n",
    "ylabel!(\"Iterations\")"
   ]
  },
  {
   "cell_type": "code",
   "execution_count": null,
   "metadata": {},
   "outputs": [],
   "source": [
    "#savefig(p6,\"timings_new2.pdf\")"
   ]
  },
  {
   "cell_type": "markdown",
   "metadata": {},
   "source": [
    "### Integral equations"
   ]
  },
  {
   "cell_type": "code",
   "execution_count": null,
   "metadata": {},
   "outputs": [],
   "source": [
    "n = 2000\n",
    "gd = JacobiMappedInterval(-1,1,0,0)\n",
    "sp = Jacobi(0,0,gd)\n",
    "K1 = (x,y) -> exp(-2abs(x-y))\n",
    "x = gd.grid(n)\n",
    "KM1 = K1.(x,x')\n",
    "a, b = OperatorApproximation.Jacobi_ab(0.0,0.0)\n",
    "w = 2OperatorApproximation.Gauss_quad(a,b,n-1)[2]\n",
    "W = diagm(sqrt.(w))\n",
    "A = W*KM1*W\n",
    "#id = Matrix(I,n,n)\n",
    "Ff(x) = cos(4x)/sqrt(1.04-x^2)\n",
    "Fg(x) = sin(20x)\n",
    "f = (x,y) -> Ff(x)*Fg(y)\n",
    "F = f.(x,x')\n",
    "FF = W*Ff.(x)\n",
    "FG = transpose(W*Fg.(x)) |> Array;"
   ]
  },
  {
   "cell_type": "code",
   "execution_count": null,
   "metadata": {},
   "outputs": [],
   "source": [
    "eval1 = opnorm(A)#norm(W*K1.(x,0))^2\n",
    "evalrangeIA = [1.0-0.1 1+eval1+0.1]\n",
    "bands = [-reverse(evalrangeIA); evalrangeIA]\n",
    "\n",
    "Utru = sylvester(I+A,I+A,-FF*FG);"
   ]
  },
  {
   "cell_type": "code",
   "execution_count": null,
   "metadata": {},
   "outputs": [],
   "source": [
    "param = get_params_inv(bands,I+A,-(I+A))"
   ]
  },
  {
   "cell_type": "code",
   "execution_count": null,
   "metadata": {},
   "outputs": [],
   "source": [
    "Wk, Zk, errs = sylv_operator_inv_low_rank(I+A,FF,FG,-(I+A),param; get_resid=true, tru_sol=Utru)\n",
    "Up = Wk*Zk\n",
    "U = W\\Up/W;"
   ]
  },
  {
   "cell_type": "code",
   "execution_count": null,
   "metadata": {},
   "outputs": [],
   "source": [
    "p1 = plot(errs,yaxis=:log,label=\"Errors\")\n",
    "yticks!([10^0, 10^-2, 10^-4, 10^-6, 10^-8, 10^-10, 10^-12, 10^-14])\n",
    "xlabel!(L\"k\")\n",
    "ylabel!(L\"\\Vert \\mathbf{U}_k-\\mathbf{U}_*\\Vert_2\")\n",
    "plot!(0:param.maxiter-1,((40n*(1-param.conv_rate))*param.conv_rate.^(0:param.maxiter-1)),label=\"Reference line\")"
   ]
  },
  {
   "cell_type": "code",
   "execution_count": null,
   "metadata": {},
   "outputs": [],
   "source": [
    "savefig(p1,\"int_eqn_err.pdf\")"
   ]
  },
  {
   "cell_type": "code",
   "execution_count": null,
   "metadata": {},
   "outputs": [],
   "source": [
    "p2 = contourf(x, x, real.(U'), levels=20, color=:turbo, right_margin=20Plots.px)\n",
    "xlabel!(L\"x\")\n",
    "ylabel!(L\"y\")"
   ]
  },
  {
   "cell_type": "code",
   "execution_count": null,
   "metadata": {},
   "outputs": [],
   "source": [
    "savefig(p2,\"int_eqn_sol.pdf\")"
   ]
  },
  {
   "cell_type": "code",
   "execution_count": null,
   "metadata": {},
   "outputs": [],
   "source": [
    "# Add extra term to integral equation\n",
    "n = 2000\n",
    "gd = JacobiMappedInterval(-1,1,0,0)\n",
    "sp = Jacobi(0,0,gd)\n",
    "K1 = (x,y) -> exp(-2abs(x-y))\n",
    "x = gd.grid(n)\n",
    "KM1 = K1.(x,x')\n",
    "a, b = OperatorApproximation.Jacobi_ab(0.0,0.0)\n",
    "w = 2OperatorApproximation.Gauss_quad(a,b,n-1)[2]\n",
    "W = diagm(sqrt.(w))\n",
    "A = W*KM1*W\n",
    "id = Matrix(I,n,n)\n",
    "Ff(x) = x^2\n",
    "Fg(x) = -exp(x)\n",
    "f = (x,y) -> Ff(x)*Fg(y)\n",
    "#F = f.(x,x')\n",
    "FF = W*Ff.(x)\n",
    "FG = transpose(W*Fg.(x)) |> Array\n",
    "\n",
    "K2 = (x,y) -> cos(20x)*exp(y)\n",
    "KM2 = K2.(x,x')\n",
    "#W = diagm(sqrt.(w))\n",
    "B1 = W*KM2*W\n",
    "\n",
    "#other kernel in low-rank form\n",
    "# K₄(x,y)=cosh(x)sinh(y)\n",
    "u2 = W*sinh.(x)\n",
    "v2 = cosh.(x')*W;"
   ]
  },
  {
   "cell_type": "code",
   "execution_count": null,
   "metadata": {},
   "outputs": [],
   "source": [
    "eval1 = opnorm(A)\n",
    "evalrangeIA = [1.0-0.1 1+eval1+0.1]\n",
    "bands = [-reverse(evalrangeIA); evalrangeIA];"
   ]
  },
  {
   "cell_type": "code",
   "execution_count": null,
   "metadata": {},
   "outputs": [],
   "source": [
    "param = get_params_inv(bands,I+A,-(I+A))\n",
    "\n",
    "function precondB(x)\n",
    "    X = reshape(x,n,n)\n",
    "    U = B1*X*u2\n",
    "    V = v2\n",
    "    Wk,Zk = sylv_operator_inv_low_rank(I+A,U,V,-(I+A),param)\n",
    "    return x+vec(Wk*Zk)\n",
    "end\n",
    "\n",
    "Bt = LinearMap(x -> precondB(x), n^2; issymmetric=false, ismutating=false)"
   ]
  },
  {
   "cell_type": "code",
   "execution_count": null,
   "metadata": {},
   "outputs": [],
   "source": [
    "Wk, Zk = sylv_operator_inv_low_rank(I+A,FF,FG,-(I+A),param)\n",
    "new_rhs = vec(Wk*Zk);"
   ]
  },
  {
   "cell_type": "code",
   "execution_count": null,
   "metadata": {},
   "outputs": [],
   "source": [
    "(vecsol,hist) = gmres(Bt, new_rhs;log=true)\n",
    "Up = reshape(vecsol,n,n)\n",
    "U = W\\Up/W\n",
    "hist"
   ]
  },
  {
   "cell_type": "code",
   "execution_count": null,
   "metadata": {},
   "outputs": [],
   "source": [
    "p3 = contourf(x, x, real.(U'), levels=20, color=:turbo, right_margin=25Plots.px)\n",
    "xlabel!(L\"x\")\n",
    "ylabel!(L\"y\")"
   ]
  },
  {
   "cell_type": "code",
   "execution_count": null,
   "metadata": {},
   "outputs": [],
   "source": [
    "savefig(p3,\"int_eqn_sol2a.pdf\")"
   ]
  },
  {
   "cell_type": "code",
   "execution_count": null,
   "metadata": {},
   "outputs": [],
   "source": [
    "n = 2000\n",
    "gd = JacobiMappedInterval(-1,1,0,0)\n",
    "sp = Jacobi(0,0,gd)\n",
    "K1 = (x,y) -> exp(-(x-y)^2)\n",
    "x = gd.grid(n)\n",
    "KM1 = K1.(x,x')\n",
    "a, b = OperatorApproximation.Jacobi_ab(0.0,0.0)\n",
    "w = 2OperatorApproximation.Gauss_quad(a,b,n-1)[2]\n",
    "W = diagm(sqrt.(w))\n",
    "A = W*KM1*W\n",
    "#id = Matrix(I,n,n)\n",
    "Ff(x) = 1/(x^4+2)\n",
    "Fg(x) = -sin(10x)\n",
    "f = (x,y) -> Ff(x)*Fg(y)\n",
    "#F = f.(x,x')\n",
    "FF = W*Ff.(x)\n",
    "FG = transpose(W*Fg.(x)) |> Array\n",
    "\n",
    "K2 = (x,y) -> y*sech(x)^2\n",
    "KM2 = K2.(x,x')\n",
    "B1 = W*KM2*W\n",
    "\n",
    "#other kernel in low-rank form\n",
    "# K₄ = exp(x-y)\n",
    "u2 = W*exp.(-x)\n",
    "v2 = exp.(x')*W;"
   ]
  },
  {
   "cell_type": "code",
   "execution_count": null,
   "metadata": {},
   "outputs": [],
   "source": [
    "eval1 = opnorm(A)\n",
    "evalrangeIA = [1.0-0.1 1+eval1+0.1]\n",
    "bands = [-reverse(evalrangeIA); evalrangeIA]"
   ]
  },
  {
   "cell_type": "code",
   "execution_count": null,
   "metadata": {},
   "outputs": [],
   "source": [
    "param = get_params_inv(bands,I+A,-(I+A))\n",
    "\n",
    "Wk, Zk = sylv_operator_inv_low_rank(I+A,FF,FG,-(I+A),param)\n",
    "new_rhs = vec(Wk*Zk);"
   ]
  },
  {
   "cell_type": "code",
   "execution_count": null,
   "metadata": {},
   "outputs": [],
   "source": [
    "(vecsol,hist) = gmres(Bt, new_rhs;log=true)\n",
    "Up = reshape(vecsol,n,n)\n",
    "U = W\\Up/W\n",
    "hist"
   ]
  },
  {
   "cell_type": "code",
   "execution_count": null,
   "metadata": {},
   "outputs": [],
   "source": [
    "p4 = contourf(x, x, real.(U'), color=:turbo, right_margin=26Plots.px)\n",
    "xlabel!(L\"x\")\n",
    "ylabel!(L\"y\")"
   ]
  },
  {
   "cell_type": "code",
   "execution_count": null,
   "metadata": {},
   "outputs": [],
   "source": [
    "savefig(p4,\"int_eqn_sol2b.pdf\")"
   ]
  },
  {
   "cell_type": "markdown",
   "metadata": {},
   "source": [
    "### Poisson/Helmholtz equation example"
   ]
  },
  {
   "cell_type": "code",
   "execution_count": null,
   "metadata": {},
   "outputs": [],
   "source": [
    "function Jacobi_ab(a,b)\n",
    "    bfun = n -> (a+b==-1 && n==0) ? √(2*a*b) :\n",
    "        2*sqrt(n+1)*sqrt(n+a+1)*sqrt(n+b+1)*sqrt(n+a+b+1)/\n",
    "        ((2n + a +b + 2)*sqrt(2n + a +b + 3)*sqrt(2n + a +b + 1))\n",
    "    afun = n -> ((a+b==0 || a+b==-1) && n==0) ? (b-a)/(a+b+2) :\n",
    "        (b^2 - a^2)/((2n + a +b + 2)*(2n + a +b))\n",
    "    return (n -> n < 0 ? a : afun(n),n -> n < 0 ? b : bfun(n))  # this is not needed but lets us get access to the Jacobi parameters after the fact\n",
    "end\n",
    "\n",
    "function d(j,λ)\n",
    "    j*sqrt(2*(j + 2λ)/j*(λ+1)/(2λ+1))\n",
    "end\n",
    "\n",
    "function Diff(λ,n)\n",
    "    Bidiagonal(fill(0.0,n),[d(j,λ) for j=1:n-1], :U)\n",
    "end\n",
    "\n",
    "function poly(a,b,n,x) # a naive use of the three-term recurrence\n",
    "    p = fill(0.0im,n)\n",
    "    p[1] = 1.0 # p_0\n",
    "    p[2] = x.*p[1] - a(0)*p[1] # compute p_1\n",
    "    p[2] /= b(0)\n",
    "    for j = 1:n-2 # compute p_n\n",
    "        p[j+2] = x.*p[j+1] - a(j)*p[j+1] - b(j-1)*p[j]\n",
    "        p[j+2] /= b(j)\n",
    "    end\n",
    "    p\n",
    "end\n",
    "\n",
    "function poly(a,b,n,z::Vector)\n",
    "    vcat(map(zz -> poly(a,b,n,zz) |> transpose , z)...)\n",
    "end\n",
    "\n",
    "function poly(λ::Number,n,z::Vector)\n",
    "    a, b = Jacobi_ab(λ - 0.5,λ - 0.5)\n",
    "    poly(a,b,n,z)\n",
    "end\n",
    "\n",
    "Tgrid = n -> -cos.( (2*(1:n) .- 1)/(2*n) * pi )"
   ]
  },
  {
   "cell_type": "code",
   "execution_count": null,
   "metadata": {},
   "outputs": [],
   "source": [
    "n = 20\n",
    "xgrid = Tgrid(n - 2)\n",
    "ED₂ = poly(2.0,n,xgrid)*(Diff(1.0,n)*Diff(0.0,n))\n",
    "B = poly(0.0,n,[-1.0,1.0])\n",
    "Q, ~ = qr(B')\n",
    "T = Q[:,3:end]\n",
    "ET = poly(0.0,n,xgrid)*T\n",
    "A = ET\\(ED₂*T)-(49/2)I\n",
    "\n",
    "Ff(x) = cos(x)\n",
    "Fg(x) = sin(x)\n",
    "FF = ET\\Ff.(xgrid)\n",
    "FG = transpose(ET\\Fg.(xgrid)) |> Array\n",
    "\n",
    "end1 = eigmin(real(A))-100.\n",
    "end2 = eigmax(real(A))+1\n",
    "evalrangeA = [end1 end2]\n",
    "bands = [evalrangeA; -reverse(evalrangeA)]"
   ]
  },
  {
   "cell_type": "code",
   "execution_count": null,
   "metadata": {},
   "outputs": [],
   "source": [
    "param = get_params(bands,-A'|>Array,A; tol=1e-6, unbounded_op=true, num_quad_pts=5000);"
   ]
  },
  {
   "cell_type": "code",
   "execution_count": null,
   "metadata": {},
   "outputs": [],
   "source": [
    "tsol = sylvester(A,A',-FF*FG)\n",
    "W,Z,erv = lowrank_block_svd(-A'|>Array,-FF,FG,A,param;get_resid=true,tru_sol=tsol);"
   ]
  },
  {
   "cell_type": "code",
   "execution_count": null,
   "metadata": {},
   "outputs": [],
   "source": [
    "p0 = plot(erv,yaxis=:log,label=\"Errors\")\n",
    "xlabel!(L\"k\")\n",
    "ylabel!(L\"\\Vert \\mathbf{Y}_k-\\mathbf{Y}_*\\Vert_2\")\n",
    "yticks!([10^0, 10^-2, 10^-4, 10^-6, 10^-8, 10^-10, 10^-12, 10^-14])\n",
    "plot!(0:param.maxiter-1,((10(n-2)*(1-1/param.conv_rate))*param.conv_rate.^(-(0:param.maxiter-1))),label=\"Reference line\")"
   ]
  },
  {
   "cell_type": "code",
   "execution_count": null,
   "metadata": {},
   "outputs": [],
   "source": [
    "savefig(p0,\"helmholtz_err.pdf\")"
   ]
  },
  {
   "cell_type": "code",
   "execution_count": null,
   "metadata": {},
   "outputs": [],
   "source": [
    "Y = W*Z\n",
    "X = T*Y*T';"
   ]
  },
  {
   "cell_type": "code",
   "execution_count": null,
   "metadata": {},
   "outputs": [],
   "source": [
    "x = -1:0.01:1 |> Array#[-1; xgrid; 1]\n",
    "XX = poly(0.0,n,x)*X*poly(0.0,n,x)'\n",
    "p1 = contourf(x, x, real.(XX'), color=:turbo, right_margin=46Plots.px)\n",
    "xlabel!(L\"x\")\n",
    "ylabel!(L\"y\")"
   ]
  },
  {
   "cell_type": "code",
   "execution_count": null,
   "metadata": {},
   "outputs": [],
   "source": [
    "savefig(p1,\"helmholtz.pdf\")"
   ]
  },
  {
   "cell_type": "code",
   "execution_count": null,
   "metadata": {},
   "outputs": [],
   "source": [
    "n = 10\n",
    "xgrid = Tgrid(n - 2)\n",
    "ED₂ = poly(2.0,n,xgrid)*(Diff(1.0,n)*Diff(0.0,n))\n",
    "B = poly(0.0,n,[-1.0,1.0])\n",
    "Q, ~ = qr(B')\n",
    "T = Q[:,3:end]\n",
    "ET = poly(0.0,n,xgrid)*T\n",
    "A = ET\\(ED₂*T)\n",
    "\n",
    "Ff(x) = cos(4x)\n",
    "Fg(x) = sign(x)\n",
    "FF = ET\\Ff.(xgrid)\n",
    "FG = transpose(ET\\Fg.(xgrid)) |> Array\n",
    "\n",
    "end1 = eigmin(real(A))-100.\n",
    "end2 = eigmax(real(A))+0.1\n",
    "evalrangeA = [end1 end2]\n",
    "bands = [evalrangeA; -reverse(evalrangeA)]"
   ]
  },
  {
   "cell_type": "code",
   "execution_count": null,
   "metadata": {},
   "outputs": [],
   "source": [
    "param = get_params(bands,-A'|>Array,A; tol=1e-10, unbounded_op=true, num_quad_pts=5000);"
   ]
  },
  {
   "cell_type": "code",
   "execution_count": null,
   "metadata": {},
   "outputs": [],
   "source": [
    "tsol = sylvester(A,A',-FF*FG)\n",
    "W,Z,erv = lowrank_block_svd(-A'|>Array,-FF,FG,A,param;get_resid=true,tru_sol=tsol);"
   ]
  },
  {
   "cell_type": "code",
   "execution_count": null,
   "metadata": {},
   "outputs": [],
   "source": [
    "p2 = plot(erv,yaxis=:log,label=\"Errors\", right_margin=10Plots.px)\n",
    "xlabel!(L\"k\")\n",
    "yticks!([10^0, 10^-2, 10^-4, 10^-6, 10^-8, 10^-10, 10^-12, 10^-14])\n",
    "ylabel!(L\"\\Vert \\mathbf{Y}_k-\\mathbf{Y}_*\\Vert_2\")\n",
    "plot!(0:param.maxiter-1,((10(n-2)*(1-1/param.conv_rate))*param.conv_rate.^(-(0:param.maxiter-1))),label=\"Reference line\")"
   ]
  },
  {
   "cell_type": "code",
   "execution_count": null,
   "metadata": {},
   "outputs": [],
   "source": [
    "savefig(p2,\"poisson_error.pdf\")"
   ]
  },
  {
   "cell_type": "code",
   "execution_count": null,
   "metadata": {},
   "outputs": [],
   "source": [
    "Y = W*Z\n",
    "X = T*Y*T'\n",
    "\n",
    "x = -1:0.01:1 |> Array#[-1; xgrid; 1]\n",
    "XX = poly(0.0,n,x)*X*poly(0.0,n,x)'\n",
    "\n",
    "p3 = contourf(x, x, real.(XX'), color=:turbo, right_margin=35Plots.px)\n",
    "xlabel!(L\"x\")\n",
    "ylabel!(L\"y\")"
   ]
  },
  {
   "cell_type": "code",
   "execution_count": null,
   "metadata": {},
   "outputs": [],
   "source": [
    "savefig(p3,\"poisson.pdf\")"
   ]
  },
  {
   "cell_type": "markdown",
   "metadata": {},
   "source": [
    "### Fr\\'echet derivatives"
   ]
  },
  {
   "cell_type": "code",
   "execution_count": null,
   "metadata": {},
   "outputs": [],
   "source": [
    "M = (a,b) ->  (x -> (b-a)/2*(x .+ (b+a)/(b-a)))"
   ]
  },
  {
   "cell_type": "code",
   "execution_count": null,
   "metadata": {},
   "outputs": [],
   "source": [
    "function sign_newton(X;maxiter=20)\n",
    "    Xk = X\n",
    "    for k = 1:maxiter\n",
    "        Xk = (Xk+inv(Xk))/2\n",
    "    end\n",
    "    Xk\n",
    "end"
   ]
  },
  {
   "cell_type": "code",
   "execution_count": null,
   "metadata": {},
   "outputs": [],
   "source": [
    "function frec_newton(X,E;maxiter=20) #computes Frechet derivative of sign function\n",
    "    Xk = X\n",
    "    Ek = E\n",
    "    for k = 1:maxiter\n",
    "        Ek = (Ek-Xk\\Ek/Xk)/2\n",
    "        Xk = (Xk+inv(Xk))/2\n",
    "    end\n",
    "    Ek\n",
    "end"
   ]
  },
  {
   "cell_type": "code",
   "execution_count": null,
   "metadata": {},
   "outputs": [],
   "source": [
    "Random.seed!(123)\n",
    "#generate matrix A\n",
    "N = 200\n",
    "bands = [-2. -0.5; 0.5 6.]\n",
    "n₁ = ceil(N*(bands[1,2]-bands[1,1])/(bands[1,2]-bands[1,1]+bands[2,2]-bands[2,1])) |> Int\n",
    "μ₁ = M(bands[1,1],bands[1,2])(2*0.9*rand(n₁).-1)\n",
    "μ₂ = M(bands[2,1],bands[2,2])(2*0.9*rand(N-n₁).-1)\n",
    "Ad = diagm([μ₁; μ₂])\n",
    "P = rand(N,N)\n",
    "Q,R = qr(P)\n",
    "A = Q\\(Ad*Q)\n",
    "\n",
    "#generate E=E1*E2\n",
    "r = 4 #rank of E\n",
    "E1 = randn(N,r)\n",
    "E2 = randn(r,N)\n",
    "E = E1*E2\n",
    "\n",
    "block_mat = [A zeros(N,N); E A]\n",
    "truLb = frec_newton(A,E);#sign_newton(block_mat)[N+1:end,1:N];"
   ]
  },
  {
   "cell_type": "code",
   "execution_count": null,
   "metadata": {},
   "outputs": [],
   "source": [
    "param = get_params(bands,A,A);"
   ]
  },
  {
   "cell_type": "code",
   "execution_count": null,
   "metadata": {},
   "outputs": [],
   "source": [
    "W,Z,erv = lowrank_block_svd(A,E1,E2,A,param; get_resid=true, tru_sol=truLb/2)\n",
    "L = 2W*Z;"
   ]
  },
  {
   "cell_type": "code",
   "execution_count": null,
   "metadata": {},
   "outputs": [],
   "source": [
    "p0 = plot(2erv,yaxis=:log,label=\"Errors\")\n",
    "xlabel!(L\"k\")\n",
    "ylabel!(L\"\\Vert \\mathbf{L}_k-L_{\\mathrm{sign}}(\\mathbf{A},\\mathbf{E})\\Vert_2\")\n",
    "yticks!([10^0, 10^-2, 10^-4, 10^-6, 10^-8, 10^-10, 10^-12, 10^-14])\n",
    "plot!(0:param.maxiter-1,((20N*(1-1/param.conv_rate))*param.conv_rate.^(-(0:param.maxiter-1))),label=\"Reference line\")"
   ]
  },
  {
   "cell_type": "code",
   "execution_count": null,
   "metadata": {},
   "outputs": [],
   "source": [
    "savefig(p0,\"sign-frechet.pdf\")"
   ]
  },
  {
   "cell_type": "code",
   "execution_count": null,
   "metadata": {},
   "outputs": [],
   "source": [
    "numiter = 25\n",
    "num_quad_pts = 800\n",
    "\n",
    "cc(j) = (bands[j,1]+bands[j,2])/2\n",
    "rr(j) = 1.25*(bands[j,2]-bands[j,1])/2\n",
    "\n",
    "ctrpts = [] #quadrature nodes\n",
    "ptsper = [0; 0]\n",
    "weights = [] #quadrature weights\n",
    "total_length = sum(bands[:,2]-bands[:,1])\n",
    "for j = 1:2\n",
    "    ptsper[j] = round(num_quad_pts*(bands[j,2]-bands[j,1])/total_length)\n",
    "    append!(ctrpts,rr(j)*zgrid(ptsper[j]).+cc(j) .|> Complex)\n",
    "    append!(weights,2π*im*rr(j)*(zgrid(ptsper[j]))/ptsper[j] .|> Complex)\n",
    "end\n",
    "\n",
    "(avec,bvec,ints) = get_n_coeffs_and_ints_akh(bands, numiter, ctrpts)\n",
    "\n",
    "α = zeros(ComplexF64,numiter+1)\n",
    "for j = 1:length(ctrpts)\n",
    "    α -= exp(ctrpts[j])*weights[j]*ints[:,j]\n",
    "end\n",
    "\n",
    "truLexp = exp(block_mat)[N+1:end,1:N];"
   ]
  },
  {
   "cell_type": "code",
   "execution_count": null,
   "metadata": {},
   "outputs": [],
   "source": [
    "W,Z,erv = lowrank_block_svd(A,E1,E2,A,2α,avec,bvec,numiter; get_resid=true, tru_sol=truLexp)\n",
    "L = W*Z;"
   ]
  },
  {
   "cell_type": "code",
   "execution_count": null,
   "metadata": {},
   "outputs": [],
   "source": [
    "p1 = plot(erv,yaxis=:log,label=\"Errors\")\n",
    "yticks!([10^0, 10^-2, 10^-4, 10^-6, 10^-8, 10^-10, 10^-12, 10^-14])\n",
    "yaxis!([1e-12,11000])\n",
    "xlabel!(L\"k\")\n",
    "ylabel!(L\"\\Vert \\mathbf{L}_k-L_{\\exp}(\\mathbf{A},\\mathbf{E})\\Vert_2\")\n",
    "#plot!(0:param.maxiter-1,((10N*(1-1/param.conv_rate))*param.conv_rate.^(-(0:param.maxiter-1))),label=\"Reference line\")"
   ]
  },
  {
   "cell_type": "code",
   "execution_count": null,
   "metadata": {},
   "outputs": [],
   "source": [
    "savefig(p1,\"exp-frechet.pdf\")"
   ]
  },
  {
   "cell_type": "markdown",
   "metadata": {},
   "source": [
    "### Eigenvalues off intervals"
   ]
  },
  {
   "cell_type": "code",
   "execution_count": null,
   "metadata": {},
   "outputs": [],
   "source": [
    "bands = [-2 -0.5; 0.5 6]\n",
    "\n",
    "Random.seed!(123)\n",
    "\n",
    "#generate dense positive definite matrices with eigenvalues \n",
    "evalrangeA = [0.5 6.] #eigenvalues of A\n",
    "evalrangeB = [0.5 2.] #eigenvalues of B\n",
    "N, N₂ = 300, 100 #dimensions of A and B\n",
    "r = 2 #rank of RHS\n",
    "\n",
    "#generate B\n",
    "μ2 = M(evalrangeB[1],evalrangeB[2])(0.8*(2rand(N₂).-1))\n",
    "D = diagm(μ2)+randn(N₂,N₂)/sqrt(N₂)\n",
    "P = rand(N₂,N₂)\n",
    "Q,R = qr(P)\n",
    "B = Q\\(D*Q);\n",
    "B = -B\n",
    "\n",
    "#generate A\n",
    "μ = M(evalrangeA[1],evalrangeA[2])(0.95*(2rand(N).-1))\n",
    "A = diagm(μ)+randn(N,N)/sqrt(N)\n",
    "P = rand(N,N)\n",
    "Q,R = qr(P)\n",
    "A = Q\\(A*Q)\n",
    "\n",
    "bands = [-reverse(evalrangeB); evalrangeA] #eigenvalues of block system\n",
    "\n",
    "#generate RHS\n",
    "U = randn(N₂,r)\n",
    "V = randn(r,N)\n",
    "\n",
    "H = [A zeros(N,N₂); zeros(N₂,N) B];"
   ]
  },
  {
   "cell_type": "code",
   "execution_count": null,
   "metadata": {},
   "outputs": [],
   "source": [
    "g0 = golden_section(bands)\n",
    "\n",
    "xv = bands[1,1]-0.2:0.01:bands[end,2]+0.2\n",
    "yv = LinRange(-1.,1.,length(xv))\n",
    "make_mat(x, y) = x+im*y\n",
    "zv = @. make_mat(xv', yv);\n",
    "gzp = map(z->get_n_coeffs_and_ints_akh(bands, 0, z)[4][1],zv);"
   ]
  },
  {
   "cell_type": "code",
   "execution_count": null,
   "metadata": {},
   "outputs": [],
   "source": [
    "p1 = contour(xv, yv, real.(gzp), levels=[0.005; 0.1; 0.17; 0.25], color=:black,colorbar=false)\n",
    "contour!(xv, yv, real.(gzp), levels=[g0], linecolor=:red, linestyle=:dash, colorbar=false)\n",
    "xlabel!(L\"\\mathrm{Re}(z)\")\n",
    "ylabel!(L\"\\mathrm{Im}(z)\")\n",
    "plot!(eigvals(H),seriestype=:scatter,label=:false)\n",
    "worst_eig = -1.6287090008859226 + 0.15421322082385427im\n",
    "plot!([worst_eig; conj(worst_eig)],seriestype=:scatter,label=:false)"
   ]
  },
  {
   "cell_type": "code",
   "execution_count": null,
   "metadata": {},
   "outputs": [],
   "source": [
    "savefig(p1,\"eigvals_bern.pdf\")"
   ]
  },
  {
   "cell_type": "code",
   "execution_count": null,
   "metadata": {},
   "outputs": [],
   "source": [
    "egt = exp(g0)\n",
    "ge = real(get_n_coeffs_and_ints_akh(bands, 0, worst_eig)[4][1])\n",
    "param = get_params(bands,A,B; gt = g0-ge, num_quad_pts=1500)\n",
    "tru_sln = sylvester(-B,A,-U*V);"
   ]
  },
  {
   "cell_type": "code",
   "execution_count": null,
   "metadata": {},
   "outputs": [],
   "source": [
    "W,Z,erv = lowrank_block_svd(A,U,V,B,param; get_resid=true, tru_sol=tru_sln)"
   ]
  },
  {
   "cell_type": "code",
   "execution_count": null,
   "metadata": {},
   "outputs": [],
   "source": [
    "p2 = plot(2erv,yaxis=:log,label=\"Errors\")\n",
    "xlabel!(L\"k\")\n",
    "ylabel!(L\"\\Vert \\mathbf{X}_k-\\mathbf{X}_*\\Vert_2\")\n",
    "yticks!([10^0, 10^-2, 10^-4, 10^-6, 10^-8, 10^-10, 10^-12, 10^-14])\n",
    "yaxis!([1e-16,3000])\n",
    "plot!(0:param.maxiter-1,((10(N+N₂)*(1-1/param.conv_rate))*param.conv_rate.^(-(0:param.maxiter-1))),label=\"True reference line\")\n",
    "plot!(0:param.maxiter-1,((10(N+N₂)*(1-1/egt))*egt.^(-(0:param.maxiter-1))),label=\"Naive reference line\", linestyle=:dash)"
   ]
  },
  {
   "cell_type": "code",
   "execution_count": null,
   "metadata": {},
   "outputs": [],
   "source": [
    "savefig(p2,\"eig_conv.pdf\")"
   ]
  },
  {
   "cell_type": "code",
   "execution_count": null,
   "metadata": {},
   "outputs": [],
   "source": []
  }
 ],
 "metadata": {
  "kernelspec": {
   "display_name": "Julia 1.11.5",
   "language": "julia",
   "name": "julia-1.11"
  },
  "language_info": {
   "file_extension": ".jl",
   "mimetype": "application/julia",
   "name": "julia",
   "version": "1.11.5"
  }
 },
 "nbformat": 4,
 "nbformat_minor": 4
}
